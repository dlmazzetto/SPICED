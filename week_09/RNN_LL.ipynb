{
 "cells": [
  {
   "cell_type": "markdown",
   "metadata": {},
   "source": [
    "---"
   ]
  },
  {
   "cell_type": "markdown",
   "metadata": {},
   "source": [
    "### Recurrent Neural Network"
   ]
  },
  {
   "cell_type": "code",
   "execution_count": 1,
   "metadata": {},
   "outputs": [],
   "source": [
    "from tensorflow.keras.models import Sequential\n",
    "from tensorflow.keras.layers import Dense, LSTM, Embedding\n",
    "from tensorflow.keras.preprocessing import sequence\n",
    "from tensorflow.keras.utils import to_categorical\n",
    "from sklearn.datasets import fetch_20newsgroups\n",
    "import matplotlib.pyplot as plt\n",
    "import numpy as np\n",
    "import re"
   ]
  },
  {
   "cell_type": "code",
   "execution_count": 7,
   "metadata": {},
   "outputs": [],
   "source": [
    "categories = ['soc.religion.christian', 'talk.politics.guns']"
   ]
  },
  {
   "cell_type": "code",
   "execution_count": 8,
   "metadata": {},
   "outputs": [],
   "source": [
    "data = fetch_20newsgroups(categories=categories,remove=['headers', 'footers'])"
   ]
  },
  {
   "cell_type": "code",
   "execution_count": 9,
   "metadata": {},
   "outputs": [
    {
     "data": {
      "text/plain": [
       "['soc.religion.christian', 'talk.politics.guns']"
      ]
     },
     "execution_count": 9,
     "metadata": {},
     "output_type": "execute_result"
    }
   ],
   "source": [
    "data['target_names']"
   ]
  },
  {
   "cell_type": "code",
   "execution_count": 10,
   "metadata": {},
   "outputs": [],
   "source": [
    "X = data['data']"
   ]
  },
  {
   "cell_type": "code",
   "execution_count": 11,
   "metadata": {},
   "outputs": [],
   "source": [
    "y = data['target'] #0 means christianity, 1 means guns"
   ]
  },
  {
   "cell_type": "markdown",
   "metadata": {},
   "source": [
    "### Text preprocessing \n",
    "\n",
    "* split \n",
    "* drop special characters and stop words\n",
    "* tokenisation\n",
    "* vectorize = we'll use keras embedding layer for that"
   ]
  },
  {
   "cell_type": "code",
   "execution_count": 16,
   "metadata": {},
   "outputs": [],
   "source": [
    "def clean_text(text,label,cap):\n",
    "    clean_text = []\n",
    "    clean_label = []\n",
    "    for i, email in enumerate(text):\n",
    "        email = email.lower()\n",
    "        email = re.findall('(?u)\\\\b\\\\w\\\\w+\\\\b', email)\n",
    "        if len(email) <= cap:\n",
    "            clean_text.append(email)\n",
    "            clean_label.append(label[i])\n",
    "    return clean_text, clean_label"
   ]
  },
  {
   "cell_type": "code",
   "execution_count": null,
   "metadata": {},
   "outputs": [],
   "source": [
    "#we could split the long emails, or we could drop them\n",
    "# better not to lose data, but i want my model to train fast"
   ]
  },
  {
   "cell_type": "code",
   "execution_count": 24,
   "metadata": {},
   "outputs": [],
   "source": [
    "clean_X, clean_y = clean_text(X,y,300)"
   ]
  },
  {
   "cell_type": "markdown",
   "metadata": {},
   "source": [
    "#### Make a vocab list"
   ]
  },
  {
   "cell_type": "code",
   "execution_count": 27,
   "metadata": {},
   "outputs": [],
   "source": [
    "vocab_list = []\n",
    "for email in clean_X:\n",
    "    for word in email:\n",
    "        vocab_list.append(word)\n",
    "        \n",
    "vocab_list = list(set(vocab_list))\n",
    "vocab_size = len(vocab_list) + 1"
   ]
  },
  {
   "cell_type": "markdown",
   "metadata": {},
   "source": [
    "#### Make a dictionary for words to numbers - an index but not like full text search!"
   ]
  },
  {
   "cell_type": "code",
   "execution_count": 28,
   "metadata": {},
   "outputs": [],
   "source": [
    "word_to_num = {}\n",
    "\n",
    "for i, word in enumerate(vocab_list):\n",
    "    word_to_num[word] = i+1 #i+1 because we're reserving 0 for blank space"
   ]
  },
  {
   "cell_type": "code",
   "execution_count": 32,
   "metadata": {},
   "outputs": [],
   "source": [
    "vec_X = [[word_to_num[word] for word in email] for email in clean_X]"
   ]
  },
  {
   "cell_type": "markdown",
   "metadata": {},
   "source": [
    "#### find the max length of the text, then pad all seqeunces to match that length - input shape in NN has to be consistent!!"
   ]
  },
  {
   "cell_type": "code",
   "execution_count": 30,
   "metadata": {},
   "outputs": [
    {
     "data": {
      "text/plain": [
       "(299, 82)"
      ]
     },
     "execution_count": 30,
     "metadata": {},
     "output_type": "execute_result"
    }
   ],
   "source": [
    "max_len = 0\n",
    "position = 0\n",
    "for i, email in enumerate(clean_X):\n",
    "    if len(email) > max_len:\n",
    "        max_len = len(email)\n",
    "        position = i\n",
    "max_len, position"
   ]
  },
  {
   "cell_type": "markdown",
   "metadata": {},
   "source": [
    "#### Lets pad the sequences"
   ]
  },
  {
   "cell_type": "code",
   "execution_count": 36,
   "metadata": {},
   "outputs": [],
   "source": [
    "pad_vec_X = sequence.pad_sequences(vec_X, maxlen=max_len,padding='pre')"
   ]
  },
  {
   "cell_type": "code",
   "execution_count": 37,
   "metadata": {},
   "outputs": [
    {
     "data": {
      "text/plain": [
       "array([    0,     0,     0,     0,     0,     0,     0,     0,     0,\n",
       "           0,     0,     0,     0,     0,     0,     0,     0,     0,\n",
       "           0,     0,     0,     0,     0,     0,     0,     0,     0,\n",
       "           0,     0,     0,     0,     0,     0,     0,     0,     0,\n",
       "           0,     0,     0,     0,     0,     0,     0,     0,     0,\n",
       "           0,     0,     0,     0,     0,     0,     0,     0,     0,\n",
       "           0,     0,     0,     0,     0,     0,     0,     0,     0,\n",
       "           0,     0,     0,     0,     0,     0,     0,     0,     0,\n",
       "           0,     0,     0,     0,     0,     0,     0,     0,     0,\n",
       "           0,     0,     0,     0,     0,     0,     0,     0,     0,\n",
       "           0,     0,     0,     0,     0,     0,     0,     0,     0,\n",
       "           0,     0,     0,     0,     0,     0,     0,     0,     0,\n",
       "           0,     0,     0,     0,     0,     0,     0,     0,     0,\n",
       "           0,     0,     0,     0,     0,     0,     0,     0,     0,\n",
       "           0,     0,     0,     0,     0,     0,     0,     0,     0,\n",
       "           0,     0,     0,     0,     0,  4698,  2912,  2369, 10549,\n",
       "       10888,  5507,  1204,  7609,  6506,  6845,  6145,  6968, 10681,\n",
       "        9464,  3342,  4111,  5023, 10886,  8329, 11109,  3494,  7397,\n",
       "        4956,   406,  5947,  6469,  4923,  5207,  6545,  3725,  7609,\n",
       "        4435,  4057,  7397,  6958,  3342,  7108,  1121,  7605,  3208,\n",
       "         363,  8446,   813,  3342,  7162,  6809,  8571,  2273,  4956,\n",
       "        4202,  5455,   909,  5821,  9769,  8172,  2790, 10681,  5175,\n",
       "        7238,  9390,  6726,  9418,  7953,  8434,  3715,  7618,  7419,\n",
       "        5175,  2802,  8867,  5175,  2982,  8172, 10274,  5947,  3494,\n",
       "         406,   813,  9373,  5175,   392,  2026,  2220,  8434,  8330,\n",
       "        5507,  8864,  5462,  9373,  5610,  7609,  4868,  9586,  3715,\n",
       "       10274,  7384,  8822,  7293,  5175,  3289,  6253,  3018,   909,\n",
       "        7876, 10681, 10013, 10273,  2166,  4923,  5236,  4923,  6469,\n",
       "        8406,   616,  2988,  7646,  8639,  2331,  5357,  5226,  7751,\n",
       "        2054,   980,   909, 10767,  3715,  5175,  8038,  7419,  4111,\n",
       "        5462,  9373,  3494,  5371,  6367,  2951,  1809,  1006,  2878,\n",
       "        4956,  1406,  5823,  9035,  4449,  8186,  7419,  3652,  2988,\n",
       "       10257,  4956,  5175,  9889,  6622,  2961,  3500, 10790,  3793,\n",
       "       10617,   204], dtype=int32)"
      ]
     },
     "execution_count": 37,
     "metadata": {},
     "output_type": "execute_result"
    }
   ],
   "source": [
    "pad_vec_X[5]"
   ]
  },
  {
   "cell_type": "markdown",
   "metadata": {},
   "source": [
    "---"
   ]
  },
  {
   "cell_type": "markdown",
   "metadata": {},
   "source": [
    "#### This is what we've done in RNNs so far\n",
    "* download test emails\n",
    "* removed special characters\n",
    "* transformed the words into numbers\n",
    "* cast them into a list\n",
    "* padded them with zeroes so every email number list has the same length"
   ]
  },
  {
   "cell_type": "markdown",
   "metadata": {},
   "source": [
    "#### This is what we have to do now\n",
    "* initialise an lstm\n",
    "* train in on the Xtrain data \n",
    "* test it on our Xtest data"
   ]
  },
  {
   "cell_type": "code",
   "execution_count": 43,
   "metadata": {},
   "outputs": [],
   "source": [
    "from sklearn.model_selection import train_test_split"
   ]
  },
  {
   "cell_type": "code",
   "execution_count": 46,
   "metadata": {},
   "outputs": [],
   "source": [
    "Xtrain, Xtest, ytrain, ytest = train_test_split(pad_vec_X, np.array(clean_y))"
   ]
  },
  {
   "cell_type": "markdown",
   "metadata": {},
   "source": [
    "---"
   ]
  },
  {
   "cell_type": "markdown",
   "metadata": {},
   "source": [
    "#### Now lets create the model\n",
    "We build a sequential model\n",
    "\n",
    "Then add an Embedding layer\n",
    "\n",
    "This layer takes 3 parameters - the size of the vocab (input_dims), the no. of dimensions of each word embedding (output_dim), and the length of each document (input_length), which we've standardised above. It returns a 2d matrix, with rows equal to each word in the document, and columns equal to the number of dimensions in the word embedding. \n",
    "\n",
    "*Actually its 3D, cos the batch_size is the first dimension in both input and output, but I find that confuses things more than it clarifies*\n",
    "Put another way \n",
    "\n",
    "The embedding **takes in** a factorized corpus, e.g.:\n",
    "\n",
    "**[The, cat, sat, on, the, mat]**    becomes    **[1,2,3,4,1,5]**\n",
    "\n",
    "And **outputs** a word embedded corpus:\n",
    "\n",
    "**[1,2,3,4,1,5]**    becomes (lets assume output_dim=2)   **[[0.2,0.7], [0.6,0.3], [0.1,0.8], [0.2,0.1], [0.4,0.9], [0.2,0.7]]**"
   ]
  },
  {
   "cell_type": "code",
   "execution_count": 47,
   "metadata": {},
   "outputs": [],
   "source": [
    "model = Sequential()"
   ]
  },
  {
   "cell_type": "code",
   "execution_count": 49,
   "metadata": {},
   "outputs": [],
   "source": [
    "model.add(Embedding(input_dim=vocab_size, output_dim=32,input_length=max_len))"
   ]
  },
  {
   "cell_type": "code",
   "execution_count": 50,
   "metadata": {},
   "outputs": [],
   "source": [
    "model.add(LSTM(128)) #units? if no.units > max_len, likely to overfit"
   ]
  },
  {
   "cell_type": "code",
   "execution_count": 51,
   "metadata": {},
   "outputs": [],
   "source": [
    "model.add(Dense(1, activation='sigmoid'))"
   ]
  },
  {
   "cell_type": "markdown",
   "metadata": {},
   "source": [
    "---"
   ]
  },
  {
   "cell_type": "code",
   "execution_count": 113,
   "metadata": {},
   "outputs": [],
   "source": [
    "model.compile(loss='binary_crossentropy', metrics=['accuracy'])"
   ]
  },
  {
   "cell_type": "code",
   "execution_count": 114,
   "metadata": {},
   "outputs": [
    {
     "name": "stdout",
     "output_type": "stream",
     "text": [
      "Train on 456 samples, validate on 114 samples\n",
      "Epoch 1/20\n",
      "456/456 [==============================] - 5s 11ms/sample - loss: 0.6481 - accuracy: 0.8860 - val_loss: 0.6555 - val_accuracy: 0.7632\n",
      "Epoch 2/20\n",
      "456/456 [==============================] - 3s 7ms/sample - loss: 0.4918 - accuracy: 0.9693 - val_loss: 0.5805 - val_accuracy: 0.7719\n",
      "Epoch 3/20\n",
      "456/456 [==============================] - 3s 7ms/sample - loss: 0.3583 - accuracy: 0.9013 - val_loss: 0.5272 - val_accuracy: 0.7982\n",
      "Epoch 4/20\n",
      "456/456 [==============================] - 3s 8ms/sample - loss: 0.2177 - accuracy: 0.9825 - val_loss: 0.3342 - val_accuracy: 0.8860\n",
      "Epoch 5/20\n",
      "456/456 [==============================] - 3s 7ms/sample - loss: 0.1323 - accuracy: 0.9759 - val_loss: 0.4709 - val_accuracy: 0.7807\n",
      "Epoch 6/20\n",
      "456/456 [==============================] - 3s 7ms/sample - loss: 0.1208 - accuracy: 0.9846 - val_loss: 0.1746 - val_accuracy: 0.9386\n",
      "Epoch 7/20\n",
      "456/456 [==============================] - 3s 8ms/sample - loss: 0.1405 - accuracy: 0.9759 - val_loss: 0.4751 - val_accuracy: 0.7982\n",
      "Epoch 8/20\n",
      "456/456 [==============================] - 4s 8ms/sample - loss: 0.0965 - accuracy: 0.9956 - val_loss: 0.3474 - val_accuracy: 0.8684\n",
      "Epoch 9/20\n",
      "456/456 [==============================] - 4s 8ms/sample - loss: 0.0188 - accuracy: 1.0000 - val_loss: 0.1930 - val_accuracy: 0.9298\n",
      "Epoch 10/20\n",
      "456/456 [==============================] - 4s 8ms/sample - loss: 0.0083 - accuracy: 1.0000 - val_loss: 0.2660 - val_accuracy: 0.9123\n",
      "Epoch 11/20\n",
      "456/456 [==============================] - 4s 8ms/sample - loss: 0.0409 - accuracy: 0.9934 - val_loss: 0.3555 - val_accuracy: 0.8246\n",
      "Epoch 12/20\n",
      "456/456 [==============================] - 4s 8ms/sample - loss: 0.0137 - accuracy: 0.9978 - val_loss: 0.3637 - val_accuracy: 0.8772\n",
      "Epoch 13/20\n",
      "456/456 [==============================] - 4s 8ms/sample - loss: 0.0057 - accuracy: 1.0000 - val_loss: 0.1821 - val_accuracy: 0.9474\n",
      "Epoch 14/20\n",
      "456/456 [==============================] - 4s 9ms/sample - loss: 0.0019 - accuracy: 1.0000 - val_loss: 0.2421 - val_accuracy: 0.9298\n",
      "Epoch 15/20\n",
      "456/456 [==============================] - 4s 8ms/sample - loss: 0.0015 - accuracy: 1.0000 - val_loss: 0.2350 - val_accuracy: 0.9211\n",
      "Epoch 16/20\n",
      "456/456 [==============================] - 4s 9ms/sample - loss: 7.5590e-04 - accuracy: 1.0000 - val_loss: 0.3383 - val_accuracy: 0.9298\n",
      "Epoch 17/20\n",
      "456/456 [==============================] - 4s 8ms/sample - loss: 0.6971 - accuracy: 0.9145 - val_loss: 0.4152 - val_accuracy: 0.8158\n",
      "Epoch 18/20\n",
      "456/456 [==============================] - 4s 8ms/sample - loss: 0.0574 - accuracy: 0.9978 - val_loss: 0.3670 - val_accuracy: 0.8246\n",
      "Epoch 19/20\n",
      "456/456 [==============================] - 4s 9ms/sample - loss: 0.0352 - accuracy: 0.9978 - val_loss: 0.3144 - val_accuracy: 0.8684\n",
      "Epoch 20/20\n",
      "456/456 [==============================] - 4s 8ms/sample - loss: 0.0225 - accuracy: 1.0000 - val_loss: 0.2979 - val_accuracy: 0.8684\n"
     ]
    }
   ],
   "source": [
    "history = model.fit(Xtrain,ytrain,epochs=20, batch_size=64, validation_split=0.2)"
   ]
  },
  {
   "cell_type": "code",
   "execution_count": 115,
   "metadata": {},
   "outputs": [
    {
     "data": {
      "text/plain": [
       "dict_keys(['loss', 'accuracy', 'val_loss', 'val_accuracy'])"
      ]
     },
     "execution_count": 115,
     "metadata": {},
     "output_type": "execute_result"
    }
   ],
   "source": [
    "history.history.keys()"
   ]
  },
  {
   "cell_type": "code",
   "execution_count": 117,
   "metadata": {},
   "outputs": [
    {
     "data": {
      "text/plain": [
       "<matplotlib.legend.Legend at 0x7f23da742dd8>"
      ]
     },
     "execution_count": 117,
     "metadata": {},
     "output_type": "execute_result"
    },
    {
     "data": {
      "image/png": "[encoded data removed]",
      "text/plain": [
       "<Figure size 432x288 with 1 Axes>"
      ]
     },
     "metadata": {
      "needs_background": "light"
     },
     "output_type": "display_data"
    }
   ],
   "source": [
    "plt.plot(history.history['loss'])\n",
    "plt.plot(history.history['val_loss'])\n",
    "plt.legend(['loss', 'val_loss'])"
   ]
  },
  {
   "cell_type": "code",
   "execution_count": 116,
   "metadata": {},
   "outputs": [
    {
     "data": {
      "text/plain": [
       "<matplotlib.legend.Legend at 0x7f23da7de240>"
      ]
     },
     "execution_count": 116,
     "metadata": {},
     "output_type": "execute_result"
    },
    {
     "data": {
      "image/png": "[encoded data removed]",
      "text/plain": [
       "<Figure size 432x288 with 1 Axes>"
      ]
     },
     "metadata": {
      "needs_background": "light"
     },
     "output_type": "display_data"
    }
   ],
   "source": [
    "plt.plot(history.history['accuracy'])\n",
    "plt.plot(history.history['val_accuracy'])\n",
    "plt.legend(['accuracy', 'val_accuracy'])"
   ]
  },
  {
   "cell_type": "code",
   "execution_count": 118,
   "metadata": {},
   "outputs": [
    {
     "name": "stdout",
     "output_type": "stream",
     "text": [
      "191/191 [==============================] - 1s 4ms/sample - loss: 0.4535 - accuracy: 0.8482\n"
     ]
    },
    {
     "data": {
      "text/plain": [
       "[0.453461260539699, 0.84816754]"
      ]
     },
     "execution_count": 118,
     "metadata": {},
     "output_type": "execute_result"
    }
   ],
   "source": [
    "model.evaluate(Xtest,ytest)"
   ]
  },
  {
   "cell_type": "markdown",
   "metadata": {},
   "source": [
    "---"
   ]
  },
  {
   "cell_type": "code",
   "execution_count": null,
   "metadata": {},
   "outputs": [],
   "source": [
    "#### This function allows you to test the model on a new string"
   ]
  },
  {
   "cell_type": "code",
   "execution_count": 124,
   "metadata": {},
   "outputs": [],
   "source": [
    "def test_model(string, model):\n",
    "    clean_X, clean_y = clean_text([string], [0], 300)\n",
    "    vec_X = [[word_to_num[word] for word in email if word in vocab_list] for email in clean_X]\n",
    "    pad_vec_X = sequence.pad_sequences(vec_X, maxlen=max_len,padding='pre')\n",
    "    return 'christian' if model.predict(pad_vec_X)[0] <= 0.5 else 'guns'"
   ]
  },
  {
   "cell_type": "markdown",
   "metadata": {},
   "source": [
    "---"
   ]
  },
  {
   "cell_type": "markdown",
   "metadata": {},
   "source": [
    "#### Conclusion\n",
    "* LSTM are v good on sequential data BUT\n",
    "* Overfit easily - how can treat for that?\n",
    "* And they still suffer from - word sense disambiguation, long long term memory isn't captured"
   ]
  },
  {
   "cell_type": "markdown",
   "metadata": {},
   "source": [
    "---"
   ]
  }
 ],
 "metadata": {
  "kernelspec": {
   "display_name": "Python 3",
   "language": "python",
   "name": "python3"
  },
  "language_info": {
   "codemirror_mode": {
    "name": "ipython",
    "version": 3
   },
   "file_extension": ".py",
   "mimetype": "text/x-python",
   "name": "python",
   "nbconvert_exporter": "python",
   "pygments_lexer": "ipython3",
   "version": "3.6.10"
  }
 },
 "nbformat": 4,
 "nbformat_minor": 4
}
