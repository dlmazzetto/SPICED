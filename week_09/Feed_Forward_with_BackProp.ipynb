{
 "cells": [
  {
   "cell_type": "markdown",
   "metadata": {},
   "source": [
    "### Part 1: Building a Feed-Forward Neural Network from Scratch \n",
    "- Using just NumPy\n",
    "- ``m.predict()``"
   ]
  },
  {
   "cell_type": "code",
   "execution_count": 1,
   "metadata": {},
   "outputs": [],
   "source": [
    "from sklearn.datasets import make_moons\n",
    "\n",
    "X, y = make_moons(n_samples=50, noise=0.2, random_state=42)"
   ]
  },
  {
   "cell_type": "code",
   "execution_count": 2,
   "metadata": {},
   "outputs": [],
   "source": [
    "import matplotlib.pyplot as plt"
   ]
  },
  {
   "cell_type": "code",
   "execution_count": 3,
   "metadata": {},
   "outputs": [
    {
     "data": {
      "text/plain": [
       "<matplotlib.collections.PathCollection at 0x1a166c99e8>"
      ]
     },
     "execution_count": 3,
     "metadata": {},
     "output_type": "execute_result"
    },
    {
     "data": {
      "image/png": "[encoded data removed]",
      "text/plain": [
       "<Figure size 432x288 with 1 Axes>"
      ]
     },
     "metadata": {
      "needs_background": "light"
     },
     "output_type": "display_data"
    }
   ],
   "source": [
    "plt.scatter(X[:,0], X[:,1], s=15, c=y)"
   ]
  },
  {
   "cell_type": "code",
   "execution_count": 4,
   "metadata": {},
   "outputs": [],
   "source": [
    "import numpy as np"
   ]
  },
  {
   "cell_type": "code",
   "execution_count": 5,
   "metadata": {},
   "outputs": [],
   "source": [
    "#manually add a column for bias\n",
    "X = np.hstack([X, np.ones((X.shape[0], 1 ))])"
   ]
  },
  {
   "cell_type": "code",
   "execution_count": 6,
   "metadata": {},
   "outputs": [],
   "source": [
    "#let's model our neurons / activation functions as a sigmoid function"
   ]
  },
  {
   "cell_type": "code",
   "execution_count": 7,
   "metadata": {},
   "outputs": [],
   "source": [
    "def sigmoid(x):\n",
    "    \"\"\"logistic function.\n",
    "    \n",
    "    takes in a single number, and squishes it\n",
    "    between 0 and 1.\n",
    "    \"\"\"\n",
    "    \n",
    "    return 1 / (1 + np.exp(-x))\n",
    "    \n",
    "    "
   ]
  },
  {
   "cell_type": "code",
   "execution_count": 8,
   "metadata": {},
   "outputs": [],
   "source": [
    "a = np.array([-10.0, -1.0, 0.0, 1.0, 10.0])\n",
    "expected = np.array([0.0, 0.27, 0.5, 0.73, 1.0])\n",
    "\n",
    "assert np.all(sigmoid(a).round(2) == expected)"
   ]
  },
  {
   "cell_type": "markdown",
   "metadata": {},
   "source": [
    "---"
   ]
  },
  {
   "cell_type": "markdown",
   "metadata": {},
   "source": [
    "**the values of the arrows == weights == parameters**"
   ]
  },
  {
   "cell_type": "code",
   "execution_count": 9,
   "metadata": {},
   "outputs": [],
   "source": [
    "hidden_weights = np.random.normal(loc=0.0, scale=1.0, size=(3, 2))   # 3 inputs feeding into 2 neurons\n",
    "outer_weights = np.random.normal(loc=0.0, scale=1.0, size=(3, 1)) # 3 inputs feeding into 1 neuron"
   ]
  },
  {
   "cell_type": "code",
   "execution_count": 10,
   "metadata": {},
   "outputs": [
    {
     "data": {
      "text/plain": [
       "array([[ 1.23541868,  0.89212009],\n",
       "       [-1.64628308,  0.42391178],\n",
       "       [ 0.30024682, -1.05468933]])"
      ]
     },
     "execution_count": 10,
     "metadata": {},
     "output_type": "execute_result"
    }
   ],
   "source": [
    "hidden_weights"
   ]
  },
  {
   "cell_type": "code",
   "execution_count": 11,
   "metadata": {},
   "outputs": [
    {
     "data": {
      "text/plain": [
       "array([[ 0.50532613],\n",
       "       [ 1.6136658 ],\n",
       "       [-2.57796371]])"
      ]
     },
     "execution_count": 11,
     "metadata": {},
     "output_type": "execute_result"
    }
   ],
   "source": [
    "outer_weights"
   ]
  },
  {
   "cell_type": "markdown",
   "metadata": {},
   "source": [
    "---"
   ]
  },
  {
   "cell_type": "code",
   "execution_count": 12,
   "metadata": {},
   "outputs": [],
   "source": [
    "weights = [hidden_weights, outer_weights]"
   ]
  },
  {
   "cell_type": "code",
   "execution_count": 13,
   "metadata": {},
   "outputs": [
    {
     "data": {
      "text/plain": [
       "[array([[ 1.23541868,  0.89212009],\n",
       "        [-1.64628308,  0.42391178],\n",
       "        [ 0.30024682, -1.05468933]]),\n",
       " array([[ 0.50532613],\n",
       "        [ 1.6136658 ],\n",
       "        [-2.57796371]])]"
      ]
     },
     "execution_count": 13,
     "metadata": {},
     "output_type": "execute_result"
    }
   ],
   "source": [
    "weights"
   ]
  },
  {
   "cell_type": "code",
   "execution_count": 14,
   "metadata": {},
   "outputs": [],
   "source": [
    "def feed_forward(X, weights):\n",
    "\n",
    "    \"\"\"\n",
    "    1. Calculate the dot product of X\n",
    "       and the weights of the first layer.\n",
    "    \"\"\"\n",
    "    \n",
    "    # (N, 3) * (3, 2) -> (N, 2)\n",
    "    step1 = np.dot(X, weights[0])\n",
    "    \n",
    "    \"\"\"\n",
    "    2. Apply the sigmoid function on the result.\n",
    "    \"\"\"\n",
    "    \n",
    "    # (N, 2) -> (N, 2)\n",
    "    step2 = sigmoid(step1)\n",
    "\n",
    "    \"\"\"\n",
    "    3. Append an extra column of ones to the result (i.e. the bias).\n",
    "    \"\"\"\n",
    "    #(N, 2) -> (N, 3)\n",
    "    \n",
    "    step3 = np.hstack([step2, np.ones((step2.shape[0], 1))])\n",
    "    \n",
    "    \n",
    "    \"\"\"\n",
    "    4. Calculate the dot product of the previous step\n",
    "       with the weights of the second (i.e. outer) layer.\n",
    "    \"\"\"\n",
    "    # (N, 3) * (3, 1) -> (N, 1)\n",
    "    step4 = np.dot(step3, weights[1])\n",
    "    \n",
    "    \n",
    "    \"\"\"\n",
    "    5. Apply the sigmoid function on the result.\n",
    "    \"\"\"\n",
    "    # (N, 1) -> (N, 1)\n",
    "    step5 = sigmoid(step4)\n",
    "    \n",
    "    \n",
    "    \"\"\"\n",
    "    6. Return all intermediate results (i.e. anything that is outputted\n",
    "       by an activation function).\n",
    "    \"\"\"\n",
    "   \n",
    "\n",
    "    return step2, step5"
   ]
  },
  {
   "cell_type": "markdown",
   "metadata": {},
   "source": [
    "How a neural network \"calculates\":\n",
    "1. Add bias\n",
    "2. Multiply by weights\n",
    "3. Activate"
   ]
  },
  {
   "cell_type": "code",
   "execution_count": 15,
   "metadata": {},
   "outputs": [],
   "source": [
    "out1, out2 = feed_forward(X, weights)"
   ]
  },
  {
   "cell_type": "code",
   "execution_count": 16,
   "metadata": {},
   "outputs": [
    {
     "data": {
      "text/plain": [
       "[array([[ 1.23541868,  0.89212009],\n",
       "        [-1.64628308,  0.42391178],\n",
       "        [ 0.30024682, -1.05468933]]),\n",
       " array([[ 0.50532613],\n",
       "        [ 1.6136658 ],\n",
       "        [-2.57796371]])]"
      ]
     },
     "execution_count": 16,
     "metadata": {},
     "output_type": "execute_result"
    }
   ],
   "source": [
    "weights"
   ]
  },
  {
   "cell_type": "markdown",
   "metadata": {},
   "source": [
    "### Part 2: Training the Neural Network\n",
    "- Using an algorithm like Gradient Descent.\n",
    "- General idea is to slowly (in increments) tweak the paramters such that the prediction is better than before.\n",
    "- ``m.fit()``"
   ]
  },
  {
   "cell_type": "code",
   "execution_count": 17,
   "metadata": {},
   "outputs": [],
   "source": [
    "#Get Loss Function - Logarithmic Loss\n",
    "def log_loss(ytrue, ypred):\n",
    "    loss = -(ytrue*np.log(ypred)+(1-ytrue)*np.log(1-ypred))\n",
    "    return loss"
   ]
  },
  {
   "cell_type": "code",
   "execution_count": 18,
   "metadata": {},
   "outputs": [],
   "source": [
    "ytrue = np.array([0.0, 0.0, 1.0, 1.0])\n",
    "ypred = np.array([0.01, 0.99, 0.01, 0.99])\n",
    "expected = np.array([0.01, 4.61, 4.61, 0.01])\n",
    "assert np.all(log_loss(ytrue, ypred).round(2) == expected)"
   ]
  },
  {
   "cell_type": "code",
   "execution_count": 19,
   "metadata": {},
   "outputs": [],
   "source": [
    "def backprop(weights,output1,output2,ytrue,X_input, LR_O, LR_H):  \n",
    "    #separate learning rates for outer and inner weights.\n",
    "    \n",
    "    wH = weights[0]\n",
    "    wO = weights[1]\n",
    "    \n",
    "    #Equation A:\n",
    "    ytrue = ytrue.reshape(-1, 1) \n",
    "    error = (output2 - ytrue) * log_loss(ytrue , output2) \n",
    "   \n",
    "    #Equation B:\n",
    "    sig_deriv = output2 * ( 1 - output2) \n",
    "    #derivative of the sigmoid function with respect to the hidden output * weights\n",
    "    y_grad = sig_deriv * error\n",
    "    \n",
    "    #Equation C:\n",
    "    hidden_out_with_bias = np.hstack([output1,np.ones((output1.shape[0] ,1))]) #don't forget the bias!\n",
    "    delta_wo = np.dot( -y_grad.transpose(), hidden_out_with_bias ) * LR_O\n",
    "    \n",
    "    #and finally, old weights + delta weights -> new weights!\n",
    "    wO_new = wO + delta_wo.transpose()\n",
    "\n",
    "    #Equation D:\n",
    "    sig_deriv_2 = output1 * ( 1 - output1)\n",
    "    H_grad = sig_deriv_2  * np.dot(y_grad , wO[:2].transpose()) \n",
    "    #exclude the bias (3rd column) of the outer weights, since it is not backpropagated!\n",
    "    \n",
    "    #Equation E:\n",
    "    delta_wH = np.dot(-H_grad.transpose(), X_input ) * LR_H\n",
    "    wH_new = wH + delta_wH.transpose() #old weights + delta weights -> new weights!\n",
    "    \n",
    "    return wH_new, wO_new"
   ]
  },
  {
   "cell_type": "code",
   "execution_count": 20,
   "metadata": {},
   "outputs": [],
   "source": [
    "wH_new, wO_new = backprop(weights, out1, out2, y, X, 0.1, 5.0)"
   ]
  },
  {
   "cell_type": "code",
   "execution_count": 21,
   "metadata": {},
   "outputs": [],
   "source": [
    "new_weights = [wH_new, wO_new]"
   ]
  },
  {
   "cell_type": "code",
   "execution_count": 22,
   "metadata": {},
   "outputs": [
    {
     "data": {
      "text/plain": [
       "[array([[ 1.23541868,  0.89212009],\n",
       "        [-1.64628308,  0.42391178],\n",
       "        [ 0.30024682, -1.05468933]]),\n",
       " array([[ 0.50532613],\n",
       "        [ 1.6136658 ],\n",
       "        [-2.57796371]])]"
      ]
     },
     "execution_count": 22,
     "metadata": {},
     "output_type": "execute_result"
    }
   ],
   "source": [
    "weights"
   ]
  },
  {
   "cell_type": "code",
   "execution_count": 23,
   "metadata": {},
   "outputs": [
    {
     "data": {
      "text/plain": [
       "[array([[ 2.36681617, 10.61399078],\n",
       "        [-1.63272321, -0.67841927],\n",
       "        [ 1.86549954,  7.94624346]]),\n",
       " array([[ 0.90617921],\n",
       "        [ 1.8429558 ],\n",
       "        [-2.08354962]])]"
      ]
     },
     "execution_count": 23,
     "metadata": {},
     "output_type": "execute_result"
    }
   ],
   "source": [
    "new_weights"
   ]
  },
  {
   "cell_type": "code",
   "execution_count": 24,
   "metadata": {},
   "outputs": [
    {
     "name": "stdout",
     "output_type": "stream",
     "text": [
      "(3, 2) (3, 1)\n"
     ]
    }
   ],
   "source": [
    "print(new_weights[0].shape, new_weights[1].shape)\n",
    "#shapes look right!!"
   ]
  },
  {
   "cell_type": "markdown",
   "metadata": {},
   "source": [
    "### A nice way to manually calculate the accuracy of the initial guess:\n",
    "- flatten both ytrue and ypred (so that they're both (50,) arrays)\n",
    "- round the ypred (either up to 1 or down to 0)\n",
    "- then compare them to eachother to get a boolean array (True where the values are the same, False where they are not)\n",
    "- sum the boolean array and divide by the length (i.e. take the mean)"
   ]
  },
  {
   "cell_type": "code",
   "execution_count": 25,
   "metadata": {},
   "outputs": [],
   "source": [
    "def get_accuracy(ypred,ytrue):\n",
    "    acc = sum(ytrue.flatten() == ypred.flatten().round().astype(np.int64))\n",
    "    return acc/len(ytrue)"
   ]
  },
  {
   "cell_type": "markdown",
   "metadata": {},
   "source": [
    "### Run the Backpropagation Algorithm"
   ]
  },
  {
   "cell_type": "markdown",
   "metadata": {},
   "source": [
    "- Randomly initialize the weights again, to see how the initial position might affect the results/"
   ]
  },
  {
   "cell_type": "code",
   "execution_count": 26,
   "metadata": {},
   "outputs": [],
   "source": [
    "hidden_weights = np.random.normal(loc=0.0, scale=1.0, size=(3, 2))   # 3 inputs feeding into 2 neurons\n",
    "outer_weights = np.random.normal(loc=0.0, scale=1.0, size=(3, 1)) # 3 inputs feeding into 1 neuron\n",
    "weights = [hidden_weights, outer_weights]"
   ]
  },
  {
   "cell_type": "code",
   "execution_count": 27,
   "metadata": {},
   "outputs": [],
   "source": [
    "ACC_VEC = []\n",
    "LOSS_VEC = []\n",
    "for i in range(500):\n",
    "    out1, out2 =  feed_forward(X, weights)\n",
    "    ACC_VEC.append(get_accuracy(out2,y))\n",
    "    LOSS_VEC.append(sum(log_loss(y, out2))[0])\n",
    "    new_weights = backprop(weights,out1,out2,y,X, .01, 5)\n",
    "    weights = new_weights"
   ]
  },
  {
   "cell_type": "code",
   "execution_count": 28,
   "metadata": {},
   "outputs": [
    {
     "data": {
      "text/plain": [
       "Text(0.5, 1.0, 'ACCURACY OVER TRAINING EPOCHS')"
      ]
     },
     "execution_count": 28,
     "metadata": {},
     "output_type": "execute_result"
    },
    {
     "data": {
      "image/png": "[encoded data removed]",
      "text/plain": [
       "<Figure size 1080x576 with 2 Axes>"
      ]
     },
     "metadata": {
      "needs_background": "light"
     },
     "output_type": "display_data"
    }
   ],
   "source": [
    "import matplotlib.pyplot as plt\n",
    "fig, (ax1, ax2) = plt.subplots(nrows=2, ncols=1, sharex=True, figsize=(15, 8))\n",
    "ax1.plot(LOSS_VEC)\n",
    "ax1.set_title('LOSS OVER TRAINING EPOCHS')\n",
    "ax2.plot(ACC_VEC)\n",
    "ax2.set_title('ACCURACY OVER TRAINING EPOCHS')"
   ]
  },
  {
   "cell_type": "code",
   "execution_count": null,
   "metadata": {},
   "outputs": [],
   "source": []
  },
  {
   "cell_type": "code",
   "execution_count": null,
   "metadata": {},
   "outputs": [],
   "source": []
  }
 ],
 "metadata": {
  "kernelspec": {
   "display_name": "Python 3",
   "language": "python",
   "name": "python3"
  },
  "language_info": {
   "codemirror_mode": {
    "name": "ipython",
    "version": 3
   },
   "file_extension": ".py",
   "mimetype": "text/x-python",
   "name": "python",
   "nbconvert_exporter": "python",
   "pygments_lexer": "ipython3",
   "version": "3.6.10"
  }
 },
 "nbformat": 4,
 "nbformat_minor": 4
}
