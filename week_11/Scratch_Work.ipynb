{
 "cells": [
  {
   "cell_type": "code",
   "execution_count": 1,
   "metadata": {},
   "outputs": [],
   "source": [
    "ITEMS = ['a', 'b', 'c', 'd', 'e']\n",
    "\n",
    "import random"
   ]
  },
  {
   "cell_type": "code",
   "execution_count": 4,
   "metadata": {},
   "outputs": [],
   "source": [
    "result = random.sample(ITEMS, k=3)\n",
    "result = [i.lower() for i in result]"
   ]
  },
  {
   "cell_type": "code",
   "execution_count": 10,
   "metadata": {},
   "outputs": [],
   "source": [
    "class Recommender:\n",
    "    \"\"\"A Class to logically group all my recommendation functions.\n",
    "    \n",
    "       Analogy: Paragraph containing related sentences.\n",
    "       \n",
    "    \"\"\"\n",
    "    \n",
    "    def __init__(self, items:list):\n",
    "        self.items = items\n",
    "        #design decision to pass the list as an argument here (during instantiation)\n",
    "            \n",
    "    def random_recommend(self, n:int=3) -> list: #type annotation\n",
    "        \"\"\"\n",
    "        Function that returns n elements randomly from a given list.\n",
    "\n",
    "        Arguments\n",
    "        ----------\n",
    "        items: list\n",
    "        n : int\n",
    "\n",
    "        Returns\n",
    "        --------\n",
    "        result: list\n",
    "        \"\"\"\n",
    "        result = random.sample(self.items, k=n)\n",
    "        result = [i.lower() for i in result]\n",
    "        return result\n",
    "    \n",
    "    def nmf(self):\n",
    "        \"\"\"Coming in version 2.0!\"\"\"\n",
    "        pass\n",
    "    \n",
    "    def cosim(self):\n",
    "        \"\"\"Coming in version 2.0!\"\"\"\n",
    "        pass\n",
    "    \n",
    "    "
   ]
  },
  {
   "cell_type": "code",
   "execution_count": 16,
   "metadata": {},
   "outputs": [],
   "source": [
    "rec = Recommender(ITEMS)"
   ]
  },
  {
   "cell_type": "code",
   "execution_count": 17,
   "metadata": {},
   "outputs": [
    {
     "data": {
      "text/plain": [
       "['b']"
      ]
     },
     "execution_count": 17,
     "metadata": {},
     "output_type": "execute_result"
    }
   ],
   "source": [
    "rec.random_recommend(1)"
   ]
  },
  {
   "cell_type": "code",
   "execution_count": null,
   "metadata": {},
   "outputs": [],
   "source": []
  }
 ],
 "metadata": {
  "kernelspec": {
   "display_name": "Python 3",
   "language": "python",
   "name": "python3"
  },
  "language_info": {
   "codemirror_mode": {
    "name": "ipython",
    "version": 3
   },
   "file_extension": ".py",
   "mimetype": "text/x-python",
   "name": "python",
   "nbconvert_exporter": "python",
   "pygments_lexer": "ipython3",
   "version": "3.6.10"
  }
 },
 "nbformat": 4,
 "nbformat_minor": 4
}
