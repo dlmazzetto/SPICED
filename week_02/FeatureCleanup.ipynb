{
 "cells": [
  {
   "cell_type": "code",
   "execution_count": 1,
   "metadata": {},
   "outputs": [],
   "source": [
    "import numpy as np\n",
    "import pandas as pd\n",
    "import seaborn as sns\n",
    "from matplotlib import pyplot as plt\n",
    "\n",
    "%matplotlib inline"
   ]
  },
  {
   "cell_type": "code",
   "execution_count": 2,
   "metadata": {},
   "outputs": [],
   "source": [
    "df = pd.read_csv('../week_01/all_penguins_clean.csv', index_col=0)"
   ]
  },
  {
   "cell_type": "code",
   "execution_count": 3,
   "metadata": {},
   "outputs": [
    {
     "data": {
      "text/plain": [
       "(344, 14)"
      ]
     },
     "execution_count": 3,
     "metadata": {},
     "output_type": "execute_result"
    }
   ],
   "source": [
    "df.shape"
   ]
  },
  {
   "cell_type": "code",
   "execution_count": 6,
   "metadata": {},
   "outputs": [],
   "source": [
    "species = df['Species']"
   ]
  },
  {
   "cell_type": "code",
   "execution_count": 9,
   "metadata": {},
   "outputs": [
    {
     "data": {
      "text/plain": [
       "<matplotlib.axes._subplots.AxesSubplot at 0x7f71826b15f8>"
      ]
     },
     "execution_count": 9,
     "metadata": {},
     "output_type": "execute_result"
    },
    {
     "data": {
      "image/png": "[encoded data removed]",
      "text/plain": [
       "<Figure size 432x288 with 1 Axes>"
      ]
     },
     "metadata": {},
     "output_type": "display_data"
    }
   ],
   "source": [
    "species.value_counts().plot.bar()"
   ]
  },
  {
   "cell_type": "markdown",
   "metadata": {},
   "source": [
    "### Sampling Bias\n",
    "\n",
    "*\"the distribution of classes in the sample is different from the original population by coincidence\"*\n",
    "\n",
    "**Solution 1: Balance Classes**\n",
    "    \n",
    "**Solution 2: Stratification – enforce proportions of classes**"
   ]
  },
  {
   "cell_type": "code",
   "execution_count": 23,
   "metadata": {},
   "outputs": [
    {
     "data": {
      "text/plain": [
       "<matplotlib.axes._subplots.AxesSubplot at 0x7f717fba2940>"
      ]
     },
     "execution_count": 23,
     "metadata": {},
     "output_type": "execute_result"
    },
    {
     "data": {
      "image/png": "[encoded data removed]",
      "text/plain": [
       "<Figure size 432x288 with 1 Axes>"
      ]
     },
     "metadata": {},
     "output_type": "display_data"
    }
   ],
   "source": [
    "species.sample(50).value_counts().plot.bar()"
   ]
  },
  {
   "cell_type": "markdown",
   "metadata": {},
   "source": [
    "## Cross-Validation"
   ]
  },
  {
   "cell_type": "code",
   "execution_count": 38,
   "metadata": {},
   "outputs": [],
   "source": [
    "df.dropna(inplace=True)\n",
    "df['mass'] = df['Body Mass (g)'] / 100.0  # !!! better do a Min-Max Scaling"
   ]
  },
  {
   "cell_type": "code",
   "execution_count": 39,
   "metadata": {},
   "outputs": [],
   "source": [
    "X = df[['Culmen Length (mm)', 'mass']]"
   ]
  },
  {
   "cell_type": "code",
   "execution_count": 40,
   "metadata": {},
   "outputs": [],
   "source": [
    "y = df['Species']"
   ]
  },
  {
   "cell_type": "code",
   "execution_count": 41,
   "metadata": {},
   "outputs": [],
   "source": [
    "from sklearn.linear_model import LogisticRegression\n",
    "from sklearn.model_selection import cross_val_score"
   ]
  },
  {
   "cell_type": "code",
   "execution_count": 42,
   "metadata": {},
   "outputs": [],
   "source": [
    "m = LogisticRegression()"
   ]
  },
  {
   "cell_type": "code",
   "execution_count": 49,
   "metadata": {},
   "outputs": [
    {
     "data": {
      "text/plain": [
       "array([0.925, 0.955, 0.94 , 0.955, 0.97 ])"
      ]
     },
     "execution_count": 49,
     "metadata": {},
     "output_type": "execute_result"
    }
   ],
   "source": [
    "cross_val_score(m, X, y, cv=5, scoring='accuracy').round(3)"
   ]
  },
  {
   "cell_type": "code",
   "execution_count": 50,
   "metadata": {},
   "outputs": [],
   "source": [
    "from sklearn.utils import resample"
   ]
  },
  {
   "cell_type": "code",
   "execution_count": 53,
   "metadata": {},
   "outputs": [
    {
     "data": {
      "text/plain": [
       "['J', 'H', 'C', 'E', 'A', 'A', 'A', 'A', 'F', 'H']"
      ]
     },
     "execution_count": 53,
     "metadata": {},
     "output_type": "execute_result"
    }
   ],
   "source": [
    "resample(list('ABCDEFGHIJ'))"
   ]
  },
  {
   "cell_type": "code",
   "execution_count": null,
   "metadata": {},
   "outputs": [],
   "source": []
  },
  {
   "cell_type": "code",
   "execution_count": null,
   "metadata": {},
   "outputs": [],
   "source": []
  },
  {
   "cell_type": "code",
   "execution_count": 51,
   "metadata": {
    "collapsed": true
   },
   "outputs": [
    {
     "name": "stdout",
     "output_type": "stream",
     "text": [
      "0 0.9461077844311377\n"
     ]
    },
    {
     "name": "stderr",
     "output_type": "stream",
     "text": [
      "/home/kristian/anaconda3/lib/python3.6/site-packages/sklearn/linear_model/_logistic.py:762: ConvergenceWarning: lbfgs failed to converge (status=1):\n",
      "STOP: TOTAL NO. of ITERATIONS REACHED LIMIT.\n",
      "\n",
      "Increase the number of iterations (max_iter) or scale the data as shown in:\n",
      "    https://scikit-learn.org/stable/modules/preprocessing.html\n",
      "Please also refer to the documentation for alternative solver options:\n",
      "    https://scikit-learn.org/stable/modules/linear_model.html#logistic-regression\n",
      "  extra_warning_msg=_LOGISTIC_SOLVER_CONVERGENCE_MSG)\n"
     ]
    },
    {
     "name": "stdout",
     "output_type": "stream",
     "text": [
      "1 0.9790419161676647\n",
      "2 0.9580838323353293\n",
      "3 0.9491017964071856\n",
      "4 0.9610778443113772\n",
      "5 0.9491017964071856\n",
      "6 0.9401197604790419\n",
      "7 0.9161676646706587\n",
      "8 0.937125748502994\n",
      "9 0.9520958083832335\n",
      "10 0.9760479041916168\n",
      "11 0.9431137724550899\n"
     ]
    },
    {
     "name": "stderr",
     "output_type": "stream",
     "text": [
      "/home/kristian/anaconda3/lib/python3.6/site-packages/sklearn/linear_model/_logistic.py:762: ConvergenceWarning: lbfgs failed to converge (status=1):\n",
      "STOP: TOTAL NO. of ITERATIONS REACHED LIMIT.\n",
      "\n",
      "Increase the number of iterations (max_iter) or scale the data as shown in:\n",
      "    https://scikit-learn.org/stable/modules/preprocessing.html\n",
      "Please also refer to the documentation for alternative solver options:\n",
      "    https://scikit-learn.org/stable/modules/linear_model.html#logistic-regression\n",
      "  extra_warning_msg=_LOGISTIC_SOLVER_CONVERGENCE_MSG)\n"
     ]
    },
    {
     "name": "stdout",
     "output_type": "stream",
     "text": [
      "12 0.9790419161676647\n",
      "13 0.9700598802395209\n",
      "14 0.9520958083832335\n"
     ]
    },
    {
     "name": "stderr",
     "output_type": "stream",
     "text": [
      "/home/kristian/anaconda3/lib/python3.6/site-packages/sklearn/linear_model/_logistic.py:762: ConvergenceWarning: lbfgs failed to converge (status=1):\n",
      "STOP: TOTAL NO. of ITERATIONS REACHED LIMIT.\n",
      "\n",
      "Increase the number of iterations (max_iter) or scale the data as shown in:\n",
      "    https://scikit-learn.org/stable/modules/preprocessing.html\n",
      "Please also refer to the documentation for alternative solver options:\n",
      "    https://scikit-learn.org/stable/modules/linear_model.html#logistic-regression\n",
      "  extra_warning_msg=_LOGISTIC_SOLVER_CONVERGENCE_MSG)\n"
     ]
    },
    {
     "name": "stdout",
     "output_type": "stream",
     "text": [
      "15 0.9580838323353293\n",
      "16 0.9401197604790419\n",
      "17 0.9700598802395209\n",
      "18 0.9730538922155688\n",
      "19 0.9401197604790419\n",
      "20 0.9580838323353293\n",
      "21 0.9640718562874252\n",
      "22 0.9790419161676647\n",
      "23 0.9580838323353293\n",
      "24 0.9520958083832335\n",
      "25 0.9580838323353293\n",
      "26 0.9491017964071856\n",
      "27 0.9550898203592815\n",
      "28 0.9730538922155688\n",
      "29 0.9461077844311377\n",
      "30 0.9550898203592815\n",
      "31 0.9760479041916168\n",
      "32 0.937125748502994\n",
      "33 0.9550898203592815\n",
      "34 0.937125748502994\n",
      "35 0.9610778443113772\n",
      "36 0.9520958083832335\n",
      "37 0.9790419161676647\n",
      "38 0.9640718562874252\n",
      "39 0.9461077844311377\n",
      "40 0.9520958083832335\n",
      "41 0.9520958083832335\n",
      "42 0.9431137724550899\n",
      "43 0.9670658682634731\n",
      "44 0.9640718562874252\n",
      "45 0.9431137724550899\n",
      "46 0.9431137724550899\n",
      "47 0.9281437125748503\n",
      "48 0.9431137724550899\n",
      "49 0.9730538922155688\n",
      "50 0.9640718562874252\n",
      "51 0.937125748502994\n",
      "52 0.9670658682634731\n",
      "53 0.9401197604790419\n",
      "54 0.9461077844311377\n",
      "55 0.9580838323353293\n",
      "56 0.9730538922155688\n",
      "57 0.9700598802395209\n"
     ]
    },
    {
     "name": "stderr",
     "output_type": "stream",
     "text": [
      "/home/kristian/anaconda3/lib/python3.6/site-packages/sklearn/linear_model/_logistic.py:762: ConvergenceWarning: lbfgs failed to converge (status=1):\n",
      "STOP: TOTAL NO. of ITERATIONS REACHED LIMIT.\n",
      "\n",
      "Increase the number of iterations (max_iter) or scale the data as shown in:\n",
      "    https://scikit-learn.org/stable/modules/preprocessing.html\n",
      "Please also refer to the documentation for alternative solver options:\n",
      "    https://scikit-learn.org/stable/modules/linear_model.html#logistic-regression\n",
      "  extra_warning_msg=_LOGISTIC_SOLVER_CONVERGENCE_MSG)\n"
     ]
    },
    {
     "name": "stdout",
     "output_type": "stream",
     "text": [
      "58 0.9550898203592815\n",
      "59 0.9491017964071856\n",
      "60 0.9610778443113772\n",
      "61 0.9700598802395209\n",
      "62 0.937125748502994\n",
      "63 0.9491017964071856\n",
      "64 0.9640718562874252\n",
      "65 0.9610778443113772\n",
      "66 0.9431137724550899\n",
      "67 0.9700598802395209\n",
      "68 0.9640718562874252\n",
      "69 0.9431137724550899\n",
      "70 0.9431137724550899\n",
      "71 0.9550898203592815\n",
      "72 0.9670658682634731\n",
      "73 0.9610778443113772\n",
      "74 0.9670658682634731\n",
      "75 0.9520958083832335\n",
      "76 0.9431137724550899\n",
      "77 0.9730538922155688\n",
      "78 0.9670658682634731\n",
      "79 0.9461077844311377\n",
      "80 0.9491017964071856\n",
      "81 0.9580838323353293\n",
      "82 0.9640718562874252\n"
     ]
    },
    {
     "name": "stderr",
     "output_type": "stream",
     "text": [
      "/home/kristian/anaconda3/lib/python3.6/site-packages/sklearn/linear_model/_logistic.py:762: ConvergenceWarning: lbfgs failed to converge (status=1):\n",
      "STOP: TOTAL NO. of ITERATIONS REACHED LIMIT.\n",
      "\n",
      "Increase the number of iterations (max_iter) or scale the data as shown in:\n",
      "    https://scikit-learn.org/stable/modules/preprocessing.html\n",
      "Please also refer to the documentation for alternative solver options:\n",
      "    https://scikit-learn.org/stable/modules/linear_model.html#logistic-regression\n",
      "  extra_warning_msg=_LOGISTIC_SOLVER_CONVERGENCE_MSG)\n"
     ]
    },
    {
     "name": "stdout",
     "output_type": "stream",
     "text": [
      "83 0.9610778443113772\n",
      "84 0.9610778443113772\n",
      "85 0.9730538922155688\n",
      "86 0.9341317365269461\n",
      "87 0.9760479041916168\n",
      "88 0.9401197604790419\n",
      "89 0.9550898203592815\n",
      "90 0.9431137724550899\n",
      "91 0.9550898203592815\n",
      "92 0.9431137724550899\n",
      "93 0.9550898203592815\n",
      "94 0.9610778443113772\n",
      "95 0.9520958083832335\n",
      "96 0.9431137724550899\n",
      "97 0.9610778443113772\n",
      "98 0.9491017964071856\n",
      "99 0.9700598802395209\n",
      "100 0.937125748502994\n",
      "101 0.937125748502994\n",
      "102 0.9670658682634731\n",
      "103 0.9401197604790419\n",
      "104 0.9790419161676647\n",
      "105 0.9431137724550899\n",
      "106 0.9730538922155688\n",
      "107 0.9550898203592815\n",
      "108 0.9580838323353293\n",
      "109 0.9520958083832335\n",
      "110 0.9610778443113772\n",
      "111 0.9730538922155688\n",
      "112 0.9520958083832335\n",
      "113 0.9431137724550899\n",
      "114 0.9730538922155688\n",
      "115 0.9730538922155688\n"
     ]
    },
    {
     "name": "stderr",
     "output_type": "stream",
     "text": [
      "/home/kristian/anaconda3/lib/python3.6/site-packages/sklearn/linear_model/_logistic.py:762: ConvergenceWarning: lbfgs failed to converge (status=1):\n",
      "STOP: TOTAL NO. of ITERATIONS REACHED LIMIT.\n",
      "\n",
      "Increase the number of iterations (max_iter) or scale the data as shown in:\n",
      "    https://scikit-learn.org/stable/modules/preprocessing.html\n",
      "Please also refer to the documentation for alternative solver options:\n",
      "    https://scikit-learn.org/stable/modules/linear_model.html#logistic-regression\n",
      "  extra_warning_msg=_LOGISTIC_SOLVER_CONVERGENCE_MSG)\n"
     ]
    },
    {
     "name": "stdout",
     "output_type": "stream",
     "text": [
      "116 0.9431137724550899\n",
      "117 0.9461077844311377\n",
      "118 0.9670658682634731\n",
      "119 0.9550898203592815\n",
      "120 0.9341317365269461\n",
      "121 0.9610778443113772\n",
      "122 0.9461077844311377\n",
      "123 0.9640718562874252\n",
      "124 0.9730538922155688\n",
      "125 0.9670658682634731\n",
      "126 0.9820359281437125\n"
     ]
    },
    {
     "name": "stderr",
     "output_type": "stream",
     "text": [
      "/home/kristian/anaconda3/lib/python3.6/site-packages/sklearn/linear_model/_logistic.py:762: ConvergenceWarning: lbfgs failed to converge (status=1):\n",
      "STOP: TOTAL NO. of ITERATIONS REACHED LIMIT.\n",
      "\n",
      "Increase the number of iterations (max_iter) or scale the data as shown in:\n",
      "    https://scikit-learn.org/stable/modules/preprocessing.html\n",
      "Please also refer to the documentation for alternative solver options:\n",
      "    https://scikit-learn.org/stable/modules/linear_model.html#logistic-regression\n",
      "  extra_warning_msg=_LOGISTIC_SOLVER_CONVERGENCE_MSG)\n"
     ]
    },
    {
     "name": "stdout",
     "output_type": "stream",
     "text": [
      "127 0.9341317365269461\n",
      "128 0.9670658682634731\n",
      "129 0.9640718562874252\n",
      "130 0.9550898203592815\n",
      "131 0.9640718562874252\n",
      "132 0.9640718562874252\n",
      "133 0.9700598802395209\n",
      "134 0.9580838323353293\n",
      "135 0.9580838323353293\n",
      "136 0.9550898203592815\n",
      "137 0.9520958083832335\n",
      "138 0.9401197604790419\n",
      "139 0.9491017964071856\n",
      "140 0.9580838323353293\n",
      "141 0.9730538922155688\n",
      "142 0.9640718562874252\n",
      "143 0.9730538922155688\n",
      "144 0.9700598802395209\n",
      "145 0.9221556886227545\n",
      "146 0.9610778443113772\n",
      "147 0.9610778443113772\n",
      "148 0.9520958083832335\n",
      "149 0.9610778443113772\n",
      "150 0.9550898203592815\n",
      "151 0.9520958083832335\n",
      "152 0.9461077844311377\n",
      "153 0.9491017964071856\n",
      "154 0.9700598802395209\n",
      "155 0.937125748502994\n",
      "156 0.9730538922155688\n",
      "157 0.9730538922155688\n",
      "158 0.9580838323353293\n",
      "159 0.9610778443113772\n",
      "160 0.9580838323353293\n",
      "161 0.9131736526946108\n",
      "162 0.9730538922155688\n"
     ]
    },
    {
     "name": "stderr",
     "output_type": "stream",
     "text": [
      "/home/kristian/anaconda3/lib/python3.6/site-packages/sklearn/linear_model/_logistic.py:762: ConvergenceWarning: lbfgs failed to converge (status=1):\n",
      "STOP: TOTAL NO. of ITERATIONS REACHED LIMIT.\n",
      "\n",
      "Increase the number of iterations (max_iter) or scale the data as shown in:\n",
      "    https://scikit-learn.org/stable/modules/preprocessing.html\n",
      "Please also refer to the documentation for alternative solver options:\n",
      "    https://scikit-learn.org/stable/modules/linear_model.html#logistic-regression\n",
      "  extra_warning_msg=_LOGISTIC_SOLVER_CONVERGENCE_MSG)\n"
     ]
    },
    {
     "name": "stdout",
     "output_type": "stream",
     "text": [
      "163 0.9670658682634731\n",
      "164 0.9730538922155688\n",
      "165 0.9520958083832335\n"
     ]
    },
    {
     "name": "stderr",
     "output_type": "stream",
     "text": [
      "/home/kristian/anaconda3/lib/python3.6/site-packages/sklearn/linear_model/_logistic.py:762: ConvergenceWarning: lbfgs failed to converge (status=1):\n",
      "STOP: TOTAL NO. of ITERATIONS REACHED LIMIT.\n",
      "\n",
      "Increase the number of iterations (max_iter) or scale the data as shown in:\n",
      "    https://scikit-learn.org/stable/modules/preprocessing.html\n",
      "Please also refer to the documentation for alternative solver options:\n",
      "    https://scikit-learn.org/stable/modules/linear_model.html#logistic-regression\n",
      "  extra_warning_msg=_LOGISTIC_SOLVER_CONVERGENCE_MSG)\n"
     ]
    },
    {
     "name": "stdout",
     "output_type": "stream",
     "text": [
      "166 0.9730538922155688\n",
      "167 0.9610778443113772\n",
      "168 0.9610778443113772\n",
      "169 0.9550898203592815\n",
      "170 0.9491017964071856\n",
      "171 0.9491017964071856\n",
      "172 0.9700598802395209\n",
      "173 0.9610778443113772\n",
      "174 0.9461077844311377\n",
      "175 0.9491017964071856\n"
     ]
    },
    {
     "name": "stderr",
     "output_type": "stream",
     "text": [
      "/home/kristian/anaconda3/lib/python3.6/site-packages/sklearn/linear_model/_logistic.py:762: ConvergenceWarning: lbfgs failed to converge (status=1):\n",
      "STOP: TOTAL NO. of ITERATIONS REACHED LIMIT.\n",
      "\n",
      "Increase the number of iterations (max_iter) or scale the data as shown in:\n",
      "    https://scikit-learn.org/stable/modules/preprocessing.html\n",
      "Please also refer to the documentation for alternative solver options:\n",
      "    https://scikit-learn.org/stable/modules/linear_model.html#logistic-regression\n",
      "  extra_warning_msg=_LOGISTIC_SOLVER_CONVERGENCE_MSG)\n"
     ]
    },
    {
     "name": "stdout",
     "output_type": "stream",
     "text": [
      "176 0.9491017964071856\n",
      "177 0.9790419161676647\n"
     ]
    },
    {
     "name": "stderr",
     "output_type": "stream",
     "text": [
      "/home/kristian/anaconda3/lib/python3.6/site-packages/sklearn/linear_model/_logistic.py:762: ConvergenceWarning: lbfgs failed to converge (status=1):\n",
      "STOP: TOTAL NO. of ITERATIONS REACHED LIMIT.\n",
      "\n",
      "Increase the number of iterations (max_iter) or scale the data as shown in:\n",
      "    https://scikit-learn.org/stable/modules/preprocessing.html\n",
      "Please also refer to the documentation for alternative solver options:\n",
      "    https://scikit-learn.org/stable/modules/linear_model.html#logistic-regression\n",
      "  extra_warning_msg=_LOGISTIC_SOLVER_CONVERGENCE_MSG)\n"
     ]
    },
    {
     "name": "stdout",
     "output_type": "stream",
     "text": [
      "178 0.9491017964071856\n"
     ]
    },
    {
     "name": "stderr",
     "output_type": "stream",
     "text": [
      "/home/kristian/anaconda3/lib/python3.6/site-packages/sklearn/linear_model/_logistic.py:762: ConvergenceWarning: lbfgs failed to converge (status=1):\n",
      "STOP: TOTAL NO. of ITERATIONS REACHED LIMIT.\n",
      "\n",
      "Increase the number of iterations (max_iter) or scale the data as shown in:\n",
      "    https://scikit-learn.org/stable/modules/preprocessing.html\n",
      "Please also refer to the documentation for alternative solver options:\n",
      "    https://scikit-learn.org/stable/modules/linear_model.html#logistic-regression\n",
      "  extra_warning_msg=_LOGISTIC_SOLVER_CONVERGENCE_MSG)\n"
     ]
    },
    {
     "name": "stdout",
     "output_type": "stream",
     "text": [
      "179 0.9760479041916168\n",
      "180 0.9700598802395209\n",
      "181 0.9401197604790419\n",
      "182 0.9550898203592815\n",
      "183 0.937125748502994\n",
      "184 0.9491017964071856\n",
      "185 0.9520958083832335\n",
      "186 0.9580838323353293\n",
      "187 0.9431137724550899\n",
      "188 0.9131736526946108\n",
      "189 0.9700598802395209\n",
      "190 0.9850299401197605\n",
      "191 0.9610778443113772\n",
      "192 0.9790419161676647\n",
      "193 0.9760479041916168\n",
      "194 0.9341317365269461\n",
      "195 0.9670658682634731\n",
      "196 0.9670658682634731\n",
      "197 0.9281437125748503\n",
      "198 0.9550898203592815\n",
      "199 0.9341317365269461\n",
      "200 0.9730538922155688\n",
      "201 0.9431137724550899\n",
      "202 0.9730538922155688\n",
      "203 0.9670658682634731\n",
      "204 0.9670658682634731\n",
      "205 0.9610778443113772\n",
      "206 0.9580838323353293\n",
      "207 0.9580838323353293\n",
      "208 0.9670658682634731\n",
      "209 0.9461077844311377\n",
      "210 0.9730538922155688\n",
      "211 0.9580838323353293\n",
      "212 0.9550898203592815\n",
      "213 0.9580838323353293\n",
      "214 0.9431137724550899\n",
      "215 0.9520958083832335\n",
      "216 0.9550898203592815\n",
      "217 0.9431137724550899\n",
      "218 0.9730538922155688\n",
      "219 0.9700598802395209\n",
      "220 0.9461077844311377\n",
      "221 0.9610778443113772\n",
      "222 0.9610778443113772\n",
      "223 0.9640718562874252\n",
      "224 0.9580838323353293\n",
      "225 0.9760479041916168\n",
      "226 0.9700598802395209\n",
      "227 0.9341317365269461\n",
      "228 0.9341317365269461\n",
      "229 0.9670658682634731\n",
      "230 0.9580838323353293\n",
      "231 0.9550898203592815\n",
      "232 0.9640718562874252\n",
      "233 0.9461077844311377\n",
      "234 0.9550898203592815\n",
      "235 0.9610778443113772\n",
      "236 0.9670658682634731\n",
      "237 0.9341317365269461\n",
      "238 0.9640718562874252\n",
      "239 0.9491017964071856\n"
     ]
    },
    {
     "name": "stderr",
     "output_type": "stream",
     "text": [
      "/home/kristian/anaconda3/lib/python3.6/site-packages/sklearn/linear_model/_logistic.py:762: ConvergenceWarning: lbfgs failed to converge (status=1):\n",
      "STOP: TOTAL NO. of ITERATIONS REACHED LIMIT.\n",
      "\n",
      "Increase the number of iterations (max_iter) or scale the data as shown in:\n",
      "    https://scikit-learn.org/stable/modules/preprocessing.html\n",
      "Please also refer to the documentation for alternative solver options:\n",
      "    https://scikit-learn.org/stable/modules/linear_model.html#logistic-regression\n",
      "  extra_warning_msg=_LOGISTIC_SOLVER_CONVERGENCE_MSG)\n"
     ]
    },
    {
     "name": "stdout",
     "output_type": "stream",
     "text": [
      "240 0.9550898203592815\n",
      "241 0.9760479041916168\n",
      "242 0.9580838323353293\n",
      "243 0.9461077844311377\n",
      "244 0.9790419161676647\n",
      "245 0.9550898203592815\n",
      "246 0.9820359281437125\n",
      "247 0.9431137724550899\n",
      "248 0.9670658682634731\n",
      "249 0.9491017964071856\n",
      "250 0.9461077844311377\n",
      "251 0.9700598802395209\n",
      "252 0.9610778443113772\n",
      "253 0.9550898203592815\n",
      "254 0.9760479041916168\n",
      "255 0.9670658682634731\n",
      "256 0.9431137724550899\n",
      "257 0.9520958083832335\n",
      "258 0.9640718562874252\n",
      "259 0.9610778443113772\n"
     ]
    },
    {
     "name": "stderr",
     "output_type": "stream",
     "text": [
      "/home/kristian/anaconda3/lib/python3.6/site-packages/sklearn/linear_model/_logistic.py:762: ConvergenceWarning: lbfgs failed to converge (status=1):\n",
      "STOP: TOTAL NO. of ITERATIONS REACHED LIMIT.\n",
      "\n",
      "Increase the number of iterations (max_iter) or scale the data as shown in:\n",
      "    https://scikit-learn.org/stable/modules/preprocessing.html\n",
      "Please also refer to the documentation for alternative solver options:\n",
      "    https://scikit-learn.org/stable/modules/linear_model.html#logistic-regression\n",
      "  extra_warning_msg=_LOGISTIC_SOLVER_CONVERGENCE_MSG)\n"
     ]
    },
    {
     "name": "stdout",
     "output_type": "stream",
     "text": [
      "260 0.9670658682634731\n",
      "261 0.9461077844311377\n",
      "262 0.9640718562874252\n",
      "263 0.9640718562874252\n",
      "264 0.9640718562874252\n",
      "265 0.9670658682634731\n",
      "266 0.9850299401197605\n",
      "267 0.937125748502994\n",
      "268 0.9700598802395209\n",
      "269 0.9820359281437125\n",
      "270 0.9640718562874252\n",
      "271 0.9401197604790419\n",
      "272 0.9610778443113772\n",
      "273 0.9700598802395209\n",
      "274 0.9520958083832335\n",
      "275 0.9491017964071856\n",
      "276 0.9580838323353293\n",
      "277 0.9431137724550899\n"
     ]
    },
    {
     "name": "stderr",
     "output_type": "stream",
     "text": [
      "/home/kristian/anaconda3/lib/python3.6/site-packages/sklearn/linear_model/_logistic.py:762: ConvergenceWarning: lbfgs failed to converge (status=1):\n",
      "STOP: TOTAL NO. of ITERATIONS REACHED LIMIT.\n",
      "\n",
      "Increase the number of iterations (max_iter) or scale the data as shown in:\n",
      "    https://scikit-learn.org/stable/modules/preprocessing.html\n",
      "Please also refer to the documentation for alternative solver options:\n",
      "    https://scikit-learn.org/stable/modules/linear_model.html#logistic-regression\n",
      "  extra_warning_msg=_LOGISTIC_SOLVER_CONVERGENCE_MSG)\n"
     ]
    },
    {
     "name": "stdout",
     "output_type": "stream",
     "text": [
      "278 0.9550898203592815\n",
      "279 0.9431137724550899\n",
      "280 0.9730538922155688\n",
      "281 0.9550898203592815\n",
      "282 0.9640718562874252\n",
      "283 0.9610778443113772\n",
      "284 0.9580838323353293\n",
      "285 0.937125748502994\n",
      "286 0.9640718562874252\n",
      "287 0.9461077844311377\n",
      "288 0.9461077844311377\n",
      "289 0.9730538922155688\n",
      "290 0.9431137724550899\n",
      "291 0.9730538922155688\n",
      "292 0.9311377245508982\n",
      "293 0.9610778443113772\n",
      "294 0.9491017964071856\n",
      "295 0.9251497005988024\n",
      "296 0.9491017964071856\n",
      "297 0.9520958083832335\n",
      "298 0.9700598802395209\n",
      "299 0.9461077844311377\n",
      "300 0.9670658682634731\n",
      "301 0.9760479041916168\n",
      "302 0.9610778443113772\n",
      "303 0.9640718562874252\n",
      "304 0.937125748502994\n",
      "305 0.9311377245508982\n",
      "306 0.9491017964071856\n",
      "307 0.9640718562874252\n",
      "308 0.9730538922155688\n",
      "309 0.9161676646706587\n",
      "310 0.9580838323353293\n",
      "311 0.9640718562874252\n",
      "312 0.9550898203592815\n",
      "313 0.9491017964071856\n",
      "314 0.9610778443113772\n",
      "315 0.9610778443113772\n",
      "316 0.9610778443113772\n",
      "317 0.9730538922155688\n",
      "318 0.9580838323353293\n",
      "319 0.9610778443113772\n",
      "320 0.9700598802395209\n",
      "321 0.9760479041916168\n",
      "322 0.9550898203592815\n",
      "323 0.9550898203592815\n",
      "324 0.9520958083832335\n",
      "325 0.9640718562874252\n",
      "326 0.9700598802395209\n",
      "327 0.9640718562874252\n",
      "328 0.9580838323353293\n",
      "329 0.9461077844311377\n",
      "330 0.9520958083832335\n",
      "331 0.9610778443113772\n",
      "332 0.9550898203592815\n",
      "333 0.9760479041916168\n",
      "334 0.9610778443113772\n",
      "335 0.9580838323353293\n",
      "336 0.9550898203592815\n",
      "337 0.937125748502994\n",
      "338 0.9580838323353293\n",
      "339 0.9610778443113772\n",
      "340 0.9491017964071856\n",
      "341 0.9580838323353293\n",
      "342 0.9520958083832335\n",
      "343 0.9461077844311377\n",
      "344 0.9700598802395209\n",
      "345 0.9401197604790419\n",
      "346 0.9760479041916168\n",
      "347 0.9401197604790419\n",
      "348 0.9610778443113772\n",
      "349 0.9580838323353293\n",
      "350 0.9610778443113772\n",
      "351 0.9790419161676647\n",
      "352 0.9491017964071856\n",
      "353 0.9670658682634731\n",
      "354 0.9251497005988024\n",
      "355 0.937125748502994\n",
      "356 0.9700598802395209\n",
      "357 0.9461077844311377\n",
      "358 0.9341317365269461\n",
      "359 0.9520958083832335\n",
      "360 0.9580838323353293\n",
      "361 0.9610778443113772\n",
      "362 0.9401197604790419\n",
      "363 0.9580838323353293\n",
      "364 0.9520958083832335\n",
      "365 0.937125748502994\n",
      "366 0.9431137724550899\n",
      "367 0.9520958083832335\n",
      "368 0.9491017964071856\n",
      "369 0.9610778443113772\n",
      "370 0.9610778443113772\n",
      "371 0.9760479041916168\n",
      "372 0.9640718562874252\n",
      "373 0.9520958083832335\n",
      "374 0.9730538922155688\n",
      "375 0.9730538922155688\n",
      "376 0.9341317365269461\n",
      "377 0.9640718562874252\n",
      "378 0.9431137724550899\n",
      "379 0.9520958083832335\n",
      "380 0.937125748502994\n",
      "381 0.9610778443113772\n",
      "382 0.9431137724550899\n",
      "383 0.9700598802395209\n",
      "384 0.9610778443113772\n",
      "385 0.9700598802395209\n",
      "386 0.9700598802395209\n",
      "387 0.9550898203592815\n",
      "388 0.9550898203592815\n",
      "389 0.9610778443113772\n",
      "390 0.9700598802395209\n",
      "391 0.9550898203592815\n",
      "392 0.9550898203592815\n",
      "393 0.9640718562874252\n",
      "394 0.9461077844311377\n",
      "395 0.9401197604790419\n",
      "396 0.9461077844311377\n",
      "397 0.9520958083832335\n",
      "398 0.9461077844311377\n",
      "399 0.9670658682634731\n",
      "400 0.937125748502994\n",
      "401 0.9580838323353293\n",
      "402 0.9461077844311377\n",
      "403 0.9431137724550899\n",
      "404 0.9431137724550899\n",
      "405 0.9700598802395209\n",
      "406 0.9461077844311377\n",
      "407 0.9491017964071856\n",
      "408 0.9700598802395209\n",
      "409 0.9640718562874252\n",
      "410 0.9550898203592815\n",
      "411 0.9580838323353293\n",
      "412 0.9191616766467066\n",
      "413 0.9580838323353293\n",
      "414 0.9730538922155688\n",
      "415 0.9700598802395209\n",
      "416 0.9431137724550899\n",
      "417 0.9670658682634731\n",
      "418 0.9401197604790419\n",
      "419 0.9580838323353293\n"
     ]
    },
    {
     "name": "stderr",
     "output_type": "stream",
     "text": [
      "/home/kristian/anaconda3/lib/python3.6/site-packages/sklearn/linear_model/_logistic.py:762: ConvergenceWarning: lbfgs failed to converge (status=1):\n",
      "STOP: TOTAL NO. of ITERATIONS REACHED LIMIT.\n",
      "\n",
      "Increase the number of iterations (max_iter) or scale the data as shown in:\n",
      "    https://scikit-learn.org/stable/modules/preprocessing.html\n",
      "Please also refer to the documentation for alternative solver options:\n",
      "    https://scikit-learn.org/stable/modules/linear_model.html#logistic-regression\n",
      "  extra_warning_msg=_LOGISTIC_SOLVER_CONVERGENCE_MSG)\n"
     ]
    },
    {
     "name": "stdout",
     "output_type": "stream",
     "text": [
      "420 0.9730538922155688\n",
      "421 0.9670658682634731\n",
      "422 0.9610778443113772\n",
      "423 0.9610778443113772\n",
      "424 0.9550898203592815\n",
      "425 0.9700598802395209\n",
      "426 0.9461077844311377\n",
      "427 0.9610778443113772\n",
      "428 0.937125748502994\n",
      "429 0.9700598802395209\n",
      "430 0.9491017964071856\n",
      "431 0.9461077844311377\n",
      "432 0.9461077844311377\n",
      "433 0.9550898203592815\n",
      "434 0.9640718562874252\n",
      "435 0.9520958083832335\n",
      "436 0.9341317365269461\n",
      "437 0.9640718562874252\n",
      "438 0.9640718562874252\n",
      "439 0.9610778443113772\n",
      "440 0.9820359281437125\n",
      "441 0.9461077844311377\n",
      "442 0.937125748502994\n",
      "443 0.937125748502994\n"
     ]
    },
    {
     "name": "stderr",
     "output_type": "stream",
     "text": [
      "/home/kristian/anaconda3/lib/python3.6/site-packages/sklearn/linear_model/_logistic.py:762: ConvergenceWarning: lbfgs failed to converge (status=1):\n",
      "STOP: TOTAL NO. of ITERATIONS REACHED LIMIT.\n",
      "\n",
      "Increase the number of iterations (max_iter) or scale the data as shown in:\n",
      "    https://scikit-learn.org/stable/modules/preprocessing.html\n",
      "Please also refer to the documentation for alternative solver options:\n",
      "    https://scikit-learn.org/stable/modules/linear_model.html#logistic-regression\n",
      "  extra_warning_msg=_LOGISTIC_SOLVER_CONVERGENCE_MSG)\n"
     ]
    },
    {
     "name": "stdout",
     "output_type": "stream",
     "text": [
      "444 0.9550898203592815\n",
      "445 0.9491017964071856\n",
      "446 0.9640718562874252\n",
      "447 0.9550898203592815\n",
      "448 0.9790419161676647\n",
      "449 0.9491017964071856\n",
      "450 0.9550898203592815\n",
      "451 0.9670658682634731\n"
     ]
    },
    {
     "name": "stderr",
     "output_type": "stream",
     "text": [
      "/home/kristian/anaconda3/lib/python3.6/site-packages/sklearn/linear_model/_logistic.py:762: ConvergenceWarning: lbfgs failed to converge (status=1):\n",
      "STOP: TOTAL NO. of ITERATIONS REACHED LIMIT.\n",
      "\n",
      "Increase the number of iterations (max_iter) or scale the data as shown in:\n",
      "    https://scikit-learn.org/stable/modules/preprocessing.html\n",
      "Please also refer to the documentation for alternative solver options:\n",
      "    https://scikit-learn.org/stable/modules/linear_model.html#logistic-regression\n",
      "  extra_warning_msg=_LOGISTIC_SOLVER_CONVERGENCE_MSG)\n"
     ]
    },
    {
     "name": "stdout",
     "output_type": "stream",
     "text": [
      "452 0.9431137724550899\n",
      "453 0.9580838323353293\n"
     ]
    },
    {
     "name": "stderr",
     "output_type": "stream",
     "text": [
      "/home/kristian/anaconda3/lib/python3.6/site-packages/sklearn/linear_model/_logistic.py:762: ConvergenceWarning: lbfgs failed to converge (status=1):\n",
      "STOP: TOTAL NO. of ITERATIONS REACHED LIMIT.\n",
      "\n",
      "Increase the number of iterations (max_iter) or scale the data as shown in:\n",
      "    https://scikit-learn.org/stable/modules/preprocessing.html\n",
      "Please also refer to the documentation for alternative solver options:\n",
      "    https://scikit-learn.org/stable/modules/linear_model.html#logistic-regression\n",
      "  extra_warning_msg=_LOGISTIC_SOLVER_CONVERGENCE_MSG)\n"
     ]
    },
    {
     "name": "stdout",
     "output_type": "stream",
     "text": [
      "454 0.9700598802395209\n",
      "455 0.9670658682634731\n",
      "456 0.9491017964071856\n",
      "457 0.9520958083832335\n",
      "458 0.9640718562874252\n",
      "459 0.9700598802395209\n",
      "460 0.9580838323353293\n",
      "461 0.9520958083832335\n",
      "462 0.9221556886227545\n",
      "463 0.9670658682634731\n",
      "464 0.9580838323353293\n",
      "465 0.9610778443113772\n",
      "466 0.9520958083832335\n",
      "467 0.9610778443113772\n",
      "468 0.9640718562874252\n",
      "469 0.9700598802395209\n",
      "470 0.9550898203592815\n",
      "471 0.9580838323353293\n"
     ]
    },
    {
     "name": "stderr",
     "output_type": "stream",
     "text": [
      "/home/kristian/anaconda3/lib/python3.6/site-packages/sklearn/linear_model/_logistic.py:762: ConvergenceWarning: lbfgs failed to converge (status=1):\n",
      "STOP: TOTAL NO. of ITERATIONS REACHED LIMIT.\n",
      "\n",
      "Increase the number of iterations (max_iter) or scale the data as shown in:\n",
      "    https://scikit-learn.org/stable/modules/preprocessing.html\n",
      "Please also refer to the documentation for alternative solver options:\n",
      "    https://scikit-learn.org/stable/modules/linear_model.html#logistic-regression\n",
      "  extra_warning_msg=_LOGISTIC_SOLVER_CONVERGENCE_MSG)\n"
     ]
    },
    {
     "name": "stdout",
     "output_type": "stream",
     "text": [
      "472 0.9640718562874252\n",
      "473 0.9550898203592815\n",
      "474 0.9610778443113772\n",
      "475 0.937125748502994\n",
      "476 0.9520958083832335\n",
      "477 0.9640718562874252\n"
     ]
    },
    {
     "name": "stderr",
     "output_type": "stream",
     "text": [
      "/home/kristian/anaconda3/lib/python3.6/site-packages/sklearn/linear_model/_logistic.py:762: ConvergenceWarning: lbfgs failed to converge (status=1):\n",
      "STOP: TOTAL NO. of ITERATIONS REACHED LIMIT.\n",
      "\n",
      "Increase the number of iterations (max_iter) or scale the data as shown in:\n",
      "    https://scikit-learn.org/stable/modules/preprocessing.html\n",
      "Please also refer to the documentation for alternative solver options:\n",
      "    https://scikit-learn.org/stable/modules/linear_model.html#logistic-regression\n",
      "  extra_warning_msg=_LOGISTIC_SOLVER_CONVERGENCE_MSG)\n"
     ]
    },
    {
     "name": "stdout",
     "output_type": "stream",
     "text": [
      "478 0.9610778443113772\n",
      "479 0.9520958083832335\n",
      "480 0.9550898203592815\n",
      "481 0.9580838323353293\n",
      "482 0.9520958083832335\n",
      "483 0.9550898203592815\n",
      "484 0.9580838323353293\n",
      "485 0.9520958083832335\n"
     ]
    },
    {
     "name": "stderr",
     "output_type": "stream",
     "text": [
      "/home/kristian/anaconda3/lib/python3.6/site-packages/sklearn/linear_model/_logistic.py:762: ConvergenceWarning: lbfgs failed to converge (status=1):\n",
      "STOP: TOTAL NO. of ITERATIONS REACHED LIMIT.\n",
      "\n",
      "Increase the number of iterations (max_iter) or scale the data as shown in:\n",
      "    https://scikit-learn.org/stable/modules/preprocessing.html\n",
      "Please also refer to the documentation for alternative solver options:\n",
      "    https://scikit-learn.org/stable/modules/linear_model.html#logistic-regression\n",
      "  extra_warning_msg=_LOGISTIC_SOLVER_CONVERGENCE_MSG)\n"
     ]
    },
    {
     "name": "stdout",
     "output_type": "stream",
     "text": [
      "486 0.9640718562874252\n",
      "487 0.9730538922155688\n"
     ]
    },
    {
     "name": "stderr",
     "output_type": "stream",
     "text": [
      "/home/kristian/anaconda3/lib/python3.6/site-packages/sklearn/linear_model/_logistic.py:762: ConvergenceWarning: lbfgs failed to converge (status=1):\n",
      "STOP: TOTAL NO. of ITERATIONS REACHED LIMIT.\n",
      "\n",
      "Increase the number of iterations (max_iter) or scale the data as shown in:\n",
      "    https://scikit-learn.org/stable/modules/preprocessing.html\n",
      "Please also refer to the documentation for alternative solver options:\n",
      "    https://scikit-learn.org/stable/modules/linear_model.html#logistic-regression\n",
      "  extra_warning_msg=_LOGISTIC_SOLVER_CONVERGENCE_MSG)\n"
     ]
    },
    {
     "name": "stdout",
     "output_type": "stream",
     "text": [
      "488 0.9461077844311377\n",
      "489 0.9580838323353293\n",
      "490 0.9550898203592815\n",
      "491 0.9610778443113772\n",
      "492 0.9580838323353293\n",
      "493 0.937125748502994\n",
      "494 0.9550898203592815\n",
      "495 0.9730538922155688\n"
     ]
    },
    {
     "name": "stderr",
     "output_type": "stream",
     "text": [
      "/home/kristian/anaconda3/lib/python3.6/site-packages/sklearn/linear_model/_logistic.py:762: ConvergenceWarning: lbfgs failed to converge (status=1):\n",
      "STOP: TOTAL NO. of ITERATIONS REACHED LIMIT.\n",
      "\n",
      "Increase the number of iterations (max_iter) or scale the data as shown in:\n",
      "    https://scikit-learn.org/stable/modules/preprocessing.html\n",
      "Please also refer to the documentation for alternative solver options:\n",
      "    https://scikit-learn.org/stable/modules/linear_model.html#logistic-regression\n",
      "  extra_warning_msg=_LOGISTIC_SOLVER_CONVERGENCE_MSG)\n"
     ]
    },
    {
     "name": "stdout",
     "output_type": "stream",
     "text": [
      "496 0.9311377245508982\n",
      "497 0.9640718562874252\n",
      "498 0.9730538922155688\n",
      "499 0.9101796407185628\n",
      "500 0.9580838323353293\n",
      "501 0.9341317365269461\n",
      "502 0.9520958083832335\n",
      "503 0.9670658682634731\n",
      "504 0.9341317365269461\n",
      "505 0.9640718562874252\n",
      "506 0.9730538922155688\n",
      "507 0.9431137724550899\n",
      "508 0.9491017964071856\n",
      "509 0.9580838323353293\n"
     ]
    },
    {
     "name": "stderr",
     "output_type": "stream",
     "text": [
      "/home/kristian/anaconda3/lib/python3.6/site-packages/sklearn/linear_model/_logistic.py:762: ConvergenceWarning: lbfgs failed to converge (status=1):\n",
      "STOP: TOTAL NO. of ITERATIONS REACHED LIMIT.\n",
      "\n",
      "Increase the number of iterations (max_iter) or scale the data as shown in:\n",
      "    https://scikit-learn.org/stable/modules/preprocessing.html\n",
      "Please also refer to the documentation for alternative solver options:\n",
      "    https://scikit-learn.org/stable/modules/linear_model.html#logistic-regression\n",
      "  extra_warning_msg=_LOGISTIC_SOLVER_CONVERGENCE_MSG)\n"
     ]
    },
    {
     "name": "stdout",
     "output_type": "stream",
     "text": [
      "510 0.9640718562874252\n",
      "511 0.9730538922155688\n",
      "512 0.9580838323353293\n"
     ]
    },
    {
     "name": "stderr",
     "output_type": "stream",
     "text": [
      "/home/kristian/anaconda3/lib/python3.6/site-packages/sklearn/linear_model/_logistic.py:762: ConvergenceWarning: lbfgs failed to converge (status=1):\n",
      "STOP: TOTAL NO. of ITERATIONS REACHED LIMIT.\n",
      "\n",
      "Increase the number of iterations (max_iter) or scale the data as shown in:\n",
      "    https://scikit-learn.org/stable/modules/preprocessing.html\n",
      "Please also refer to the documentation for alternative solver options:\n",
      "    https://scikit-learn.org/stable/modules/linear_model.html#logistic-regression\n",
      "  extra_warning_msg=_LOGISTIC_SOLVER_CONVERGENCE_MSG)\n"
     ]
    },
    {
     "name": "stdout",
     "output_type": "stream",
     "text": [
      "513 0.9730538922155688\n",
      "514 0.9640718562874252\n"
     ]
    },
    {
     "name": "stderr",
     "output_type": "stream",
     "text": [
      "/home/kristian/anaconda3/lib/python3.6/site-packages/sklearn/linear_model/_logistic.py:762: ConvergenceWarning: lbfgs failed to converge (status=1):\n",
      "STOP: TOTAL NO. of ITERATIONS REACHED LIMIT.\n",
      "\n",
      "Increase the number of iterations (max_iter) or scale the data as shown in:\n",
      "    https://scikit-learn.org/stable/modules/preprocessing.html\n",
      "Please also refer to the documentation for alternative solver options:\n",
      "    https://scikit-learn.org/stable/modules/linear_model.html#logistic-regression\n",
      "  extra_warning_msg=_LOGISTIC_SOLVER_CONVERGENCE_MSG)\n"
     ]
    },
    {
     "name": "stdout",
     "output_type": "stream",
     "text": [
      "515 0.9760479041916168\n",
      "516 0.9610778443113772\n",
      "517 0.9520958083832335\n",
      "518 0.9431137724550899\n",
      "519 0.9610778443113772\n",
      "520 0.9670658682634731\n",
      "521 0.9700598802395209\n",
      "522 0.9700598802395209\n",
      "523 0.9730538922155688\n",
      "524 0.9730538922155688\n",
      "525 0.9580838323353293\n",
      "526 0.9520958083832335\n",
      "527 0.9520958083832335\n",
      "528 0.9550898203592815\n",
      "529 0.9610778443113772\n",
      "530 0.9640718562874252\n"
     ]
    },
    {
     "name": "stderr",
     "output_type": "stream",
     "text": [
      "/home/kristian/anaconda3/lib/python3.6/site-packages/sklearn/linear_model/_logistic.py:762: ConvergenceWarning: lbfgs failed to converge (status=1):\n",
      "STOP: TOTAL NO. of ITERATIONS REACHED LIMIT.\n",
      "\n",
      "Increase the number of iterations (max_iter) or scale the data as shown in:\n",
      "    https://scikit-learn.org/stable/modules/preprocessing.html\n",
      "Please also refer to the documentation for alternative solver options:\n",
      "    https://scikit-learn.org/stable/modules/linear_model.html#logistic-regression\n",
      "  extra_warning_msg=_LOGISTIC_SOLVER_CONVERGENCE_MSG)\n"
     ]
    },
    {
     "name": "stdout",
     "output_type": "stream",
     "text": [
      "531 0.9610778443113772\n",
      "532 0.9700598802395209\n",
      "533 0.9580838323353293\n",
      "534 0.937125748502994\n",
      "535 0.9550898203592815\n",
      "536 0.9491017964071856\n",
      "537 0.9311377245508982\n",
      "538 0.9431137724550899\n",
      "539 0.9580838323353293\n",
      "540 0.9700598802395209\n",
      "541 0.9491017964071856\n",
      "542 0.9820359281437125\n",
      "543 0.9640718562874252\n",
      "544 0.9700598802395209\n",
      "545 0.9610778443113772\n",
      "546 0.9640718562874252\n",
      "547 0.9580838323353293\n",
      "548 0.9281437125748503\n",
      "549 0.9461077844311377\n",
      "550 0.9610778443113772\n",
      "551 0.9670658682634731\n",
      "552 0.9610778443113772\n",
      "553 0.9550898203592815\n",
      "554 0.9580838323353293\n",
      "555 0.9491017964071856\n",
      "556 0.9491017964071856\n",
      "557 0.9760479041916168\n",
      "558 0.937125748502994\n",
      "559 0.9700598802395209\n",
      "560 0.9640718562874252\n",
      "561 0.9820359281437125\n",
      "562 0.9610778443113772\n",
      "563 0.9670658682634731\n",
      "564 0.9491017964071856\n",
      "565 0.9550898203592815\n",
      "566 0.9520958083832335\n",
      "567 0.9491017964071856\n",
      "568 0.9610778443113772\n",
      "569 0.9491017964071856\n",
      "570 0.9431137724550899\n",
      "571 0.9550898203592815\n",
      "572 0.9550898203592815\n",
      "573 0.9580838323353293\n",
      "574 0.9670658682634731\n",
      "575 0.9640718562874252\n",
      "576 0.9491017964071856\n",
      "577 0.9730538922155688\n",
      "578 0.9491017964071856\n",
      "579 0.9700598802395209\n",
      "580 0.9580838323353293\n",
      "581 0.9730538922155688\n",
      "582 0.9341317365269461\n"
     ]
    },
    {
     "name": "stderr",
     "output_type": "stream",
     "text": [
      "/home/kristian/anaconda3/lib/python3.6/site-packages/sklearn/linear_model/_logistic.py:762: ConvergenceWarning: lbfgs failed to converge (status=1):\n",
      "STOP: TOTAL NO. of ITERATIONS REACHED LIMIT.\n",
      "\n",
      "Increase the number of iterations (max_iter) or scale the data as shown in:\n",
      "    https://scikit-learn.org/stable/modules/preprocessing.html\n",
      "Please also refer to the documentation for alternative solver options:\n",
      "    https://scikit-learn.org/stable/modules/linear_model.html#logistic-regression\n",
      "  extra_warning_msg=_LOGISTIC_SOLVER_CONVERGENCE_MSG)\n"
     ]
    },
    {
     "name": "stdout",
     "output_type": "stream",
     "text": [
      "583 0.9461077844311377\n",
      "584 0.9610778443113772\n",
      "585 0.9640718562874252\n",
      "586 0.9550898203592815\n",
      "587 0.9730538922155688\n",
      "588 0.9700598802395209\n",
      "589 0.9610778443113772\n",
      "590 0.9431137724550899\n",
      "591 0.9640718562874252\n",
      "592 0.9640718562874252\n",
      "593 0.9760479041916168\n",
      "594 0.9610778443113772\n",
      "595 0.9461077844311377\n",
      "596 0.9550898203592815\n",
      "597 0.9670658682634731\n",
      "598 0.9670658682634731\n",
      "599 0.9520958083832335\n",
      "600 0.9251497005988024\n",
      "601 0.9580838323353293\n",
      "602 0.9610778443113772\n",
      "603 0.9520958083832335\n",
      "604 0.9700598802395209\n",
      "605 0.9730538922155688\n",
      "606 0.9610778443113772\n",
      "607 0.9610778443113772\n",
      "608 0.9670658682634731\n",
      "609 0.9431137724550899\n",
      "610 0.9610778443113772\n",
      "611 0.9850299401197605\n",
      "612 0.9550898203592815\n",
      "613 0.9610778443113772\n",
      "614 0.9580838323353293\n"
     ]
    },
    {
     "name": "stderr",
     "output_type": "stream",
     "text": [
      "/home/kristian/anaconda3/lib/python3.6/site-packages/sklearn/linear_model/_logistic.py:762: ConvergenceWarning: lbfgs failed to converge (status=1):\n",
      "STOP: TOTAL NO. of ITERATIONS REACHED LIMIT.\n",
      "\n",
      "Increase the number of iterations (max_iter) or scale the data as shown in:\n",
      "    https://scikit-learn.org/stable/modules/preprocessing.html\n",
      "Please also refer to the documentation for alternative solver options:\n",
      "    https://scikit-learn.org/stable/modules/linear_model.html#logistic-regression\n",
      "  extra_warning_msg=_LOGISTIC_SOLVER_CONVERGENCE_MSG)\n"
     ]
    },
    {
     "name": "stdout",
     "output_type": "stream",
     "text": [
      "615 0.9431137724550899\n",
      "616 0.9520958083832335\n",
      "617 0.9700598802395209\n",
      "618 0.9640718562874252\n",
      "619 0.9550898203592815\n",
      "620 0.9431137724550899\n",
      "621 0.9191616766467066\n",
      "622 0.9610778443113772\n",
      "623 0.9550898203592815\n",
      "624 0.9610778443113772\n"
     ]
    },
    {
     "name": "stderr",
     "output_type": "stream",
     "text": [
      "/home/kristian/anaconda3/lib/python3.6/site-packages/sklearn/linear_model/_logistic.py:762: ConvergenceWarning: lbfgs failed to converge (status=1):\n",
      "STOP: TOTAL NO. of ITERATIONS REACHED LIMIT.\n",
      "\n",
      "Increase the number of iterations (max_iter) or scale the data as shown in:\n",
      "    https://scikit-learn.org/stable/modules/preprocessing.html\n",
      "Please also refer to the documentation for alternative solver options:\n",
      "    https://scikit-learn.org/stable/modules/linear_model.html#logistic-regression\n",
      "  extra_warning_msg=_LOGISTIC_SOLVER_CONVERGENCE_MSG)\n",
      "/home/kristian/anaconda3/lib/python3.6/site-packages/sklearn/linear_model/_logistic.py:762: ConvergenceWarning: lbfgs failed to converge (status=1):\n",
      "STOP: TOTAL NO. of ITERATIONS REACHED LIMIT.\n",
      "\n",
      "Increase the number of iterations (max_iter) or scale the data as shown in:\n",
      "    https://scikit-learn.org/stable/modules/preprocessing.html\n",
      "Please also refer to the documentation for alternative solver options:\n",
      "    https://scikit-learn.org/stable/modules/linear_model.html#logistic-regression\n",
      "  extra_warning_msg=_LOGISTIC_SOLVER_CONVERGENCE_MSG)\n"
     ]
    },
    {
     "name": "stdout",
     "output_type": "stream",
     "text": [
      "625 0.9550898203592815\n",
      "626 0.9760479041916168\n",
      "627 0.9610778443113772\n",
      "628 0.9580838323353293\n",
      "629 0.9341317365269461\n",
      "630 0.9670658682634731\n",
      "631 0.9520958083832335\n",
      "632 0.9491017964071856\n",
      "633 0.9550898203592815\n",
      "634 0.9431137724550899\n",
      "635 0.9341317365269461\n",
      "636 0.9520958083832335\n",
      "637 0.9580838323353293\n",
      "638 0.9700598802395209\n",
      "639 0.9520958083832335\n",
      "640 0.9640718562874252\n",
      "641 0.9401197604790419\n",
      "642 0.9670658682634731\n",
      "643 0.9760479041916168\n",
      "644 0.9610778443113772\n",
      "645 0.9730538922155688\n",
      "646 0.9520958083832335\n",
      "647 0.9610778443113772\n",
      "648 0.9730538922155688\n"
     ]
    },
    {
     "name": "stderr",
     "output_type": "stream",
     "text": [
      "/home/kristian/anaconda3/lib/python3.6/site-packages/sklearn/linear_model/_logistic.py:762: ConvergenceWarning: lbfgs failed to converge (status=1):\n",
      "STOP: TOTAL NO. of ITERATIONS REACHED LIMIT.\n",
      "\n",
      "Increase the number of iterations (max_iter) or scale the data as shown in:\n",
      "    https://scikit-learn.org/stable/modules/preprocessing.html\n",
      "Please also refer to the documentation for alternative solver options:\n",
      "    https://scikit-learn.org/stable/modules/linear_model.html#logistic-regression\n",
      "  extra_warning_msg=_LOGISTIC_SOLVER_CONVERGENCE_MSG)\n"
     ]
    },
    {
     "name": "stdout",
     "output_type": "stream",
     "text": [
      "649 0.9670658682634731\n",
      "650 0.9520958083832335\n",
      "651 0.9610778443113772\n",
      "652 0.9461077844311377\n",
      "653 0.9491017964071856\n",
      "654 0.9401197604790419\n",
      "655 0.9431137724550899\n",
      "656 0.9221556886227545\n",
      "657 0.9431137724550899\n",
      "658 0.9790419161676647\n",
      "659 0.9520958083832335\n",
      "660 0.9610778443113772\n",
      "661 0.9520958083832335\n",
      "662 0.9550898203592815\n",
      "663 0.9491017964071856\n",
      "664 0.9580838323353293\n",
      "665 0.9700598802395209\n",
      "666 0.9550898203592815\n"
     ]
    },
    {
     "name": "stderr",
     "output_type": "stream",
     "text": [
      "/home/kristian/anaconda3/lib/python3.6/site-packages/sklearn/linear_model/_logistic.py:762: ConvergenceWarning: lbfgs failed to converge (status=1):\n",
      "STOP: TOTAL NO. of ITERATIONS REACHED LIMIT.\n",
      "\n",
      "Increase the number of iterations (max_iter) or scale the data as shown in:\n",
      "    https://scikit-learn.org/stable/modules/preprocessing.html\n",
      "Please also refer to the documentation for alternative solver options:\n",
      "    https://scikit-learn.org/stable/modules/linear_model.html#logistic-regression\n",
      "  extra_warning_msg=_LOGISTIC_SOLVER_CONVERGENCE_MSG)\n"
     ]
    },
    {
     "name": "stdout",
     "output_type": "stream",
     "text": [
      "667 0.9311377245508982\n",
      "668 0.9760479041916168\n",
      "669 0.9670658682634731\n",
      "670 0.9491017964071856\n",
      "671 0.9431137724550899\n",
      "672 0.9491017964071856\n",
      "673 0.9461077844311377\n",
      "674 0.9670658682634731\n",
      "675 0.9700598802395209\n",
      "676 0.9610778443113772\n",
      "677 0.9640718562874252\n",
      "678 0.9401197604790419\n",
      "679 0.9580838323353293\n",
      "680 0.9491017964071856\n",
      "681 0.9610778443113772\n",
      "682 0.9760479041916168\n",
      "683 0.9550898203592815\n",
      "684 0.9491017964071856\n",
      "685 0.9461077844311377\n",
      "686 0.9401197604790419\n",
      "687 0.9760479041916168\n",
      "688 0.9580838323353293\n",
      "689 0.9461077844311377\n",
      "690 0.9520958083832335\n",
      "691 0.9550898203592815\n",
      "692 0.9520958083832335\n",
      "693 0.9461077844311377\n",
      "694 0.9550898203592815\n",
      "695 0.9491017964071856\n",
      "696 0.9640718562874252\n",
      "697 0.9550898203592815\n",
      "698 0.9760479041916168\n",
      "699 0.9700598802395209\n",
      "700 0.9461077844311377\n",
      "701 0.9580838323353293\n",
      "702 0.9520958083832335\n",
      "703 0.9640718562874252\n",
      "704 0.9550898203592815\n",
      "705 0.9730538922155688\n",
      "706 0.9610778443113772\n",
      "707 0.9520958083832335\n",
      "708 0.9550898203592815\n",
      "709 0.9760479041916168\n",
      "710 0.9401197604790419\n",
      "711 0.937125748502994\n",
      "712 0.9700598802395209\n",
      "713 0.9640718562874252\n",
      "714 0.9700598802395209\n",
      "715 0.9491017964071856\n",
      "716 0.9640718562874252\n",
      "717 0.9341317365269461\n",
      "718 0.9700598802395209\n"
     ]
    },
    {
     "name": "stderr",
     "output_type": "stream",
     "text": [
      "/home/kristian/anaconda3/lib/python3.6/site-packages/sklearn/linear_model/_logistic.py:762: ConvergenceWarning: lbfgs failed to converge (status=1):\n",
      "STOP: TOTAL NO. of ITERATIONS REACHED LIMIT.\n",
      "\n",
      "Increase the number of iterations (max_iter) or scale the data as shown in:\n",
      "    https://scikit-learn.org/stable/modules/preprocessing.html\n",
      "Please also refer to the documentation for alternative solver options:\n",
      "    https://scikit-learn.org/stable/modules/linear_model.html#logistic-regression\n",
      "  extra_warning_msg=_LOGISTIC_SOLVER_CONVERGENCE_MSG)\n"
     ]
    },
    {
     "name": "stdout",
     "output_type": "stream",
     "text": [
      "719 0.9760479041916168\n",
      "720 0.9760479041916168\n",
      "721 0.9491017964071856\n",
      "722 0.9580838323353293\n"
     ]
    },
    {
     "name": "stderr",
     "output_type": "stream",
     "text": [
      "/home/kristian/anaconda3/lib/python3.6/site-packages/sklearn/linear_model/_logistic.py:762: ConvergenceWarning: lbfgs failed to converge (status=1):\n",
      "STOP: TOTAL NO. of ITERATIONS REACHED LIMIT.\n",
      "\n",
      "Increase the number of iterations (max_iter) or scale the data as shown in:\n",
      "    https://scikit-learn.org/stable/modules/preprocessing.html\n",
      "Please also refer to the documentation for alternative solver options:\n",
      "    https://scikit-learn.org/stable/modules/linear_model.html#logistic-regression\n",
      "  extra_warning_msg=_LOGISTIC_SOLVER_CONVERGENCE_MSG)\n"
     ]
    },
    {
     "name": "stdout",
     "output_type": "stream",
     "text": [
      "723 0.937125748502994\n",
      "724 0.9610778443113772\n",
      "725 0.9221556886227545\n",
      "726 0.9640718562874252\n",
      "727 0.9550898203592815\n",
      "728 0.9520958083832335\n",
      "729 0.9461077844311377\n",
      "730 0.9520958083832335\n",
      "731 0.9640718562874252\n",
      "732 0.9520958083832335\n",
      "733 0.9580838323353293\n",
      "734 0.9461077844311377\n",
      "735 0.9520958083832335\n",
      "736 0.9431137724550899\n",
      "737 0.9431137724550899\n",
      "738 0.9580838323353293\n",
      "739 0.9760479041916168\n",
      "740 0.9610778443113772\n",
      "741 0.9461077844311377\n",
      "742 0.9520958083832335\n",
      "743 0.9640718562874252\n",
      "744 0.9640718562874252\n"
     ]
    },
    {
     "name": "stderr",
     "output_type": "stream",
     "text": [
      "/home/kristian/anaconda3/lib/python3.6/site-packages/sklearn/linear_model/_logistic.py:762: ConvergenceWarning: lbfgs failed to converge (status=1):\n",
      "STOP: TOTAL NO. of ITERATIONS REACHED LIMIT.\n",
      "\n",
      "Increase the number of iterations (max_iter) or scale the data as shown in:\n",
      "    https://scikit-learn.org/stable/modules/preprocessing.html\n",
      "Please also refer to the documentation for alternative solver options:\n",
      "    https://scikit-learn.org/stable/modules/linear_model.html#logistic-regression\n",
      "  extra_warning_msg=_LOGISTIC_SOLVER_CONVERGENCE_MSG)\n"
     ]
    },
    {
     "name": "stdout",
     "output_type": "stream",
     "text": [
      "745 0.9520958083832335\n",
      "746 0.9520958083832335\n",
      "747 0.9730538922155688\n",
      "748 0.9580838323353293\n",
      "749 0.9640718562874252\n",
      "750 0.9700598802395209\n"
     ]
    },
    {
     "name": "stderr",
     "output_type": "stream",
     "text": [
      "/home/kristian/anaconda3/lib/python3.6/site-packages/sklearn/linear_model/_logistic.py:762: ConvergenceWarning: lbfgs failed to converge (status=1):\n",
      "STOP: TOTAL NO. of ITERATIONS REACHED LIMIT.\n",
      "\n",
      "Increase the number of iterations (max_iter) or scale the data as shown in:\n",
      "    https://scikit-learn.org/stable/modules/preprocessing.html\n",
      "Please also refer to the documentation for alternative solver options:\n",
      "    https://scikit-learn.org/stable/modules/linear_model.html#logistic-regression\n",
      "  extra_warning_msg=_LOGISTIC_SOLVER_CONVERGENCE_MSG)\n"
     ]
    },
    {
     "name": "stdout",
     "output_type": "stream",
     "text": [
      "751 0.9730538922155688\n",
      "752 0.9401197604790419\n",
      "753 0.9580838323353293\n",
      "754 0.9730538922155688\n",
      "755 0.9670658682634731\n",
      "756 0.9550898203592815\n",
      "757 0.9700598802395209\n",
      "758 0.9640718562874252\n",
      "759 0.9760479041916168\n",
      "760 0.9610778443113772\n",
      "761 0.9640718562874252\n",
      "762 0.9520958083832335\n",
      "763 0.9550898203592815\n",
      "764 0.9431137724550899\n",
      "765 0.9580838323353293\n",
      "766 0.9520958083832335\n",
      "767 0.9760479041916168\n",
      "768 0.9580838323353293\n",
      "769 0.9491017964071856\n",
      "770 0.9491017964071856\n",
      "771 0.9550898203592815\n",
      "772 0.9491017964071856\n",
      "773 0.937125748502994\n",
      "774 0.9401197604790419\n",
      "775 0.9610778443113772\n",
      "776 0.9610778443113772\n",
      "777 0.9820359281437125\n",
      "778 0.9640718562874252\n",
      "779 0.9730538922155688\n",
      "780 0.9610778443113772\n",
      "781 0.9520958083832335\n",
      "782 0.9850299401197605\n",
      "783 0.9461077844311377\n",
      "784 0.9550898203592815\n",
      "785 0.9491017964071856\n",
      "786 0.9580838323353293\n",
      "787 0.9760479041916168\n",
      "788 0.9610778443113772\n",
      "789 0.9640718562874252\n",
      "790 0.9610778443113772\n",
      "791 0.9550898203592815\n",
      "792 0.9670658682634731\n",
      "793 0.9550898203592815\n",
      "794 0.9520958083832335\n",
      "795 0.9610778443113772\n",
      "796 0.9580838323353293\n",
      "797 0.9431137724550899\n",
      "798 0.9670658682634731\n"
     ]
    },
    {
     "name": "stderr",
     "output_type": "stream",
     "text": [
      "/home/kristian/anaconda3/lib/python3.6/site-packages/sklearn/linear_model/_logistic.py:762: ConvergenceWarning: lbfgs failed to converge (status=1):\n",
      "STOP: TOTAL NO. of ITERATIONS REACHED LIMIT.\n",
      "\n",
      "Increase the number of iterations (max_iter) or scale the data as shown in:\n",
      "    https://scikit-learn.org/stable/modules/preprocessing.html\n",
      "Please also refer to the documentation for alternative solver options:\n",
      "    https://scikit-learn.org/stable/modules/linear_model.html#logistic-regression\n",
      "  extra_warning_msg=_LOGISTIC_SOLVER_CONVERGENCE_MSG)\n"
     ]
    },
    {
     "name": "stdout",
     "output_type": "stream",
     "text": [
      "799 0.9730538922155688\n",
      "800 0.9580838323353293\n",
      "801 0.9491017964071856\n",
      "802 0.9610778443113772\n",
      "803 0.9670658682634731\n",
      "804 0.9730538922155688\n",
      "805 0.9341317365269461\n",
      "806 0.9610778443113772\n",
      "807 0.9401197604790419\n",
      "808 0.9670658682634731\n",
      "809 0.9580838323353293\n",
      "810 0.9730538922155688\n",
      "811 0.9461077844311377\n",
      "812 0.9461077844311377\n",
      "813 0.9670658682634731\n",
      "814 0.9580838323353293\n",
      "815 0.9700598802395209\n",
      "816 0.9760479041916168\n",
      "817 0.9730538922155688\n",
      "818 0.9461077844311377\n"
     ]
    },
    {
     "name": "stderr",
     "output_type": "stream",
     "text": [
      "/home/kristian/anaconda3/lib/python3.6/site-packages/sklearn/linear_model/_logistic.py:762: ConvergenceWarning: lbfgs failed to converge (status=1):\n",
      "STOP: TOTAL NO. of ITERATIONS REACHED LIMIT.\n",
      "\n",
      "Increase the number of iterations (max_iter) or scale the data as shown in:\n",
      "    https://scikit-learn.org/stable/modules/preprocessing.html\n",
      "Please also refer to the documentation for alternative solver options:\n",
      "    https://scikit-learn.org/stable/modules/linear_model.html#logistic-regression\n",
      "  extra_warning_msg=_LOGISTIC_SOLVER_CONVERGENCE_MSG)\n"
     ]
    },
    {
     "name": "stdout",
     "output_type": "stream",
     "text": [
      "819 0.9221556886227545\n",
      "820 0.9550898203592815\n",
      "821 0.9700598802395209\n",
      "822 0.9610778443113772\n",
      "823 0.937125748502994\n",
      "824 0.9431137724550899\n",
      "825 0.9550898203592815\n",
      "826 0.9520958083832335\n",
      "827 0.9640718562874252\n",
      "828 0.9520958083832335\n",
      "829 0.9550898203592815\n",
      "830 0.9520958083832335\n"
     ]
    },
    {
     "name": "stderr",
     "output_type": "stream",
     "text": [
      "/home/kristian/anaconda3/lib/python3.6/site-packages/sklearn/linear_model/_logistic.py:762: ConvergenceWarning: lbfgs failed to converge (status=1):\n",
      "STOP: TOTAL NO. of ITERATIONS REACHED LIMIT.\n",
      "\n",
      "Increase the number of iterations (max_iter) or scale the data as shown in:\n",
      "    https://scikit-learn.org/stable/modules/preprocessing.html\n",
      "Please also refer to the documentation for alternative solver options:\n",
      "    https://scikit-learn.org/stable/modules/linear_model.html#logistic-regression\n",
      "  extra_warning_msg=_LOGISTIC_SOLVER_CONVERGENCE_MSG)\n"
     ]
    },
    {
     "name": "stdout",
     "output_type": "stream",
     "text": [
      "831 0.9760479041916168\n",
      "832 0.9640718562874252\n",
      "833 0.9640718562874252\n",
      "834 0.9610778443113772\n",
      "835 0.9640718562874252\n",
      "836 0.9431137724550899\n",
      "837 0.9580838323353293\n",
      "838 0.9461077844311377\n",
      "839 0.9610778443113772\n",
      "840 0.9311377245508982\n",
      "841 0.9461077844311377\n",
      "842 0.9491017964071856\n",
      "843 0.9580838323353293\n",
      "844 0.9670658682634731\n",
      "845 0.9790419161676647\n",
      "846 0.9700598802395209\n",
      "847 0.9221556886227545\n",
      "848 0.9670658682634731\n",
      "849 0.937125748502994\n",
      "850 0.9700598802395209\n",
      "851 0.9700598802395209\n",
      "852 0.9730538922155688\n"
     ]
    },
    {
     "name": "stderr",
     "output_type": "stream",
     "text": [
      "/home/kristian/anaconda3/lib/python3.6/site-packages/sklearn/linear_model/_logistic.py:762: ConvergenceWarning: lbfgs failed to converge (status=1):\n",
      "STOP: TOTAL NO. of ITERATIONS REACHED LIMIT.\n",
      "\n",
      "Increase the number of iterations (max_iter) or scale the data as shown in:\n",
      "    https://scikit-learn.org/stable/modules/preprocessing.html\n",
      "Please also refer to the documentation for alternative solver options:\n",
      "    https://scikit-learn.org/stable/modules/linear_model.html#logistic-regression\n",
      "  extra_warning_msg=_LOGISTIC_SOLVER_CONVERGENCE_MSG)\n",
      "/home/kristian/anaconda3/lib/python3.6/site-packages/sklearn/linear_model/_logistic.py:762: ConvergenceWarning: lbfgs failed to converge (status=1):\n",
      "STOP: TOTAL NO. of ITERATIONS REACHED LIMIT.\n",
      "\n",
      "Increase the number of iterations (max_iter) or scale the data as shown in:\n",
      "    https://scikit-learn.org/stable/modules/preprocessing.html\n",
      "Please also refer to the documentation for alternative solver options:\n",
      "    https://scikit-learn.org/stable/modules/linear_model.html#logistic-regression\n",
      "  extra_warning_msg=_LOGISTIC_SOLVER_CONVERGENCE_MSG)\n"
     ]
    },
    {
     "name": "stdout",
     "output_type": "stream",
     "text": [
      "853 0.9520958083832335\n",
      "854 0.9640718562874252\n",
      "855 0.9580838323353293\n",
      "856 0.9640718562874252\n",
      "857 0.9520958083832335\n",
      "858 0.9401197604790419\n",
      "859 0.9760479041916168\n",
      "860 0.9760479041916168\n",
      "861 0.9580838323353293\n",
      "862 0.9550898203592815\n",
      "863 0.9550898203592815\n",
      "864 0.9520958083832335\n",
      "865 0.9520958083832335\n",
      "866 0.9520958083832335\n",
      "867 0.9520958083832335\n",
      "868 0.9580838323353293\n",
      "869 0.9550898203592815\n",
      "870 0.9461077844311377\n",
      "871 0.9640718562874252\n",
      "872 0.9401197604790419\n",
      "873 0.9610778443113772\n",
      "874 0.9580838323353293\n",
      "875 0.9610778443113772\n",
      "876 0.9610778443113772\n",
      "877 0.9520958083832335\n",
      "878 0.9640718562874252\n",
      "879 0.9491017964071856\n",
      "880 0.9491017964071856\n",
      "881 0.9730538922155688\n",
      "882 0.9580838323353293\n",
      "883 0.9610778443113772\n",
      "884 0.9730538922155688\n",
      "885 0.9550898203592815\n",
      "886 0.9520958083832335\n",
      "887 0.9341317365269461\n",
      "888 0.9520958083832335\n",
      "889 0.9610778443113772\n",
      "890 0.9760479041916168\n",
      "891 0.9491017964071856\n",
      "892 0.9431137724550899\n",
      "893 0.9580838323353293\n",
      "894 0.9550898203592815\n",
      "895 0.9431137724550899\n",
      "896 0.9431137724550899\n",
      "897 0.937125748502994\n",
      "898 0.9610778443113772\n",
      "899 0.9610778443113772\n",
      "900 0.9520958083832335\n",
      "901 0.9341317365269461\n",
      "902 0.9610778443113772\n",
      "903 0.9491017964071856\n",
      "904 0.9580838323353293\n",
      "905 0.9401197604790419\n",
      "906 0.9520958083832335\n",
      "907 0.9610778443113772\n",
      "908 0.9610778443113772\n",
      "909 0.9700598802395209\n"
     ]
    },
    {
     "name": "stderr",
     "output_type": "stream",
     "text": [
      "/home/kristian/anaconda3/lib/python3.6/site-packages/sklearn/linear_model/_logistic.py:762: ConvergenceWarning: lbfgs failed to converge (status=1):\n",
      "STOP: TOTAL NO. of ITERATIONS REACHED LIMIT.\n",
      "\n",
      "Increase the number of iterations (max_iter) or scale the data as shown in:\n",
      "    https://scikit-learn.org/stable/modules/preprocessing.html\n",
      "Please also refer to the documentation for alternative solver options:\n",
      "    https://scikit-learn.org/stable/modules/linear_model.html#logistic-regression\n",
      "  extra_warning_msg=_LOGISTIC_SOLVER_CONVERGENCE_MSG)\n"
     ]
    },
    {
     "name": "stdout",
     "output_type": "stream",
     "text": [
      "910 0.9221556886227545\n",
      "911 0.9580838323353293\n",
      "912 0.9670658682634731\n",
      "913 0.9281437125748503\n",
      "914 0.9580838323353293\n",
      "915 0.9610778443113772\n",
      "916 0.9640718562874252\n",
      "917 0.9670658682634731\n",
      "918 0.9520958083832335\n",
      "919 0.937125748502994\n"
     ]
    },
    {
     "name": "stderr",
     "output_type": "stream",
     "text": [
      "/home/kristian/anaconda3/lib/python3.6/site-packages/sklearn/linear_model/_logistic.py:762: ConvergenceWarning: lbfgs failed to converge (status=1):\n",
      "STOP: TOTAL NO. of ITERATIONS REACHED LIMIT.\n",
      "\n",
      "Increase the number of iterations (max_iter) or scale the data as shown in:\n",
      "    https://scikit-learn.org/stable/modules/preprocessing.html\n",
      "Please also refer to the documentation for alternative solver options:\n",
      "    https://scikit-learn.org/stable/modules/linear_model.html#logistic-regression\n",
      "  extra_warning_msg=_LOGISTIC_SOLVER_CONVERGENCE_MSG)\n"
     ]
    },
    {
     "name": "stdout",
     "output_type": "stream",
     "text": [
      "920 0.9670658682634731\n",
      "921 0.9640718562874252\n",
      "922 0.9520958083832335\n",
      "923 0.9670658682634731\n",
      "924 0.9610778443113772\n",
      "925 0.9580838323353293\n",
      "926 0.9760479041916168\n",
      "927 0.937125748502994\n",
      "928 0.9491017964071856\n",
      "929 0.9491017964071856\n",
      "930 0.9491017964071856\n",
      "931 0.9520958083832335\n"
     ]
    },
    {
     "name": "stderr",
     "output_type": "stream",
     "text": [
      "/home/kristian/anaconda3/lib/python3.6/site-packages/sklearn/linear_model/_logistic.py:762: ConvergenceWarning: lbfgs failed to converge (status=1):\n",
      "STOP: TOTAL NO. of ITERATIONS REACHED LIMIT.\n",
      "\n",
      "Increase the number of iterations (max_iter) or scale the data as shown in:\n",
      "    https://scikit-learn.org/stable/modules/preprocessing.html\n",
      "Please also refer to the documentation for alternative solver options:\n",
      "    https://scikit-learn.org/stable/modules/linear_model.html#logistic-regression\n",
      "  extra_warning_msg=_LOGISTIC_SOLVER_CONVERGENCE_MSG)\n"
     ]
    },
    {
     "name": "stdout",
     "output_type": "stream",
     "text": [
      "932 0.9491017964071856\n",
      "933 0.9550898203592815\n",
      "934 0.9580838323353293\n",
      "935 0.9610778443113772\n",
      "936 0.9461077844311377\n",
      "937 0.9700598802395209\n",
      "938 0.9670658682634731\n",
      "939 0.9550898203592815\n"
     ]
    },
    {
     "name": "stderr",
     "output_type": "stream",
     "text": [
      "/home/kristian/anaconda3/lib/python3.6/site-packages/sklearn/linear_model/_logistic.py:762: ConvergenceWarning: lbfgs failed to converge (status=1):\n",
      "STOP: TOTAL NO. of ITERATIONS REACHED LIMIT.\n",
      "\n",
      "Increase the number of iterations (max_iter) or scale the data as shown in:\n",
      "    https://scikit-learn.org/stable/modules/preprocessing.html\n",
      "Please also refer to the documentation for alternative solver options:\n",
      "    https://scikit-learn.org/stable/modules/linear_model.html#logistic-regression\n",
      "  extra_warning_msg=_LOGISTIC_SOLVER_CONVERGENCE_MSG)\n",
      "/home/kristian/anaconda3/lib/python3.6/site-packages/sklearn/linear_model/_logistic.py:762: ConvergenceWarning: lbfgs failed to converge (status=1):\n",
      "STOP: TOTAL NO. of ITERATIONS REACHED LIMIT.\n",
      "\n",
      "Increase the number of iterations (max_iter) or scale the data as shown in:\n",
      "    https://scikit-learn.org/stable/modules/preprocessing.html\n",
      "Please also refer to the documentation for alternative solver options:\n",
      "    https://scikit-learn.org/stable/modules/linear_model.html#logistic-regression\n",
      "  extra_warning_msg=_LOGISTIC_SOLVER_CONVERGENCE_MSG)\n"
     ]
    },
    {
     "name": "stdout",
     "output_type": "stream",
     "text": [
      "940 0.9580838323353293\n",
      "941 0.9670658682634731\n",
      "942 0.9730538922155688\n",
      "943 0.9820359281437125\n",
      "944 0.9431137724550899\n",
      "945 0.9491017964071856\n",
      "946 0.9640718562874252\n",
      "947 0.9730538922155688\n",
      "948 0.9640718562874252\n",
      "949 0.9461077844311377\n",
      "950 0.9610778443113772\n",
      "951 0.9491017964071856\n",
      "952 0.9640718562874252\n",
      "953 0.9790419161676647\n",
      "954 0.9610778443113772\n",
      "955 0.9640718562874252\n",
      "956 0.9580838323353293\n",
      "957 0.9431137724550899\n",
      "958 0.9520958083832335\n",
      "959 0.9580838323353293\n",
      "960 0.9401197604790419\n",
      "961 0.9580838323353293\n",
      "962 0.9670658682634731\n",
      "963 0.9550898203592815\n",
      "964 0.9610778443113772\n",
      "965 0.9491017964071856\n",
      "966 0.9730538922155688\n",
      "967 0.9760479041916168\n",
      "968 0.9401197604790419\n",
      "969 0.9670658682634731\n",
      "970 0.9461077844311377\n",
      "971 0.9670658682634731\n",
      "972 0.9670658682634731\n",
      "973 0.9820359281437125\n",
      "974 0.9401197604790419\n",
      "975 0.9610778443113772\n",
      "976 0.9610778443113772\n",
      "977 0.9491017964071856\n",
      "978 0.9700598802395209\n",
      "979 0.9550898203592815\n",
      "980 0.9730538922155688\n",
      "981 0.9730538922155688\n",
      "982 0.9670658682634731\n",
      "983 0.9640718562874252\n",
      "984 0.9401197604790419\n",
      "985 0.9610778443113772\n",
      "986 0.9580838323353293\n",
      "987 0.9700598802395209\n",
      "988 0.9431137724550899\n",
      "989 0.9550898203592815\n",
      "990 0.9610778443113772\n",
      "991 0.9580838323353293\n",
      "992 0.9550898203592815\n",
      "993 0.9760479041916168\n",
      "994 0.9670658682634731\n",
      "995 0.9730538922155688\n",
      "996 0.9610778443113772\n",
      "997 0.9550898203592815\n",
      "998 0.9640718562874252\n",
      "999 0.9760479041916168\n"
     ]
    }
   ],
   "source": [
    "m = LogisticRegression()\n",
    "\n",
    "boots = []\n",
    "for i in range(1000):\n",
    "    Xb, yb = resample(X, y)\n",
    "    m.fit(Xb, yb)\n",
    "    score = m.score(Xb, yb)\n",
    "    boots.append(score)\n",
    "    print(i, score)"
   ]
  },
  {
   "cell_type": "code",
   "execution_count": 54,
   "metadata": {},
   "outputs": [],
   "source": [
    "boots.sort()"
   ]
  },
  {
   "cell_type": "code",
   "execution_count": 56,
   "metadata": {},
   "outputs": [
    {
     "data": {
      "image/png": "[encoded data removed]",
      "text/plain": [
       "<Figure size 432x288 with 1 Axes>"
      ]
     },
     "metadata": {},
     "output_type": "display_data"
    }
   ],
   "source": [
    "import pandas as pd\n",
    "\n",
    "s = pd.Series(boots).hist(bins=20)"
   ]
  },
  {
   "cell_type": "code",
   "execution_count": 57,
   "metadata": {},
   "outputs": [
    {
     "data": {
      "text/plain": [
       "(0.937125748502994, 0.9760479041916168)"
      ]
     },
     "execution_count": 57,
     "metadata": {},
     "output_type": "execute_result"
    }
   ],
   "source": [
    "conf90 = boots[50:-50]\n",
    "conf90[0], conf90[-1]"
   ]
  },
  {
   "cell_type": "markdown",
   "metadata": {},
   "source": [
    "----"
   ]
  },
  {
   "cell_type": "markdown",
   "metadata": {},
   "source": [
    "## Feature Engineering Cleanup"
   ]
  },
  {
   "cell_type": "markdown",
   "metadata": {},
   "source": [
    "### One-Hot-Encoding"
   ]
  },
  {
   "cell_type": "code",
   "execution_count": 59,
   "metadata": {},
   "outputs": [],
   "source": [
    "from sklearn.preprocessing import OneHotEncoder"
   ]
  },
  {
   "cell_type": "markdown",
   "metadata": {},
   "source": [
    "**Step 1:** fit() on the training data\n",
    "\n",
    "**Step 2:** transform() the training data"
   ]
  },
  {
   "cell_type": "code",
   "execution_count": 77,
   "metadata": {},
   "outputs": [
    {
     "data": {
      "text/plain": [
       "(334, 6)"
      ]
     },
     "execution_count": 77,
     "metadata": {},
     "output_type": "execute_result"
    }
   ],
   "source": [
    "oh = OneHotEncoder(sparse=False, handle_unknown='ignore')    # also an estimator\n",
    "oh.fit(df[['Species', 'Sex']]) # memorizes all the different categories\n",
    "onehot_species = oh.transform(df[['Species', 'Sex']])\n",
    "onehot_species.shape"
   ]
  },
  {
   "cell_type": "code",
   "execution_count": 78,
   "metadata": {},
   "outputs": [
    {
     "data": {
      "text/plain": [
       "[array(['Adelie', 'Chinstrap', 'Gentoo'], dtype=object),\n",
       " array(['.', 'FEMALE', 'MALE'], dtype=object)]"
      ]
     },
     "execution_count": 78,
     "metadata": {},
     "output_type": "execute_result"
    }
   ],
   "source": [
    "oh.categories_  # <-- determined by fit()"
   ]
  },
  {
   "cell_type": "markdown",
   "metadata": {},
   "source": [
    "**Step 3:** transform() the test data"
   ]
  },
  {
   "cell_type": "code",
   "execution_count": 82,
   "metadata": {},
   "outputs": [],
   "source": [
    "# now new data is coming in\n",
    "test_data = pd.DataFrame({'Species': ['Gentoo', 'Gentoo', 'Chinstrap', 'Emperor'],\n",
    "                          'Sex': ['FEMALE', 'MALE', 'INTERSEX/NON-BINARY', '.']})"
   ]
  },
  {
   "cell_type": "code",
   "execution_count": 80,
   "metadata": {},
   "outputs": [
    {
     "data": {
      "text/plain": [
       "array([[0., 0., 1., 0., 1., 0.],\n",
       "       [0., 0., 1., 0., 0., 1.],\n",
       "       [0., 1., 0., 0., 0., 0.],\n",
       "       [0., 0., 0., 1., 0., 0.]])"
      ]
     },
     "execution_count": 80,
     "metadata": {},
     "output_type": "execute_result"
    }
   ],
   "source": [
    "oh.transform(test_data[['Species', 'Sex']])"
   ]
  },
  {
   "cell_type": "markdown",
   "metadata": {},
   "source": [
    "**next step:** make a DF out of it, use pd.concat"
   ]
  },
  {
   "cell_type": "markdown",
   "metadata": {},
   "source": [
    "**DO NOT CALL fit() ON TEST DATA EVER!**"
   ]
  },
  {
   "cell_type": "code",
   "execution_count": 71,
   "metadata": {},
   "outputs": [
    {
     "data": {
      "text/plain": [
       "array([[0., 0., 1.],\n",
       "       [0., 0., 1.],\n",
       "       [1., 0., 0.],\n",
       "       [0., 1., 0.]])"
      ]
     },
     "execution_count": 71,
     "metadata": {},
     "output_type": "execute_result"
    }
   ],
   "source": [
    "oh.fit(test_data[['Species']])   # forgets that Adelie\n",
    "oh.transform(test_data[['Species']])"
   ]
  },
  {
   "cell_type": "code",
   "execution_count": 73,
   "metadata": {},
   "outputs": [
    {
     "data": {
      "text/plain": [
       "[array(['Chinstrap', 'Emperor', 'Gentoo'], dtype=object)]"
      ]
     },
     "execution_count": 73,
     "metadata": {},
     "output_type": "execute_result"
    }
   ],
   "source": [
    "oh.categories_  # could be used as column labels"
   ]
  },
  {
   "cell_type": "markdown",
   "metadata": {},
   "source": [
    "## Scaling"
   ]
  },
  {
   "cell_type": "markdown",
   "metadata": {},
   "source": [
    "**Step 1:** fit() on the training data"
   ]
  },
  {
   "cell_type": "code",
   "execution_count": 84,
   "metadata": {},
   "outputs": [],
   "source": [
    "from sklearn.preprocessing import MinMaxScaler"
   ]
  },
  {
   "cell_type": "code",
   "execution_count": 96,
   "metadata": {},
   "outputs": [
    {
     "data": {
      "text/plain": [
       "(array([  32.1, 2700. ]), array([  59.6, 6300. ]))"
      ]
     },
     "execution_count": 96,
     "metadata": {},
     "output_type": "execute_result"
    }
   ],
   "source": [
    "scaler = MinMaxScaler()\n",
    "scaler.fit(df[['Culmen Length (mm)', 'Body Mass (g)']]) # calculate the min and max for each column\n",
    "scaler.data_min_, scaler.data_max_"
   ]
  },
  {
   "cell_type": "markdown",
   "metadata": {},
   "source": [
    "**Step 2:** transform() the training data"
   ]
  },
  {
   "cell_type": "code",
   "execution_count": 90,
   "metadata": {},
   "outputs": [
    {
     "data": {
      "text/plain": [
       "(334, 2)"
      ]
     },
     "execution_count": 90,
     "metadata": {},
     "output_type": "execute_result"
    }
   ],
   "source": [
    "Xt = scaler.transform(df[['Culmen Length (mm)', 'Body Mass (g)']])   # Xtrain also works if numerical\n",
    "Xt.shape"
   ]
  },
  {
   "cell_type": "markdown",
   "metadata": {},
   "source": [
    "**Step 3:** transform() the test data"
   ]
  },
  {
   "cell_type": "code",
   "execution_count": 93,
   "metadata": {},
   "outputs": [],
   "source": [
    "test_data = pd.DataFrame({'Culmen Length (mm)': [40.0, 50.0, 20.0], 'Body Mass (g)': [4500, 10000, 3500]})"
   ]
  },
  {
   "cell_type": "code",
   "execution_count": 97,
   "metadata": {},
   "outputs": [
    {
     "data": {
      "text/plain": [
       "array([[ 0.28727273,  0.5       ],\n",
       "       [ 0.65090909,  2.02777778],\n",
       "       [-0.44      ,  0.22222222]])"
      ]
     },
     "execution_count": 97,
     "metadata": {},
     "output_type": "execute_result"
    }
   ],
   "source": [
    "scaler.transform(test_data[['Culmen Length (mm)', 'Body Mass (g)']])"
   ]
  },
  {
   "cell_type": "code",
   "execution_count": null,
   "metadata": {},
   "outputs": [],
   "source": []
  }
 ],
 "metadata": {
  "kernelspec": {
   "display_name": "Python 3",
   "language": "python",
   "name": "python3"
  },
  "language_info": {
   "codemirror_mode": {
    "name": "ipython",
    "version": 3
   },
   "file_extension": ".py",
   "mimetype": "text/x-python",
   "name": "python",
   "nbconvert_exporter": "python",
   "pygments_lexer": "ipython3",
   "version": "3.6.5"
  },
  "varInspector": {
   "cols": {
    "lenName": 16,
    "lenType": 16,
    "lenVar": 40
   },
   "kernels_config": {
    "python": {
     "delete_cmd_postfix": "",
     "delete_cmd_prefix": "del ",
     "library": "var_list.py",
     "varRefreshCmd": "print(var_dic_list())"
    },
    "r": {
     "delete_cmd_postfix": ") ",
     "delete_cmd_prefix": "rm(",
     "library": "var_list.r",
     "varRefreshCmd": "cat(var_dic_list()) "
    }
   },
   "types_to_exclude": [
    "module",
    "function",
    "builtin_function_or_method",
    "instance",
    "_Feature"
   ],
   "window_display": false
  }
 },
 "nbformat": 4,
 "nbformat_minor": 2
}
