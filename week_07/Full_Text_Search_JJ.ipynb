{
 "cells": [
  {
   "cell_type": "markdown",
   "metadata": {},
   "source": [
    "## Full Text Search / Information Retrieval \n",
    "\n",
    "## 1) : Why build an Inverted Index for text-retrieval?\n",
    "\n",
    "## 2) : Objectives:\n",
    "* Collect a corpus\n",
    "* Perform a brute-force query and measure the performance\n",
    "* Create a forward and inverted index from the above \n",
    "* Search on one or a combination of terms and measure performance"
   ]
  },
  {
   "cell_type": "code",
   "execution_count": 1,
   "metadata": {},
   "outputs": [],
   "source": [
    "from sklearn.datasets import fetch_20newsgroups\n",
    "import numpy as np\n",
    "from collections import defaultdict\n",
    "import time\n",
    "import re"
   ]
  },
  {
   "cell_type": "code",
   "execution_count": 2,
   "metadata": {},
   "outputs": [],
   "source": [
    "corpus = fetch_20newsgroups(remove=['header', 'footer'])['data']"
   ]
  },
  {
   "cell_type": "code",
   "execution_count": 11,
   "metadata": {},
   "outputs": [
    {
     "data": {
      "text/plain": [
       "['from:',\n",
       " 'lerxst@wam.umd.edu',\n",
       " \"(where's\",\n",
       " 'my',\n",
       " 'thing)',\n",
       " 'subject:',\n",
       " 'what',\n",
       " 'car',\n",
       " 'is',\n",
       " 'this!?',\n",
       " 'nntp-posting-host:',\n",
       " 'rac3.wam.umd.edu',\n",
       " 'organization:',\n",
       " 'university',\n",
       " 'of',\n",
       " 'maryland,',\n",
       " 'college',\n",
       " 'park',\n",
       " 'lines:',\n",
       " '15',\n",
       " 'i',\n",
       " 'was',\n",
       " 'wondering',\n",
       " 'if',\n",
       " 'anyone',\n",
       " 'out',\n",
       " 'there',\n",
       " 'could',\n",
       " 'enlighten',\n",
       " 'me',\n",
       " 'on',\n",
       " 'this',\n",
       " 'car',\n",
       " 'i',\n",
       " 'saw',\n",
       " 'the',\n",
       " 'other',\n",
       " 'day.',\n",
       " 'it',\n",
       " 'was',\n",
       " 'a',\n",
       " '2-door',\n",
       " 'sports',\n",
       " 'car,',\n",
       " 'looked',\n",
       " 'to',\n",
       " 'be',\n",
       " 'from',\n",
       " 'the',\n",
       " 'late',\n",
       " '60s/',\n",
       " 'early',\n",
       " '70s.',\n",
       " 'it',\n",
       " 'was',\n",
       " 'called',\n",
       " 'a',\n",
       " 'bricklin.',\n",
       " 'the',\n",
       " 'doors',\n",
       " 'were',\n",
       " 'really',\n",
       " 'small.',\n",
       " 'in',\n",
       " 'addition,',\n",
       " 'the',\n",
       " 'front',\n",
       " 'bumper',\n",
       " 'was',\n",
       " 'separate',\n",
       " 'from',\n",
       " 'the',\n",
       " 'rest',\n",
       " 'of',\n",
       " 'the',\n",
       " 'body.',\n",
       " 'this',\n",
       " 'is',\n",
       " 'all',\n",
       " 'i',\n",
       " 'know.',\n",
       " 'if',\n",
       " 'anyone',\n",
       " 'can',\n",
       " 'tellme',\n",
       " 'a',\n",
       " 'model',\n",
       " 'name,',\n",
       " 'engine',\n",
       " 'specs,',\n",
       " 'years',\n",
       " 'of',\n",
       " 'production,',\n",
       " 'where',\n",
       " 'this',\n",
       " 'car',\n",
       " 'is',\n",
       " 'made,',\n",
       " 'history,',\n",
       " 'or',\n",
       " 'whatever',\n",
       " 'info',\n",
       " 'you',\n",
       " 'have',\n",
       " 'on',\n",
       " 'this',\n",
       " 'funky',\n",
       " 'looking',\n",
       " 'car,',\n",
       " 'please',\n",
       " 'e-mail.',\n",
       " 'thanks,',\n",
       " '-',\n",
       " 'il',\n",
       " '----',\n",
       " 'brought',\n",
       " 'to',\n",
       " 'you',\n",
       " 'by',\n",
       " 'your',\n",
       " 'neighborhood',\n",
       " 'lerxst',\n",
       " '----']"
      ]
     },
     "execution_count": 11,
     "metadata": {},
     "output_type": "execute_result"
    }
   ],
   "source": [
    "corpus[0].lower().split()"
   ]
  },
  {
   "cell_type": "markdown",
   "metadata": {},
   "source": [
    "---"
   ]
  },
  {
   "cell_type": "markdown",
   "metadata": {},
   "source": [
    "### Brute Force"
   ]
  },
  {
   "cell_type": "markdown",
   "metadata": {},
   "source": [
    "#### Lets start with a example for one term query"
   ]
  },
  {
   "cell_type": "code",
   "execution_count": null,
   "metadata": {},
   "outputs": [],
   "source": []
  },
  {
   "cell_type": "code",
   "execution_count": 24,
   "metadata": {},
   "outputs": [],
   "source": [
    "def brute_force_query(query, corpus): \n",
    "    \"\"\"Returns indices of matching documents\"\"\"\n",
    "    doc_ids = []\n",
    "    for i, doc in enumerate(corpus):\n",
    "        for word in re.findall('(?u)\\\\b\\\\w\\\\w+\\\\b',doc.lower()):\n",
    "            if word == query:\n",
    "                doc_ids.append(i)\n",
    "    return doc_ids"
   ]
  },
  {
   "cell_type": "code",
   "execution_count": 25,
   "metadata": {},
   "outputs": [
    {
     "data": {
      "text/plain": [
       "[0, 958, 2835, 4988]"
      ]
     },
     "execution_count": 25,
     "metadata": {},
     "output_type": "execute_result"
    }
   ],
   "source": [
    "brute_force_query('bricklin', corpus)"
   ]
  },
  {
   "cell_type": "markdown",
   "metadata": {},
   "source": [
    "#### Ok lets measure the performance of this approach"
   ]
  },
  {
   "cell_type": "code",
   "execution_count": 26,
   "metadata": {},
   "outputs": [
    {
     "name": "stdout",
     "output_type": "stream",
     "text": [
      "2.74 s ± 125 ms per loop (mean ± std. dev. of 7 runs, 1 loop each)\n"
     ]
    }
   ],
   "source": [
    "%timeit brute_force_query('bricklin', corpus)"
   ]
  },
  {
   "cell_type": "markdown",
   "metadata": {},
   "source": [
    "---"
   ]
  },
  {
   "cell_type": "markdown",
   "metadata": {},
   "source": [
    "### Create a forward and an inverted Index "
   ]
  },
  {
   "cell_type": "code",
   "execution_count": 27,
   "metadata": {},
   "outputs": [],
   "source": [
    "def create_forward_index(corpus):\n",
    "    forward_index = defaultdict(list)\n",
    "    for i, doc in enumerate(corpus):\n",
    "        forward_index[i] = re.findall('(?u)\\\\b\\\\w\\\\w+\\\\b',doc.lower()) #recognise this regex anyone?\n",
    "    return forward_index"
   ]
  },
  {
   "cell_type": "code",
   "execution_count": 39,
   "metadata": {},
   "outputs": [],
   "source": [
    "def create_inverted_index(corpus):\n",
    "    index = defaultdict(list) \n",
    "    for i, doc in enumerate(corpus):\n",
    "        for word in re.findall('(?u)\\\\b\\\\w\\\\w+\\\\b',doc.lower()):\n",
    "            index[word].append(i)\n",
    "    return index"
   ]
  },
  {
   "cell_type": "markdown",
   "metadata": {},
   "source": [
    "#### Ok lets measure the performance of this approach"
   ]
  },
  {
   "cell_type": "code",
   "execution_count": 40,
   "metadata": {},
   "outputs": [],
   "source": [
    "result = create_inverted_index(corpus)"
   ]
  },
  {
   "cell_type": "code",
   "execution_count": 41,
   "metadata": {},
   "outputs": [
    {
     "name": "stdout",
     "output_type": "stream",
     "text": [
      "5.1 s ± 240 ms per loop (mean ± std. dev. of 7 runs, 1 loop each)\n"
     ]
    }
   ],
   "source": [
    "%timeit create_inverted_index(corpus)"
   ]
  },
  {
   "cell_type": "markdown",
   "metadata": {},
   "source": [
    "### Is this what we expected?"
   ]
  },
  {
   "cell_type": "code",
   "execution_count": 42,
   "metadata": {},
   "outputs": [
    {
     "name": "stdout",
     "output_type": "stream",
     "text": [
      "94.2 ns ± 6.14 ns per loop (mean ± std. dev. of 7 runs, 10000000 loops each)\n"
     ]
    }
   ],
   "source": [
    "%timeit result['bricklin']"
   ]
  },
  {
   "cell_type": "markdown",
   "metadata": {},
   "source": [
    "---"
   ]
  },
  {
   "cell_type": "markdown",
   "metadata": {},
   "source": [
    "### Rank the documents which contain the most references"
   ]
  },
  {
   "cell_type": "code",
   "execution_count": 45,
   "metadata": {},
   "outputs": [],
   "source": [
    "def find_terms(query, index):\n",
    "    query = query.lower().split()\n",
    "    results = defaultdict(list) \n",
    "    for term in query:\n",
    "        results[term] = index[term]\n",
    "    return results"
   ]
  },
  {
   "cell_type": "code",
   "execution_count": 52,
   "metadata": {},
   "outputs": [],
   "source": [
    "car_results = find_terms('bricklin car', result) "
   ]
  },
  {
   "cell_type": "code",
   "execution_count": 70,
   "metadata": {},
   "outputs": [],
   "source": [
    "# How do we find docs where both terms appear?!\n",
    "#perform a union on the two sets"
   ]
  },
  {
   "cell_type": "markdown",
   "metadata": {},
   "source": [
    "---"
   ]
  },
  {
   "cell_type": "markdown",
   "metadata": {},
   "source": [
    "### Other things to consider:\n",
    "\n",
    "* Results ranking isn't as simple as finding all the results!!\n",
    "    * e.g - which documents should come back first requires some page ranking - cf Markov and his buddies!!\n",
    "    * e.g - intra-doc ranking - titles/links could be more important than words in text\n",
    "    * e.g - intra-doc ranking - long documents will have more occurances of a term\n",
    "* standard NLP: tokenization, stop words, language, remove crap, parsing, encoding\n",
    "* typos: Levenshtein distance \"hippo\" - \"hypo\" -> Levenshtein dist == 2\n",
    "* trigram search (heuristic algorithm)"
   ]
  },
  {
   "cell_type": "markdown",
   "metadata": {},
   "source": [
    "---"
   ]
  },
  {
   "cell_type": "markdown",
   "metadata": {},
   "source": [
    "### Technologies that utilize inverted-index from scratch:\n",
    "\n",
    "* Postgres\n",
    "* Mongodb\n",
    "* Elasticsearch"
   ]
  },
  {
   "cell_type": "markdown",
   "metadata": {},
   "source": [
    "---"
   ]
  }
 ],
 "metadata": {
  "kernelspec": {
   "display_name": "Python 3",
   "language": "python",
   "name": "python3"
  },
  "language_info": {
   "codemirror_mode": {
    "name": "ipython",
    "version": 3
   },
   "file_extension": ".py",
   "mimetype": "text/x-python",
   "name": "python",
   "nbconvert_exporter": "python",
   "pygments_lexer": "ipython3",
   "version": "3.7.6"
  },
  "varInspector": {
   "cols": {
    "lenName": 16,
    "lenType": 16,
    "lenVar": 40
   },
   "kernels_config": {
    "python": {
     "delete_cmd_postfix": "",
     "delete_cmd_prefix": "del ",
     "library": "var_list.py",
     "varRefreshCmd": "print(var_dic_list())"
    },
    "r": {
     "delete_cmd_postfix": ") ",
     "delete_cmd_prefix": "rm(",
     "library": "var_list.r",
     "varRefreshCmd": "cat(var_dic_list()) "
    }
   },
   "types_to_exclude": [
    "module",
    "function",
    "builtin_function_or_method",
    "instance",
    "_Feature"
   ],
   "window_display": false
  }
 },
 "nbformat": 4,
 "nbformat_minor": 4
}
