{
 "cells": [
  {
   "cell_type": "markdown",
   "metadata": {},
   "source": [
    "### Slack bot"
   ]
  },
  {
   "cell_type": "markdown",
   "metadata": {},
   "source": [
    "#### To do:\n",
    "1: Write a while loop so jokes are being posted regularly (NB TIME.SLEEP!!!)"
   ]
  },
  {
   "cell_type": "markdown",
   "metadata": {},
   "source": [
    "2: Incorporate the slack bot into your docker compose pipeline\n",
    "*  Select and build an image\n",
    "    * New folder for our docker container\n",
    "    * Add a new Dockerfile - pull python image etc...\n",
    "    * Add a new requirements.txt file - pyjokes, slackclient etc...\n",
    "    * Add a config file to store our oauth token\n",
    "    * Add a .py file - e.g. slackjokes.py, sentiment.py etc\n",
    "    * Update docker-compose.yml - add service, define volume, define ports etc\n",
    "    * Docker-compose build, docker-compose up, etc....."
   ]
  },
  {
   "cell_type": "markdown",
   "metadata": {},
   "source": [
    "3: Change the .py file so that:\n",
    "* Connect to the pg db, pull a tweet (the most negative / positive)\n",
    "* Post the tweet and the sentiment to slack....."
   ]
  },
  {
   "cell_type": "markdown",
   "metadata": {},
   "source": [
    "4: Try and do something entirely new!!! \n",
    "* Instead of posting to slack, create a metabase instance and display tweet / sentiment stats - Wordclouds, word distributions, sentiment distributions etc... Dock metabase frontend to your pg container\n",
    "* Write our own tweets in response - reflect sentiment of tweet\n",
    "* Geo-location - folium display that shows where tweets are coming from / the most origin of the most negative tweets on a particular subject"
   ]
  }
 ],
 "metadata": {
  "kernelspec": {
   "display_name": "Python 3",
   "language": "python",
   "name": "python3"
  },
  "language_info": {
   "codemirror_mode": {
    "name": "ipython",
    "version": 3
   },
   "file_extension": ".py",
   "mimetype": "text/x-python",
   "name": "python",
   "nbconvert_exporter": "python",
   "pygments_lexer": "ipython3",
   "version": "3.7.6"
  }
 },
 "nbformat": 4,
 "nbformat_minor": 4
}
