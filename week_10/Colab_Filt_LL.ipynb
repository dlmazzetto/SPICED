{
 "cells": [
  {
   "cell_type": "markdown",
   "metadata": {},
   "source": [
    "# Collaborative Filtering"
   ]
  },
  {
   "cell_type": "markdown",
   "metadata": {},
   "source": [
    "---"
   ]
  },
  {
   "cell_type": "markdown",
   "metadata": {},
   "source": [
    "## Two types\n",
    "* Memory/neighborhood-based \n",
    "* Model-based"
   ]
  },
  {
   "cell_type": "markdown",
   "metadata": {},
   "source": [
    "---"
   ]
  },
  {
   "cell_type": "markdown",
   "metadata": {},
   "source": [
    "### Model based - e.g. NMF, SVD"
   ]
  },
  {
   "cell_type": "code",
   "execution_count": null,
   "metadata": {},
   "outputs": [],
   "source": [
    "from sklearn.decomposition import NMF\n",
    "..."
   ]
  },
  {
   "cell_type": "markdown",
   "metadata": {},
   "source": [
    "---"
   ]
  },
  {
   "cell_type": "markdown",
   "metadata": {},
   "source": [
    "### Memory/neighborhood-based \n",
    "* Cosine Similarity\n",
    "* Euclidean Distance\n",
    "* Jaccard Similarity\n",
    "* More to try: Clustering, e.g. KNN, Kmeans"
   ]
  },
  {
   "cell_type": "markdown",
   "metadata": {},
   "source": [
    "---"
   ]
  },
  {
   "cell_type": "markdown",
   "metadata": {},
   "source": [
    "## Cosine Similarity"
   ]
  },
  {
   "cell_type": "markdown",
   "metadata": {},
   "source": [
    "* Basically just the normalized dot product!\n",
    "* Numerator = dot product\n",
    "* Denominator = Euclidean norm of the vectors multiplied"
   ]
  },
  {
   "cell_type": "markdown",
   "metadata": {},
   "source": [
    "$cos(X,Y)=\\frac{X∗Y}{||X||∗||Y||}$"
   ]
  },
  {
   "cell_type": "markdown",
   "metadata": {},
   "source": [
    "* Gives you an angle measurement between two vectors\n",
    "    * Values range between -1 and +1\n",
    "    * +1 = two vectors are on top of each other\n",
    "    * -1 = two vetors are in opposite direction (180 degrees apart for 2d)\n",
    "    * 0 = two vectors are perpendicular"
   ]
  },
  {
   "cell_type": "markdown",
   "metadata": {},
   "source": [
    "---"
   ]
  },
  {
   "cell_type": "markdown",
   "metadata": {},
   "source": [
    "#### A bit of intuition"
   ]
  },
  {
   "cell_type": "markdown",
   "metadata": {},
   "source": [
    "* Dot product can be written as :\n",
    "\n",
    "$DP = X_1*Y_1+X_2*Y_2+X_3*Y_3....X_n*Y_n$\n",
    "\n",
    "* OR:\n",
    "\n",
    "$DP = ||X||∗||Y||*\\cos(\\theta)$\n",
    "\n",
    "* Therefore\n",
    "\n",
    "$\\cos(\\theta) = \\frac{DP}{||X||∗||Y||}$"
   ]
  },
  {
   "cell_type": "markdown",
   "metadata": {},
   "source": [
    "---"
   ]
  },
  {
   "cell_type": "markdown",
   "metadata": {},
   "source": [
    "### Imports and Data"
   ]
  },
  {
   "cell_type": "code",
   "execution_count": 8,
   "metadata": {},
   "outputs": [],
   "source": [
    "import pandas as pd\n",
    "import numpy as np\n",
    "import tqdm\n",
    "import seaborn as sns\n",
    "from sqlalchemy import create_engine\n",
    "from sklearn.metrics.pairwise import cosine_distances, euclidean_distances\n",
    "from sklearn.metrics import jaccard_score\n",
    "\n",
    "HOST = 'localhost'\n",
    "USERNAME = 'postgres'\n",
    "PASSWORD = 'postgres'\n",
    "PORT = '5432'\n",
    "DATABASE = 'movies'\n",
    "\n",
    "conn_string = f'postgres://{USERNAME}:{PASSWORD}@{HOST}:{PORT}/{DATABASE}'\n",
    "engine = create_engine(conn_string)\n",
    "\n",
    "df = pd.read_sql('ratings',conn_string)\n",
    "umr = df.pivot_table(values='rating', index='userId', columns='movieId')"
   ]
  },
  {
   "cell_type": "markdown",
   "metadata": {},
   "source": [
    "### Manually \n",
    "* We need to fillnas to manually calculate cosim"
   ]
  },
  {
   "cell_type": "code",
   "execution_count": null,
   "metadata": {},
   "outputs": [],
   "source": [
    "umr.fillna"
   ]
  },
  {
   "cell_type": "code",
   "execution_count": 15,
   "metadata": {},
   "outputs": [],
   "source": [
    "umr.fillna(3.75,inplace=True)"
   ]
  },
  {
   "cell_type": "code",
   "execution_count": null,
   "metadata": {},
   "outputs": [],
   "source": [
    "#normalize your vectors - subtract the mean of the row from each value in that row\n",
    "#then fillnas with a zero\n",
    "* THIS FEELS LIKE A BREAOUT CHALLENGE!"
   ]
  },
  {
   "cell_type": "code",
   "execution_count": 19,
   "metadata": {},
   "outputs": [
    {
     "data": {
      "text/html": [
       "<div>\n",
       "<style scoped>\n",
       "    .dataframe tbody tr th:only-of-type {\n",
       "        vertical-align: middle;\n",
       "    }\n",
       "\n",
       "    .dataframe tbody tr th {\n",
       "        vertical-align: top;\n",
       "    }\n",
       "\n",
       "    .dataframe thead th {\n",
       "        text-align: right;\n",
       "    }\n",
       "</style>\n",
       "<table border=\"1\" class=\"dataframe\">\n",
       "  <thead>\n",
       "    <tr style=\"text-align: right;\">\n",
       "      <th>movieId</th>\n",
       "      <th>1</th>\n",
       "      <th>2</th>\n",
       "      <th>3</th>\n",
       "      <th>4</th>\n",
       "      <th>5</th>\n",
       "      <th>6</th>\n",
       "      <th>7</th>\n",
       "      <th>8</th>\n",
       "      <th>9</th>\n",
       "      <th>10</th>\n",
       "      <th>...</th>\n",
       "      <th>193565</th>\n",
       "      <th>193567</th>\n",
       "      <th>193571</th>\n",
       "      <th>193573</th>\n",
       "      <th>193579</th>\n",
       "      <th>193581</th>\n",
       "      <th>193583</th>\n",
       "      <th>193585</th>\n",
       "      <th>193587</th>\n",
       "      <th>193609</th>\n",
       "    </tr>\n",
       "    <tr>\n",
       "      <th>userId</th>\n",
       "      <th></th>\n",
       "      <th></th>\n",
       "      <th></th>\n",
       "      <th></th>\n",
       "      <th></th>\n",
       "      <th></th>\n",
       "      <th></th>\n",
       "      <th></th>\n",
       "      <th></th>\n",
       "      <th></th>\n",
       "      <th></th>\n",
       "      <th></th>\n",
       "      <th></th>\n",
       "      <th></th>\n",
       "      <th></th>\n",
       "      <th></th>\n",
       "      <th></th>\n",
       "      <th></th>\n",
       "      <th></th>\n",
       "      <th></th>\n",
       "      <th></th>\n",
       "    </tr>\n",
       "  </thead>\n",
       "  <tbody>\n",
       "    <tr>\n",
       "      <th>1</th>\n",
       "      <td>4.00</td>\n",
       "      <td>3.75</td>\n",
       "      <td>4.00</td>\n",
       "      <td>3.75</td>\n",
       "      <td>3.75</td>\n",
       "      <td>4.00</td>\n",
       "      <td>3.75</td>\n",
       "      <td>3.75</td>\n",
       "      <td>3.75</td>\n",
       "      <td>3.75</td>\n",
       "      <td>...</td>\n",
       "      <td>3.75</td>\n",
       "      <td>3.75</td>\n",
       "      <td>3.75</td>\n",
       "      <td>3.75</td>\n",
       "      <td>3.75</td>\n",
       "      <td>3.75</td>\n",
       "      <td>3.75</td>\n",
       "      <td>3.75</td>\n",
       "      <td>3.75</td>\n",
       "      <td>3.75</td>\n",
       "    </tr>\n",
       "    <tr>\n",
       "      <th>2</th>\n",
       "      <td>3.75</td>\n",
       "      <td>3.75</td>\n",
       "      <td>3.75</td>\n",
       "      <td>3.75</td>\n",
       "      <td>3.75</td>\n",
       "      <td>3.75</td>\n",
       "      <td>3.75</td>\n",
       "      <td>3.75</td>\n",
       "      <td>3.75</td>\n",
       "      <td>3.75</td>\n",
       "      <td>...</td>\n",
       "      <td>3.75</td>\n",
       "      <td>3.75</td>\n",
       "      <td>3.75</td>\n",
       "      <td>3.75</td>\n",
       "      <td>3.75</td>\n",
       "      <td>3.75</td>\n",
       "      <td>3.75</td>\n",
       "      <td>3.75</td>\n",
       "      <td>3.75</td>\n",
       "      <td>3.75</td>\n",
       "    </tr>\n",
       "  </tbody>\n",
       "</table>\n",
       "<p>2 rows × 9724 columns</p>\n",
       "</div>"
      ],
      "text/plain": [
       "movieId  1       2       3       4       5       6       7       8       \\\n",
       "userId                                                                    \n",
       "1          4.00    3.75    4.00    3.75    3.75    4.00    3.75    3.75   \n",
       "2          3.75    3.75    3.75    3.75    3.75    3.75    3.75    3.75   \n",
       "\n",
       "movieId  9       10      ...  193565  193567  193571  193573  193579  193581  \\\n",
       "userId                   ...                                                   \n",
       "1          3.75    3.75  ...    3.75    3.75    3.75    3.75    3.75    3.75   \n",
       "2          3.75    3.75  ...    3.75    3.75    3.75    3.75    3.75    3.75   \n",
       "\n",
       "movieId  193583  193585  193587  193609  \n",
       "userId                                   \n",
       "1          3.75    3.75    3.75    3.75  \n",
       "2          3.75    3.75    3.75    3.75  \n",
       "\n",
       "[2 rows x 9724 columns]"
      ]
     },
     "execution_count": 19,
     "metadata": {},
     "output_type": "execute_result"
    }
   ],
   "source": [
    "umr.head(2)"
   ]
  },
  {
   "cell_type": "code",
   "execution_count": 20,
   "metadata": {},
   "outputs": [],
   "source": [
    "def cosim(vec1, vec2):\n",
    "    num = np.dot(vec1, vec2)\n",
    "    denom = np.sqrt(np.dot(vec1,vec1) * np.dot(vec2,vec2))\n",
    "    return num / denom"
   ]
  },
  {
   "cell_type": "code",
   "execution_count": 21,
   "metadata": {
    "collapsed": true,
    "jupyter": {
     "outputs_hidden": true
    }
   },
   "outputs": [
    {
     "name": "stderr",
     "output_type": "stream",
     "text": [
      "\n",
      "0it [00:00, ?it/s]\u001b[A\n",
      "1it [00:00,  1.44it/s]\u001b[A\n",
      "2it [00:01,  1.38it/s]\u001b[A\n",
      "3it [00:02,  1.46it/s]\u001b[A\n",
      "4it [00:02,  1.67it/s]\u001b[A\n",
      "5it [00:02,  2.01it/s]\u001b[A\n",
      "6it [00:03,  2.06it/s]\u001b[A\n",
      "7it [00:03,  2.30it/s]\u001b[A\n",
      "8it [00:03,  2.58it/s]\u001b[A\n",
      "9it [00:04,  2.51it/s]\u001b[A\n",
      "10it [00:04,  2.76it/s]\u001b[A\n",
      "11it [00:04,  2.78it/s]\u001b[A\n",
      "12it [00:05,  2.35it/s]\u001b[A\n",
      "13it [00:05,  2.58it/s]\u001b[A\n",
      "14it [00:06,  2.14it/s]\u001b[A\n",
      "15it [00:06,  2.46it/s]\u001b[A\n",
      "16it [00:07,  2.49it/s]\u001b[A\n",
      "17it [00:07,  2.18it/s]\u001b[A\n",
      "18it [00:08,  2.30it/s]\u001b[A\n",
      "19it [00:08,  2.39it/s]\u001b[A\n",
      "20it [00:08,  2.57it/s]\u001b[A\n",
      "21it [00:09,  2.47it/s]\u001b[A\n",
      "22it [00:09,  2.71it/s]\u001b[A\n",
      "23it [00:09,  2.51it/s]\u001b[A\n",
      "24it [00:10,  2.25it/s]\u001b[A\n",
      "25it [00:10,  2.30it/s]\u001b[A\n",
      "26it [00:11,  2.56it/s]\u001b[A\n",
      "27it [00:11,  2.68it/s]\u001b[A\n",
      "28it [00:11,  2.83it/s]\u001b[A\n",
      "29it [00:12,  3.01it/s]\u001b[A\n",
      "30it [00:12,  2.72it/s]\u001b[A\n",
      "31it [00:12,  3.00it/s]\u001b[A\n",
      "32it [00:13,  2.96it/s]\u001b[A\n",
      "33it [00:13,  3.00it/s]\u001b[A\n",
      "34it [00:13,  3.24it/s]\u001b[A\n",
      "35it [00:14,  2.89it/s]\u001b[A\n",
      "36it [00:14,  3.14it/s]\u001b[A\n",
      "37it [00:14,  3.27it/s]\u001b[A\n",
      "38it [00:15,  3.08it/s]\u001b[A\n",
      "39it [00:15,  2.96it/s]\u001b[A\n",
      "40it [00:15,  2.88it/s]\u001b[A\n",
      "41it [00:16,  3.07it/s]\u001b[A\n",
      "42it [00:16,  2.83it/s]\u001b[A\n",
      "43it [00:16,  2.89it/s]\u001b[A\n",
      "44it [00:17,  2.84it/s]\u001b[A\n",
      "45it [00:17,  2.76it/s]\u001b[A\n",
      "46it [00:17,  2.95it/s]\u001b[A\n",
      "47it [00:18,  2.76it/s]\u001b[A\n",
      "48it [00:18,  2.97it/s]\u001b[A\n",
      "49it [00:18,  2.99it/s]\u001b[A\n",
      "50it [00:19,  2.79it/s]\u001b[A\n",
      "51it [00:19,  2.85it/s]\u001b[A\n",
      "52it [00:19,  2.80it/s]\u001b[A\n",
      "53it [00:20,  2.92it/s]\u001b[A\n",
      "54it [00:20,  2.77it/s]\u001b[A\n",
      "55it [00:20,  2.94it/s]\u001b[A\n",
      "56it [00:21,  2.75it/s]\u001b[A\n",
      "57it [00:21,  3.00it/s]\u001b[A\n",
      "58it [00:21,  3.14it/s]\u001b[A\n",
      "59it [00:22,  2.97it/s]\u001b[A\n",
      "60it [00:22,  3.14it/s]\u001b[A\n",
      "61it [00:22,  3.11it/s]\u001b[A\n",
      "62it [00:23,  2.90it/s]\u001b[A\n",
      "63it [00:23,  3.14it/s]\u001b[A\n",
      "64it [00:23,  3.09it/s]\u001b[A\n",
      "65it [00:24,  3.12it/s]\u001b[A\n",
      "66it [00:24,  3.04it/s]\u001b[A\n",
      "67it [00:24,  3.17it/s]\u001b[A\n",
      "68it [00:25,  3.02it/s]\u001b[A\n",
      "69it [00:25,  3.02it/s]\u001b[A\n",
      "70it [00:25,  3.25it/s]\u001b[A\n",
      "71it [00:26,  3.00it/s]\u001b[A\n",
      "72it [00:26,  3.19it/s]\u001b[A\n",
      "73it [00:26,  3.24it/s]\u001b[A\n",
      "74it [00:27,  2.97it/s]\u001b[A\n",
      "75it [00:27,  3.05it/s]\u001b[A\n",
      "76it [00:27,  2.87it/s]\u001b[A\n",
      "77it [00:28,  2.98it/s]\u001b[A\n",
      "78it [00:28,  2.93it/s]\u001b[A\n",
      "79it [00:28,  3.05it/s]\u001b[A\n",
      "80it [00:29,  3.01it/s]\u001b[A\n",
      "81it [00:29,  2.99it/s]\u001b[A\n",
      "82it [00:29,  2.95it/s]\u001b[A\n",
      "83it [00:30,  2.76it/s]\u001b[A\n",
      "84it [00:30,  3.03it/s]\u001b[A\n",
      "85it [00:30,  3.02it/s]\u001b[A\n",
      "86it [00:31,  2.91it/s]\u001b[A\n",
      "87it [00:31,  3.09it/s]\u001b[A\n",
      "88it [00:31,  2.83it/s]\u001b[A\n",
      "89it [00:32,  2.83it/s]\u001b[A\n",
      "90it [00:32,  2.79it/s]\u001b[A\n",
      "91it [00:32,  3.03it/s]\u001b[A\n",
      "92it [00:33,  2.82it/s]\u001b[A\n",
      "93it [00:33,  2.92it/s]\u001b[A\n",
      "94it [00:34,  2.87it/s]\u001b[A\n",
      "95it [00:34,  2.90it/s]\u001b[A\n",
      "96it [00:34,  3.13it/s]\u001b[A\n",
      "97it [00:35,  2.86it/s]\u001b[A\n",
      "98it [00:35,  3.00it/s]\u001b[A\n",
      "99it [00:35,  2.95it/s]\u001b[A\n",
      "100it [00:36,  2.98it/s]\u001b[A\n",
      "101it [00:36,  2.81it/s]\u001b[A\n",
      "102it [00:36,  2.97it/s]\u001b[A\n",
      "103it [00:37,  3.07it/s]\u001b[A\n",
      "104it [00:37,  2.86it/s]\u001b[A\n",
      "105it [00:37,  3.04it/s]\u001b[A\n",
      "106it [00:38,  2.91it/s]\u001b[A\n",
      "107it [00:38,  3.00it/s]\u001b[A\n",
      "108it [00:38,  2.98it/s]\u001b[A\n",
      "109it [00:39,  2.90it/s]\u001b[A\n",
      "110it [00:39,  3.04it/s]\u001b[A\n",
      "111it [00:39,  2.81it/s]\u001b[A\n",
      "112it [00:40,  2.97it/s]\u001b[A\n",
      "113it [00:40,  2.83it/s]\u001b[A\n",
      "114it [00:40,  3.00it/s]\u001b[A\n",
      "115it [00:41,  3.17it/s]\u001b[A\n",
      "116it [00:41,  2.92it/s]\u001b[A\n",
      "117it [00:41,  3.03it/s]\u001b[A\n",
      "118it [00:42,  2.49it/s]\u001b[A\n",
      "119it [00:42,  2.17it/s]\u001b[A\n",
      "120it [00:43,  2.23it/s]\u001b[A\n",
      "121it [00:43,  2.08it/s]\u001b[A\n",
      "122it [00:44,  1.88it/s]\u001b[A\n",
      "123it [00:45,  1.73it/s]\u001b[A\n",
      "124it [00:45,  1.85it/s]\u001b[A\n",
      "125it [00:46,  1.69it/s]\u001b[A\n",
      "126it [00:46,  1.81it/s]\u001b[A\n",
      "127it [00:47,  1.70it/s]\u001b[A\n",
      "128it [00:47,  1.96it/s]\u001b[A\n",
      "129it [00:48,  1.69it/s]\u001b[A\n",
      "130it [00:48,  1.97it/s]\u001b[A\n",
      "131it [00:49,  1.85it/s]\u001b[A\n",
      "132it [00:49,  2.01it/s]\u001b[A\n",
      "133it [00:50,  1.76it/s]\u001b[A\n",
      "134it [00:51,  1.88it/s]\u001b[A\n",
      "135it [00:51,  1.90it/s]\u001b[A\n",
      "136it [00:51,  2.18it/s]\u001b[A\n",
      "137it [00:52,  2.01it/s]\u001b[A\n",
      "138it [00:53,  2.06it/s]\u001b[A\n",
      "139it [00:53,  2.03it/s]\u001b[A\n",
      "140it [00:53,  2.34it/s]\u001b[A\n",
      "141it [00:54,  2.10it/s]\u001b[A\n",
      "142it [00:54,  2.34it/s]\u001b[A\n",
      "143it [00:55,  2.24it/s]\u001b[A\n",
      "144it [00:55,  2.44it/s]\u001b[A\n",
      "145it [00:55,  2.41it/s]\u001b[A\n",
      "146it [00:56,  2.52it/s]\u001b[A\n",
      "147it [00:56,  2.43it/s]\u001b[A\n",
      "148it [00:57,  2.65it/s]\u001b[A\n",
      "149it [00:57,  2.41it/s]\u001b[A\n",
      "150it [00:57,  2.70it/s]\u001b[A\n",
      "151it [00:58,  2.80it/s]\u001b[A\n",
      "152it [00:58,  2.75it/s]\u001b[A\n",
      "153it [00:58,  3.00it/s]\u001b[A\n",
      "154it [00:59,  2.65it/s]\u001b[A\n",
      "155it [00:59,  2.92it/s]\u001b[A\n",
      "156it [00:59,  3.00it/s]\u001b[A\n",
      "157it [01:00,  2.85it/s]\u001b[A\n",
      "158it [01:00,  3.11it/s]\u001b[A\n",
      "159it [01:00,  3.02it/s]\u001b[A\n",
      "160it [01:01,  3.03it/s]\u001b[A\n",
      "161it [01:01,  3.05it/s]\u001b[A\n",
      "162it [01:01,  2.94it/s]\u001b[A\n",
      "163it [01:02,  2.97it/s]\u001b[A\n",
      "164it [01:02,  2.76it/s]\u001b[A\n",
      "165it [01:02,  2.85it/s]\u001b[A\n",
      "166it [01:03,  2.63it/s]\u001b[A\n",
      "167it [01:03,  2.77it/s]\u001b[A\n",
      "168it [01:04,  2.71it/s]\u001b[A\n",
      "169it [01:04,  2.71it/s]\u001b[A\n",
      "170it [01:04,  2.85it/s]\u001b[A\n",
      "171it [01:05,  2.79it/s]\u001b[A\n",
      "172it [01:06,  1.40it/s]\u001b[A\n",
      "173it [01:07,  1.22it/s]\u001b[A\n",
      "174it [01:08,  1.24it/s]\u001b[A\n",
      "175it [01:09,  1.27it/s]\u001b[A\n",
      "176it [01:09,  1.49it/s]\u001b[A\n",
      "177it [01:10,  1.55it/s]\u001b[A\n",
      "178it [01:10,  1.71it/s]\u001b[A\n",
      "179it [01:11,  1.84it/s]\u001b[A\n",
      "180it [01:11,  1.93it/s]\u001b[A\n",
      "181it [01:11,  2.09it/s]\u001b[A\n",
      "182it [01:12,  1.89it/s]\u001b[A\n",
      "183it [01:13,  1.49it/s]\u001b[A\n",
      "184it [01:13,  1.71it/s]\u001b[A\n",
      "185it [01:14,  1.73it/s]\u001b[A\n",
      "186it [01:14,  1.93it/s]\u001b[A\n",
      "187it [01:15,  1.91it/s]\u001b[A\n",
      "188it [01:15,  2.05it/s]\u001b[A\n",
      "189it [01:16,  1.92it/s]\u001b[A\n",
      "190it [01:16,  2.06it/s]\u001b[A\n",
      "191it [01:17,  1.93it/s]\u001b[A\n",
      "192it [01:17,  2.19it/s]\u001b[A\n",
      "193it [01:18,  2.01it/s]\u001b[A\n",
      "194it [01:18,  2.23it/s]\u001b[A\n",
      "195it [01:19,  2.16it/s]\u001b[A\n",
      "196it [01:19,  2.19it/s]\u001b[A\n",
      "197it [01:20,  1.92it/s]\u001b[A\n",
      "198it [01:21,  1.41it/s]\u001b[A\n",
      "199it [01:22,  1.20it/s]\u001b[A\n",
      "200it [01:22,  1.44it/s]\u001b[A\n",
      "201it [01:23,  1.54it/s]\u001b[A\n",
      "202it [01:24,  1.63it/s]\u001b[A\n",
      "203it [01:24,  1.57it/s]\u001b[A\n",
      "204it [01:25,  1.63it/s]\u001b[A\n",
      "205it [01:25,  1.74it/s]\u001b[A\n",
      "206it [01:26,  1.88it/s]\u001b[A\n",
      "207it [01:26,  1.94it/s]\u001b[A\n",
      "208it [01:27,  2.11it/s]\u001b[A\n",
      "209it [01:27,  1.90it/s]\u001b[A\n",
      "210it [01:28,  1.93it/s]\u001b[A\n",
      "211it [01:28,  1.84it/s]\u001b[A\n",
      "212it [01:29,  1.77it/s]\u001b[A\n",
      "213it [01:29,  1.91it/s]\u001b[A\n",
      "214it [01:30,  1.72it/s]\u001b[A\n",
      "215it [01:31,  1.77it/s]\u001b[A\n",
      "216it [01:31,  1.85it/s]\u001b[A\n",
      "217it [01:32,  1.39it/s]\u001b[A\n",
      "218it [01:33,  1.25it/s]\u001b[A\n",
      "219it [01:34,  1.24it/s]\u001b[A\n",
      "220it [01:35,  1.39it/s]\u001b[A\n",
      "221it [01:35,  1.39it/s]\u001b[A\n",
      "222it [01:36,  1.59it/s]\u001b[A\n",
      "223it [01:36,  1.67it/s]\u001b[A\n",
      "224it [01:37,  1.78it/s]\u001b[A\n",
      "225it [01:37,  1.73it/s]\u001b[A\n",
      "226it [01:38,  1.83it/s]\u001b[A\n",
      "227it [01:38,  1.91it/s]\u001b[A\n",
      "228it [01:39,  1.79it/s]\u001b[A\n",
      "229it [01:39,  1.96it/s]\u001b[A\n",
      "230it [01:40,  1.85it/s]\u001b[A\n",
      "231it [01:40,  2.05it/s]\u001b[A\n",
      "232it [01:41,  1.82it/s]\u001b[A\n",
      "233it [01:41,  1.89it/s]\u001b[A\n",
      "234it [01:42,  1.82it/s]\u001b[A\n",
      "235it [01:42,  1.94it/s]\u001b[A\n",
      "236it [01:43,  1.86it/s]\u001b[A\n",
      "237it [01:43,  2.06it/s]\u001b[A\n",
      "238it [01:44,  1.86it/s]\u001b[A\n",
      "239it [01:45,  1.48it/s]\u001b[A\n",
      "240it [01:46,  1.30it/s]\u001b[A\n",
      "241it [01:47,  1.31it/s]\u001b[A\n",
      "242it [01:47,  1.37it/s]\u001b[A\n",
      "243it [01:48,  1.48it/s]\u001b[A\n",
      "244it [01:48,  1.65it/s]\u001b[A\n",
      "245it [01:49,  1.58it/s]\u001b[A\n",
      "246it [01:50,  1.69it/s]\u001b[A\n",
      "247it [01:50,  2.01it/s]\u001b[A\n",
      "248it [01:50,  2.08it/s]\u001b[A\n",
      "249it [01:51,  2.05it/s]\u001b[A\n",
      "250it [01:51,  2.12it/s]\u001b[A\n",
      "251it [01:52,  2.30it/s]\u001b[A\n",
      "252it [01:52,  2.38it/s]\u001b[A\n",
      "253it [01:52,  2.44it/s]\u001b[A\n",
      "254it [01:53,  1.75it/s]\u001b[A\n",
      "255it [01:54,  1.87it/s]\u001b[A\n",
      "256it [01:54,  2.06it/s]\u001b[A\n",
      "257it [01:55,  2.22it/s]\u001b[A\n",
      "258it [01:55,  2.33it/s]\u001b[A\n",
      "259it [01:55,  2.41it/s]\u001b[A\n",
      "260it [01:56,  1.97it/s]\u001b[A\n",
      "261it [01:56,  2.06it/s]\u001b[A\n",
      "262it [01:58,  1.23it/s]\u001b[A\n",
      "263it [01:59,  1.23it/s]\u001b[A\n",
      "264it [01:59,  1.40it/s]\u001b[A\n",
      "265it [02:00,  1.56it/s]\u001b[A\n",
      "266it [02:00,  1.66it/s]\u001b[A\n",
      "267it [02:01,  1.75it/s]\u001b[A\n",
      "268it [02:01,  1.81it/s]\u001b[A\n",
      "269it [02:02,  1.88it/s]\u001b[A\n",
      "270it [02:02,  2.10it/s]\u001b[A\n",
      "271it [02:03,  2.25it/s]\u001b[A\n",
      "272it [02:03,  2.20it/s]\u001b[A\n",
      "273it [02:03,  2.21it/s]\u001b[A\n",
      "274it [02:04,  1.97it/s]\u001b[A\n",
      "275it [02:05,  1.57it/s]\u001b[A\n",
      "276it [02:05,  1.82it/s]\u001b[A\n",
      "277it [02:06,  1.83it/s]\u001b[A\n",
      "278it [02:06,  1.92it/s]\u001b[A\n",
      "279it [02:07,  1.79it/s]\u001b[A\n",
      "280it [02:07,  1.94it/s]\u001b[A\n",
      "281it [02:08,  1.75it/s]\u001b[A\n",
      "282it [02:09,  1.88it/s]\u001b[A\n",
      "283it [02:09,  1.83it/s]\u001b[A\n",
      "284it [02:10,  1.58it/s]\u001b[A\n",
      "285it [02:10,  1.77it/s]\u001b[A\n",
      "286it [02:11,  1.75it/s]\u001b[A\n",
      "287it [02:11,  1.98it/s]\u001b[A\n",
      "288it [02:12,  1.81it/s]\u001b[A\n",
      "289it [02:12,  1.99it/s]\u001b[A\n",
      "290it [02:13,  1.58it/s]\u001b[A\n",
      "291it [02:14,  1.63it/s]\u001b[A\n",
      "292it [02:14,  1.67it/s]\u001b[A\n",
      "293it [02:15,  1.45it/s]\u001b[A\n",
      "294it [02:16,  1.52it/s]\u001b[A\n",
      "295it [02:16,  1.62it/s]\u001b[A\n",
      "296it [02:17,  1.52it/s]\u001b[A\n",
      "297it [02:18,  1.56it/s]\u001b[A\n",
      "298it [02:18,  1.60it/s]\u001b[A\n",
      "299it [02:19,  1.57it/s]\u001b[A\n",
      "300it [02:20,  1.47it/s]\u001b[A\n",
      "301it [02:20,  1.59it/s]\u001b[A\n",
      "302it [02:21,  1.64it/s]\u001b[A\n",
      "303it [02:22,  1.69it/s]\u001b[A\n",
      "304it [02:22,  1.70it/s]\u001b[A\n",
      "305it [02:22,  1.91it/s]\u001b[A\n",
      "306it [02:23,  1.87it/s]\u001b[A\n",
      "307it [02:23,  2.07it/s]\u001b[A\n",
      "308it [02:24,  2.03it/s]\u001b[A\n",
      "309it [02:24,  2.17it/s]\u001b[A\n",
      "310it [02:25,  1.93it/s]\u001b[A\n",
      "311it [02:25,  2.02it/s]\u001b[A\n",
      "312it [02:26,  1.93it/s]\u001b[A\n",
      "313it [02:26,  2.04it/s]\u001b[A\n",
      "314it [02:27,  1.91it/s]\u001b[A\n",
      "315it [02:27,  2.08it/s]\u001b[A\n",
      "316it [02:28,  1.83it/s]\u001b[A\n",
      "317it [02:28,  2.00it/s]\u001b[A\n",
      "318it [02:29,  1.87it/s]\u001b[A\n",
      "319it [02:30,  1.69it/s]\u001b[A\n",
      "320it [02:31,  1.57it/s]\u001b[A\n",
      "321it [02:31,  1.75it/s]\u001b[A\n",
      "322it [02:32,  1.73it/s]\u001b[A\n",
      "323it [02:32,  1.72it/s]\u001b[A\n",
      "324it [02:33,  1.67it/s]\u001b[A\n",
      "325it [02:33,  1.85it/s]\u001b[A\n",
      "326it [02:34,  1.86it/s]\u001b[A\n",
      "327it [02:34,  1.87it/s]\u001b[A\n",
      "328it [02:35,  1.85it/s]\u001b[A\n",
      "329it [02:35,  1.84it/s]\u001b[A\n",
      "330it [02:36,  1.94it/s]\u001b[A\n",
      "331it [02:37,  1.31it/s]\u001b[A\n",
      "332it [02:38,  1.24it/s]\u001b[A\n",
      "333it [02:39,  1.41it/s]\u001b[A\n",
      "334it [02:39,  1.42it/s]\u001b[A\n",
      "335it [02:40,  1.54it/s]\u001b[A\n",
      "336it [02:41,  1.31it/s]\u001b[A\n",
      "337it [02:42,  1.21it/s]\u001b[A\n",
      "338it [02:42,  1.28it/s]\u001b[A\n",
      "339it [02:43,  1.32it/s]\u001b[A\n",
      "340it [02:44,  1.35it/s]\u001b[A\n",
      "341it [02:45,  1.31it/s]\u001b[A\n",
      "342it [02:45,  1.42it/s]\u001b[A\n",
      "343it [02:46,  1.56it/s]\u001b[A\n",
      "344it [02:46,  1.60it/s]\u001b[A\n",
      "345it [02:47,  1.79it/s]\u001b[A\n",
      "346it [02:47,  1.81it/s]\u001b[A\n",
      "347it [02:48,  1.92it/s]\u001b[A\n",
      "348it [02:48,  1.81it/s]\u001b[A\n",
      "349it [02:49,  1.72it/s]\u001b[A\n",
      "350it [02:49,  1.94it/s]\u001b[A\n",
      "351it [02:50,  1.57it/s]\u001b[A\n",
      "352it [02:51,  1.51it/s]\u001b[A\n",
      "353it [02:51,  1.68it/s]\u001b[A\n",
      "354it [02:52,  1.67it/s]\u001b[A\n",
      "355it [02:52,  1.88it/s]\u001b[A\n",
      "356it [02:53,  1.79it/s]\u001b[A\n",
      "357it [02:53,  1.99it/s]\u001b[A\n",
      "358it [02:54,  1.84it/s]\u001b[A\n",
      "359it [02:54,  2.08it/s]\u001b[A\n",
      "360it [02:55,  1.93it/s]\u001b[A\n",
      "361it [02:55,  2.11it/s]\u001b[A\n",
      "362it [02:56,  1.97it/s]\u001b[A\n",
      "363it [02:56,  2.08it/s]\u001b[A\n",
      "364it [02:57,  2.02it/s]\u001b[A\n",
      "365it [02:57,  2.17it/s]\u001b[A\n",
      "366it [02:58,  1.94it/s]\u001b[A\n",
      "367it [02:58,  2.12it/s]\u001b[A\n",
      "368it [02:59,  2.07it/s]\u001b[A\n",
      "369it [02:59,  2.15it/s]\u001b[A\n",
      "370it [03:00,  1.96it/s]\u001b[A\n",
      "371it [03:00,  2.18it/s]\u001b[A\n",
      "372it [03:01,  2.00it/s]\u001b[A\n",
      "373it [03:01,  2.14it/s]\u001b[A\n",
      "374it [03:02,  1.95it/s]\u001b[A\n",
      "375it [03:02,  2.17it/s]\u001b[A\n",
      "376it [03:03,  2.08it/s]\u001b[A\n",
      "377it [03:03,  2.19it/s]\u001b[A\n",
      "378it [03:04,  2.08it/s]\u001b[A\n",
      "379it [03:04,  2.07it/s]\u001b[A\n",
      "380it [03:05,  2.00it/s]\u001b[A\n",
      "381it [03:05,  1.96it/s]\u001b[A\n",
      "382it [03:06,  1.87it/s]\u001b[A\n",
      "383it [03:06,  1.79it/s]\u001b[A\n",
      "384it [03:07,  1.79it/s]\u001b[A\n",
      "385it [03:07,  1.90it/s]\u001b[A\n",
      "386it [03:08,  1.83it/s]\u001b[A\n",
      "387it [03:08,  1.89it/s]\u001b[A\n",
      "388it [03:09,  1.85it/s]\u001b[A\n",
      "389it [03:09,  1.97it/s]\u001b[A\n",
      "390it [03:10,  1.81it/s]\u001b[A\n",
      "391it [03:11,  1.79it/s]\u001b[A\n",
      "392it [03:11,  1.86it/s]\u001b[A\n",
      "393it [03:12,  1.94it/s]\u001b[A\n",
      "394it [03:12,  1.99it/s]\u001b[A\n",
      "395it [03:13,  2.00it/s]\u001b[A\n",
      "396it [03:13,  1.93it/s]\u001b[A\n",
      "397it [03:14,  2.05it/s]\u001b[A\n",
      "398it [03:14,  1.93it/s]\u001b[A\n",
      "399it [03:15,  1.87it/s]\u001b[A\n",
      "400it [03:15,  2.01it/s]\u001b[A\n",
      "401it [03:16,  1.83it/s]\u001b[A\n",
      "402it [03:16,  2.07it/s]\u001b[A\n",
      "403it [03:17,  1.79it/s]\u001b[A\n",
      "404it [03:17,  1.97it/s]\u001b[A\n",
      "405it [03:18,  1.91it/s]\u001b[A\n",
      "406it [03:18,  2.04it/s]\u001b[A\n",
      "407it [03:19,  2.02it/s]\u001b[A\n",
      "408it [03:19,  2.15it/s]\u001b[A\n",
      "409it [03:20,  2.14it/s]\u001b[A\n",
      "410it [03:20,  2.20it/s]\u001b[A\n",
      "411it [03:21,  2.03it/s]\u001b[A\n",
      "412it [03:21,  2.07it/s]\u001b[A\n",
      "413it [03:22,  1.88it/s]\u001b[A\n",
      "414it [03:22,  2.04it/s]\u001b[A\n",
      "415it [03:23,  1.82it/s]\u001b[A\n",
      "416it [03:23,  1.96it/s]\u001b[A\n",
      "417it [03:24,  1.92it/s]\u001b[A\n",
      "418it [03:24,  2.02it/s]\u001b[A\n",
      "419it [03:25,  1.88it/s]\u001b[A\n",
      "420it [03:25,  1.90it/s]\u001b[A\n",
      "421it [03:26,  1.77it/s]\u001b[A\n",
      "422it [03:26,  1.90it/s]\u001b[A\n",
      "423it [03:27,  1.95it/s]\u001b[A\n",
      "424it [03:27,  2.03it/s]\u001b[A\n",
      "425it [03:28,  1.83it/s]\u001b[A\n",
      "426it [03:28,  1.94it/s]\u001b[A\n",
      "427it [03:29,  1.90it/s]\u001b[A\n",
      "428it [03:29,  1.97it/s]\u001b[A\n",
      "429it [03:30,  1.85it/s]\u001b[A\n",
      "430it [03:31,  1.89it/s]\u001b[A\n",
      "431it [03:31,  1.90it/s]\u001b[A\n",
      "432it [03:31,  2.07it/s]\u001b[A\n",
      "433it [03:32,  1.87it/s]\u001b[A\n",
      "434it [03:33,  1.98it/s]\u001b[A\n",
      "435it [03:33,  1.96it/s]\u001b[A\n",
      "436it [03:34,  1.82it/s]\u001b[A\n",
      "437it [03:34,  1.87it/s]\u001b[A\n",
      "438it [03:35,  1.78it/s]\u001b[A\n",
      "439it [03:35,  2.02it/s]\u001b[A\n",
      "440it [03:36,  1.91it/s]\u001b[A\n",
      "441it [03:36,  1.84it/s]\u001b[A\n",
      "442it [03:37,  1.75it/s]\u001b[A\n",
      "443it [03:37,  1.81it/s]\u001b[A\n",
      "444it [03:38,  1.76it/s]\u001b[A\n",
      "445it [03:39,  1.91it/s]\u001b[A\n",
      "446it [03:39,  1.82it/s]\u001b[A\n",
      "447it [03:40,  1.96it/s]\u001b[A\n",
      "448it [03:40,  1.77it/s]\u001b[A\n",
      "449it [03:41,  1.82it/s]\u001b[A\n",
      "450it [03:41,  1.89it/s]\u001b[A\n",
      "451it [03:42,  1.85it/s]\u001b[A\n",
      "452it [03:42,  1.95it/s]\u001b[A\n",
      "453it [03:43,  1.91it/s]\u001b[A\n",
      "454it [03:43,  1.97it/s]\u001b[A\n",
      "455it [03:44,  1.81it/s]\u001b[A\n",
      "456it [03:44,  1.92it/s]\u001b[A\n",
      "457it [03:45,  1.83it/s]\u001b[A\n",
      "458it [03:45,  1.89it/s]\u001b[A\n",
      "459it [03:46,  1.84it/s]\u001b[A\n",
      "460it [03:47,  1.84it/s]\u001b[A\n",
      "461it [03:47,  1.94it/s]\u001b[A\n",
      "462it [03:48,  1.86it/s]\u001b[A\n",
      "463it [03:48,  1.99it/s]\u001b[A\n",
      "464it [03:49,  1.82it/s]\u001b[A\n",
      "465it [03:49,  1.93it/s]\u001b[A\n",
      "466it [03:50,  1.82it/s]\u001b[A\n",
      "467it [03:50,  1.79it/s]\u001b[A\n",
      "468it [03:51,  1.99it/s]\u001b[A\n",
      "469it [03:51,  1.86it/s]\u001b[A\n",
      "470it [03:52,  1.95it/s]\u001b[A\n",
      "471it [03:52,  1.90it/s]\u001b[A\n",
      "472it [03:53,  1.92it/s]\u001b[A\n",
      "473it [03:53,  1.96it/s]\u001b[A\n",
      "474it [03:54,  1.88it/s]\u001b[A\n",
      "475it [03:54,  2.03it/s]\u001b[A\n",
      "476it [03:55,  1.72it/s]\u001b[A\n",
      "477it [03:55,  2.01it/s]\u001b[A\n",
      "478it [03:56,  1.85it/s]\u001b[A\n",
      "479it [03:56,  2.06it/s]\u001b[A\n",
      "480it [03:57,  1.84it/s]\u001b[A\n",
      "481it [03:57,  2.05it/s]\u001b[A\n",
      "482it [03:58,  1.87it/s]\u001b[A\n",
      "483it [03:59,  1.79it/s]\u001b[A\n",
      "484it [03:59,  1.90it/s]\u001b[A\n",
      "485it [04:00,  1.98it/s]\u001b[A\n",
      "486it [04:00,  1.99it/s]\u001b[A\n",
      "487it [04:01,  1.87it/s]\u001b[A\n",
      "488it [04:01,  2.07it/s]\u001b[A\n",
      "489it [04:02,  1.90it/s]\u001b[A\n",
      "490it [04:02,  1.69it/s]\u001b[A\n",
      "491it [04:03,  1.86it/s]\u001b[A\n",
      "492it [04:03,  1.81it/s]\u001b[A\n",
      "493it [04:04,  1.93it/s]\u001b[A\n",
      "494it [04:05,  1.79it/s]\u001b[A\n",
      "495it [04:05,  1.84it/s]\u001b[A\n",
      "496it [04:05,  2.15it/s]\u001b[A\n",
      "497it [04:06,  2.15it/s]\u001b[A\n",
      "498it [04:06,  2.39it/s]\u001b[A\n",
      "499it [04:06,  2.69it/s]\u001b[A\n",
      "500it [04:07,  2.50it/s]\u001b[A\n",
      "501it [04:07,  2.66it/s]\u001b[A\n",
      "502it [04:08,  2.69it/s]\u001b[A\n",
      "503it [04:08,  2.74it/s]\u001b[A\n",
      "504it [04:08,  2.75it/s]\u001b[A\n",
      "505it [04:09,  2.86it/s]\u001b[A\n",
      "506it [04:09,  2.61it/s]\u001b[A\n",
      "507it [04:09,  2.75it/s]\u001b[A\n",
      "508it [04:10,  2.43it/s]\u001b[A\n",
      "509it [04:10,  2.65it/s]\u001b[A\n",
      "510it [04:11,  2.74it/s]\u001b[A\n",
      "511it [04:11,  2.71it/s]\u001b[A\n",
      "512it [04:11,  2.64it/s]\u001b[A\n",
      "513it [04:12,  2.72it/s]\u001b[A\n",
      "514it [04:12,  2.74it/s]\u001b[A\n",
      "515it [04:12,  2.68it/s]\u001b[A\n",
      "516it [04:13,  2.75it/s]\u001b[A\n",
      "517it [04:13,  2.59it/s]\u001b[A\n",
      "518it [04:13,  2.79it/s]\u001b[A\n",
      "519it [04:14,  2.58it/s]\u001b[A\n",
      "520it [04:14,  2.82it/s]\u001b[A\n",
      "521it [04:15,  2.74it/s]\u001b[A\n",
      "522it [04:15,  2.72it/s]\u001b[A\n",
      "523it [04:15,  2.91it/s]\u001b[A\n",
      "524it [04:16,  2.63it/s]\u001b[A\n",
      "525it [04:16,  2.80it/s]\u001b[A\n",
      "526it [04:16,  2.62it/s]\u001b[A\n",
      "527it [04:17,  2.33it/s]\u001b[A\n",
      "528it [04:17,  2.33it/s]\u001b[A\n",
      "529it [04:18,  2.48it/s]\u001b[A\n",
      "530it [04:18,  2.49it/s]\u001b[A\n",
      "531it [04:18,  2.69it/s]\u001b[A\n",
      "532it [04:19,  2.59it/s]\u001b[A\n",
      "533it [04:19,  2.77it/s]\u001b[A\n",
      "534it [04:19,  2.88it/s]\u001b[A\n",
      "535it [04:20,  2.61it/s]\u001b[A\n",
      "536it [04:21,  2.29it/s]\u001b[A\n",
      "537it [04:21,  2.18it/s]\u001b[A\n",
      "538it [04:22,  1.96it/s]\u001b[A\n",
      "539it [04:22,  2.10it/s]\u001b[A\n",
      "540it [04:22,  2.36it/s]\u001b[A\n",
      "541it [04:23,  2.34it/s]\u001b[A\n",
      "542it [04:23,  2.57it/s]\u001b[A\n",
      "543it [04:24,  2.51it/s]\u001b[A\n",
      "544it [04:24,  2.60it/s]\u001b[A\n",
      "545it [04:24,  2.50it/s]\u001b[A\n",
      "546it [04:25,  2.74it/s]\u001b[A\n",
      "547it [04:25,  2.57it/s]\u001b[A\n",
      "548it [04:25,  2.82it/s]\u001b[A\n",
      "549it [04:26,  2.78it/s]\u001b[A\n",
      "550it [04:26,  2.66it/s]\u001b[A\n",
      "551it [04:26,  2.88it/s]\u001b[A\n",
      "552it [04:27,  2.62it/s]\u001b[A\n",
      "553it [04:27,  2.81it/s]\u001b[A\n",
      "554it [04:28,  2.65it/s]\u001b[A\n",
      "555it [04:28,  2.61it/s]\u001b[A\n",
      "556it [04:28,  2.69it/s]\u001b[A\n",
      "557it [04:29,  2.73it/s]\u001b[A\n",
      "558it [04:29,  2.83it/s]\u001b[A\n",
      "559it [04:29,  2.73it/s]\u001b[A\n",
      "560it [04:30,  2.63it/s]\u001b[A\n",
      "561it [04:30,  2.59it/s]\u001b[A\n",
      "562it [04:30,  2.87it/s]\u001b[A\n",
      "563it [04:31,  2.65it/s]\u001b[A\n",
      "564it [04:31,  2.80it/s]\u001b[A\n",
      "565it [04:31,  3.01it/s]\u001b[A\n",
      "566it [04:32,  2.73it/s]\u001b[A\n",
      "567it [04:32,  2.93it/s]\u001b[A\n",
      "568it [04:33,  2.65it/s]\u001b[A\n",
      "569it [04:33,  2.79it/s]\u001b[A\n",
      "570it [04:33,  2.71it/s]\u001b[A\n",
      "571it [04:34,  2.85it/s]\u001b[A\n",
      "572it [04:34,  2.92it/s]\u001b[A\n",
      "573it [04:34,  2.93it/s]\u001b[A\n",
      "574it [04:35,  2.94it/s]\u001b[A\n",
      "575it [04:35,  2.76it/s]\u001b[A\n",
      "576it [04:35,  2.94it/s]\u001b[A\n",
      "577it [04:36,  2.64it/s]\u001b[A\n",
      "578it [04:36,  2.88it/s]\u001b[A\n",
      "579it [04:36,  2.93it/s]\u001b[A\n",
      "580it [04:37,  2.80it/s]\u001b[A\n",
      "581it [04:37,  3.02it/s]\u001b[A\n",
      "582it [04:38,  2.79it/s]\u001b[A\n",
      "583it [04:38,  2.90it/s]\u001b[A\n",
      "584it [04:38,  2.90it/s]\u001b[A\n",
      "585it [04:39,  2.92it/s]\u001b[A\n",
      "586it [04:39,  2.77it/s]\u001b[A\n",
      "587it [04:39,  2.86it/s]\u001b[A\n",
      "588it [04:40,  2.99it/s]\u001b[A\n",
      "589it [04:40,  2.75it/s]\u001b[A\n",
      "590it [04:40,  2.96it/s]\u001b[A\n",
      "591it [04:41,  2.92it/s]\u001b[A\n",
      "592it [04:41,  2.56it/s]\u001b[A\n",
      "593it [04:42,  2.56it/s]\u001b[A\n",
      "594it [04:42,  2.72it/s]\u001b[A\n",
      "595it [04:42,  2.45it/s]\u001b[A\n",
      "596it [04:43,  2.09it/s]\u001b[A\n",
      "597it [04:43,  2.32it/s]\u001b[A\n",
      "598it [04:44,  2.38it/s]\u001b[A\n",
      "599it [04:44,  2.31it/s]\u001b[A\n",
      "600it [04:45,  2.04it/s]\u001b[A\n",
      "601it [04:45,  2.17it/s]\u001b[A\n",
      "602it [04:46,  2.11it/s]\u001b[A\n",
      "603it [04:46,  2.29it/s]\u001b[A\n",
      "604it [04:46,  2.29it/s]\u001b[A\n",
      "605it [04:47,  2.35it/s]\u001b[A\n",
      "606it [04:47,  2.28it/s]\u001b[A\n",
      "607it [04:48,  2.48it/s]\u001b[A\n",
      "608it [04:48,  2.41it/s]\u001b[A\n",
      "609it [04:48,  2.53it/s]\u001b[A\n",
      "610it [04:49,  2.11it/s]\u001b[A\n"
     ]
    }
   ],
   "source": [
    "data = []\n",
    "for i, row1 in tqdm.tqdm(umr.iterrows()):\n",
    "    row = []\n",
    "    for j, row2 in umr.iterrows():\n",
    "        c = cosim(row1, row2)\n",
    "        row.append(c)\n",
    "    data.append(row)"
   ]
  },
  {
   "cell_type": "markdown",
   "metadata": {},
   "source": [
    "### Now we can create our own cosim matrix"
   ]
  },
  {
   "cell_type": "code",
   "execution_count": 24,
   "metadata": {},
   "outputs": [],
   "source": [
    "cs = pd.DataFrame(data, index=umr.index, columns=umr.index).round(10)"
   ]
  },
  {
   "cell_type": "code",
   "execution_count": 41,
   "metadata": {},
   "outputs": [
    {
     "data": {
      "text/plain": [
       "<matplotlib.axes._subplots.AxesSubplot at 0x7f937a15a050>"
      ]
     },
     "execution_count": 41,
     "metadata": {},
     "output_type": "execute_result"
    },
    {
     "data": {
      "image/png": "[encoded data removed]",
      "text/plain": [
       "<Figure size 432x288 with 2 Axes>"
      ]
     },
     "metadata": {
      "needs_background": "light"
     },
     "output_type": "display_data"
    }
   ],
   "source": [
    "sns.heatmap(cs)"
   ]
  },
  {
   "cell_type": "markdown",
   "metadata": {},
   "source": [
    "#### And use it to find k closest users"
   ]
  },
  {
   "cell_type": "code",
   "execution_count": 29,
   "metadata": {},
   "outputs": [
    {
     "data": {
      "text/plain": [
       "array([3, 1, 0, 2])"
      ]
     },
     "execution_count": 29,
     "metadata": {},
     "output_type": "execute_result"
    }
   ],
   "source": [
    "np.argsort([10,6,500, 3])"
   ]
  },
  {
   "cell_type": "code",
   "execution_count": null,
   "metadata": {},
   "outputs": [],
   "source": [
    "[x for x in collection]\n",
    "list_telling_me_where_to_find_k_closest_users = np.argsort(cs.iloc[user_id])[-k:]\n",
    "\n",
    "\n",
    "[cs.iloc[x] for x in np.argsort(cs.iloc[user_id])[-k+1:].values if x != user_id]"
   ]
  },
  {
   "cell_type": "code",
   "execution_count": 36,
   "metadata": {},
   "outputs": [],
   "source": [
    "def pick_closest_existing_users(user_id, k):\n",
    "    index_of_closest_users = np.argsort(cs.iloc[user_id])[-k+1:-1]\n",
    "    closest_users = [cs.iloc[x] for x in index_of_closest_users if x != user_id]\n",
    "    return closest_users,index_of_closest_users"
   ]
  },
  {
   "cell_type": "code",
   "execution_count": 37,
   "metadata": {},
   "outputs": [],
   "source": [
    "closest_users, index_of_closest_users = pick_closest_existing_users(1, 10)"
   ]
  },
  {
   "cell_type": "code",
   "execution_count": 38,
   "metadata": {},
   "outputs": [
    {
     "data": {
      "text/plain": [
       "userId\n",
       "602     64\n",
       "603    204\n",
       "604     91\n",
       "605     59\n",
       "606    193\n",
       "607     48\n",
       "608    171\n",
       "609    188\n",
       "Name: 2, dtype: int64"
      ]
     },
     "execution_count": 38,
     "metadata": {},
     "output_type": "execute_result"
    }
   ],
   "source": [
    "index_of_closest_users"
   ]
  },
  {
   "cell_type": "markdown",
   "metadata": {},
   "source": [
    "### What should we do with what we've got back?"
   ]
  },
  {
   "cell_type": "code",
   "execution_count": 40,
   "metadata": {},
   "outputs": [
    {
     "data": {
      "text/plain": [
       "(610,)"
      ]
     },
     "execution_count": 40,
     "metadata": {},
     "output_type": "execute_result"
    }
   ],
   "source": [
    "#find the closest 1 user\n",
    "# find all the films theyve seen that we haven't\n",
    "# recommend the top rated n films from that subsection"
   ]
  },
  {
   "cell_type": "markdown",
   "metadata": {},
   "source": [
    "### Automatically\n",
    "* All in one line of code!"
   ]
  },
  {
   "cell_type": "code",
   "execution_count": 43,
   "metadata": {},
   "outputs": [
    {
     "data": {
      "text/plain": [
       "<matplotlib.axes._subplots.AxesSubplot at 0x7f9379327410>"
      ]
     },
     "execution_count": 43,
     "metadata": {},
     "output_type": "execute_result"
    },
    {
     "data": {
      "image/png": "[encoded data removed]",
      "text/plain": [
       "<Figure size 432x288 with 2 Axes>"
      ]
     },
     "metadata": {
      "needs_background": "light"
     },
     "output_type": "display_data"
    }
   ],
   "source": [
    "from sklearn.metrics.pairwise import cosine_similarity\n",
    "cosim = pd.DataFrame(cosine_similarity(umr))\n",
    "sns.heatmap(cosim)"
   ]
  },
  {
   "cell_type": "markdown",
   "metadata": {},
   "source": [
    "---"
   ]
  },
  {
   "cell_type": "markdown",
   "metadata": {},
   "source": [
    "### Advantages of Cosim\n",
    "\n",
    "* fast\n",
    "* works for huge datasets\n",
    "* works with other types of features (genres, demography)\n",
    "* item based or user based\n",
    "\n",
    "### Disadvantages of Cosim\n",
    "* Treats missing data as negative\n",
    "* Most data is typically missing!\n",
    "* SOLUTION: normalize the data by subtracting the mean\n",
    "* RATINGS MAGNITUDES aren't taken into consideration\n",
    "* relative rating which is captured\n",
    "* adjust for hte mood of hte user"
   ]
  },
  {
   "cell_type": "markdown",
   "metadata": {},
   "source": [
    "---"
   ]
  },
  {
   "cell_type": "code",
   "execution_count": null,
   "metadata": {},
   "outputs": [],
   "source": []
  },
  {
   "cell_type": "code",
   "execution_count": 46,
   "metadata": {},
   "outputs": [
    {
     "data": {
      "text/plain": [
       "array([[1.]])"
      ]
     },
     "execution_count": 46,
     "metadata": {},
     "output_type": "execute_result"
    }
   ],
   "source": [
    "vec1 = np.array([1,1]).reshape(1,-1)\n",
    "vec2 = np.array([4,4]).reshape(1,-1)\n",
    "cosine_similarity(vec1,vec2)"
   ]
  },
  {
   "cell_type": "markdown",
   "metadata": {},
   "source": [
    "### Challenge:\n",
    "* Handle a new user"
   ]
  },
  {
   "cell_type": "markdown",
   "metadata": {},
   "source": [
    "---"
   ]
  },
  {
   "cell_type": "markdown",
   "metadata": {},
   "source": [
    "### Euclidean Distance"
   ]
  },
  {
   "cell_type": "code",
   "execution_count": 49,
   "metadata": {},
   "outputs": [
    {
     "data": {
      "text/plain": [
       "(array([[4.24264069]]), array([[7.07106781]]))"
      ]
     },
     "execution_count": 49,
     "metadata": {},
     "output_type": "execute_result"
    }
   ],
   "source": [
    "vec1 = np.array([1,1]).reshape(1,-1)\n",
    "vec2 = np.array([-1,-1]).reshape(1,-1)\n",
    "vec3 = np.array([4,4]).reshape(1,-1)\n",
    "euclidean_distances(vec1,vec3), euclidean_distances(vec2,vec3)"
   ]
  },
  {
   "cell_type": "code",
   "execution_count": 51,
   "metadata": {},
   "outputs": [
    {
     "data": {
      "text/plain": [
       "array([[4.24264069]])"
      ]
     },
     "execution_count": 51,
     "metadata": {},
     "output_type": "execute_result"
    }
   ],
   "source": [
    "np.sqrt(np.dot(vec1,vec1.T) - 2 * np.dot(vec1, vec3.T) + np.dot(vec3,vec3.T))"
   ]
  },
  {
   "cell_type": "code",
   "execution_count": null,
   "metadata": {},
   "outputs": [],
   "source": [
    "euclid = pd.DataFrame(euclidean_distances(umr))\n",
    "sns.heatmap(euclid)"
   ]
  },
  {
   "cell_type": "markdown",
   "metadata": {},
   "source": [
    "---"
   ]
  },
  {
   "cell_type": "markdown",
   "metadata": {},
   "source": [
    "### Jaccard Similarity / Tanimoto Coefficient\n",
    "* Size of the intersection divided by the size of the union of the sample sets\n",
    "\n",
    "$ \\frac{| A \\cap B |}{|A \\cup B|}$\n",
    "\n",
    "* Pros: Quick and easy calcuation\n",
    "* Cons: Ignores the ratings of the set values"
   ]
  },
  {
   "cell_type": "code",
   "execution_count": null,
   "metadata": {},
   "outputs": [],
   "source": [
    "umr.fillna(0, inplace=True)\n",
    "jaccard_score(umr.iloc[0].round(), umr.iloc[1].round(), average='weighted')"
   ]
  },
  {
   "cell_type": "markdown",
   "metadata": {},
   "source": [
    "---"
   ]
  },
  {
   "cell_type": "markdown",
   "metadata": {},
   "source": [
    "### Other to try:\n",
    "* Clustering - KNN, Kmeans, etc"
   ]
  },
  {
   "cell_type": "code",
   "execution_count": null,
   "metadata": {},
   "outputs": [],
   "source": []
  }
 ],
 "metadata": {
  "kernelspec": {
   "display_name": "Python 3",
   "language": "python",
   "name": "python3"
  },
  "language_info": {
   "codemirror_mode": {
    "name": "ipython",
    "version": 3
   },
   "file_extension": ".py",
   "mimetype": "text/x-python",
   "name": "python",
   "nbconvert_exporter": "python",
   "pygments_lexer": "ipython3",
   "version": "3.7.6"
  }
 },
 "nbformat": 4,
 "nbformat_minor": 4
}
