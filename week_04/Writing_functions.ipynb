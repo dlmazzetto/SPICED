{
 "cells": [
  {
   "cell_type": "markdown",
   "metadata": {},
   "source": [
    "### Writing good python functions\n",
    "#### Learning Objecives:\n",
    "* Why functions?\n",
    "* How to write a good function\n",
    "* Bonus material"
   ]
  },
  {
   "cell_type": "markdown",
   "metadata": {},
   "source": [
    "---"
   ]
  },
  {
   "cell_type": "markdown",
   "metadata": {},
   "source": [
    "#### What is the point of a function? \n",
    "* A wrapper for behaviour\n",
    "* Variable scope\n",
    "* Abstraction\n",
    "* Reuse\n",
    "* More?"
   ]
  },
  {
   "cell_type": "markdown",
   "metadata": {},
   "source": [
    "---"
   ]
  },
  {
   "cell_type": "markdown",
   "metadata": {},
   "source": [
    "#### Good function practices:\n",
    "* Correct syntax!\n",
    "* Single purpose - 5 - 20 lines\n",
    "* Naming convention - python_case \n",
    "* The return statement\n",
    "* Function Parameters - mandatory or optional\n",
    "* Docstring - good practise"
   ]
  },
  {
   "cell_type": "markdown",
   "metadata": {},
   "source": [
    "---"
   ]
  },
  {
   "cell_type": "markdown",
   "metadata": {},
   "source": [
    "### Simple example - adding one to a number"
   ]
  },
  {
   "cell_type": "code",
   "execution_count": 113,
   "metadata": {},
   "outputs": [],
   "source": [
    "# naming convention - python case\n",
    "def bob_is_now_a_well_written_function(): \n",
    "    pass"
   ]
  },
  {
   "cell_type": "code",
   "execution_count": 116,
   "metadata": {},
   "outputs": [],
   "source": [
    "#single purpose function - YES!\n",
    "def add_one(number):\n",
    "    number += 1\n",
    "    return number"
   ]
  },
  {
   "cell_type": "code",
   "execution_count": 37,
   "metadata": {},
   "outputs": [
    {
     "data": {
      "text/plain": [
       "3"
      ]
     },
     "execution_count": 37,
     "metadata": {},
     "output_type": "execute_result"
    }
   ],
   "source": [
    "my_number = 3\n",
    "my_number"
   ]
  },
  {
   "cell_type": "code",
   "execution_count": 32,
   "metadata": {},
   "outputs": [],
   "source": [
    "# The return statement\n",
    "#function with no return statement - we need to define the global parameter explicitly\n",
    "def add_one(): \n",
    "    global my_number \n",
    "    my_number += 1"
   ]
  },
  {
   "cell_type": "code",
   "execution_count": null,
   "metadata": {},
   "outputs": [],
   "source": [
    "# Function parameters\n",
    "#this function has a mandatory parameter - try it and see!!\n",
    "def add_one(number): \n",
    "    number += 1\n",
    "    return number"
   ]
  },
  {
   "cell_type": "code",
   "execution_count": 117,
   "metadata": {},
   "outputs": [],
   "source": [
    "# Function parameters\n",
    "#this function has an optional parameter which can be overwritten \n",
    "def add_one(number=1): \n",
    "    number += 1\n",
    "    return number"
   ]
  },
  {
   "cell_type": "code",
   "execution_count": 123,
   "metadata": {},
   "outputs": [],
   "source": [
    "# Docstring - great first attempt!\n",
    "def add_one(number=1): \n",
    "    \"\"\"adds one to a number thats input = niumber must be number\"\"\"\n",
    "    number += 1\n",
    "    return number"
   ]
  },
  {
   "cell_type": "code",
   "execution_count": 56,
   "metadata": {},
   "outputs": [],
   "source": [
    "# Docstring \n",
    "# to make it a bit better, describe the function, describe the params, describe the return\n",
    "# Input / Output\n",
    "def this_adds_one_only_on_integers(number=1): \n",
    "    \"\"\"adds one to a number and reutrns that number\n",
    " \n",
    "        parameter: number - should be an integer\n",
    "        returns : number + 1- also an integer\n",
    "    \"\"\"\n",
    "    number += 1\n",
    "    return number"
   ]
  },
  {
   "cell_type": "code",
   "execution_count": 57,
   "metadata": {},
   "outputs": [],
   "source": [
    "#BONUS on variable namespace - we can update variables without local scope, but only in classes! otherwise use global, or return the var\n",
    "class Add:\n",
    "    \n",
    "    def __init__(self,number):\n",
    "        self.number = number\n",
    "        \n",
    "    def add_one(self):\n",
    "        self.number +=1\n",
    "a = Add(1)\n",
    "a.add_one()\n",
    "a.number"
   ]
  },
  {
   "cell_type": "markdown",
   "metadata": {},
   "source": [
    "### Testing!! Always test your functions"
   ]
  },
  {
   "cell_type": "code",
   "execution_count": null,
   "metadata": {},
   "outputs": [],
   "source": [
    "# edge case testing = when you test, test edge cases - negative, floats, strings, massive / tiny numbers"
   ]
  },
  {
   "cell_type": "code",
   "execution_count": 9,
   "metadata": {},
   "outputs": [],
   "source": [
    "a = 1\n",
    "assert add_one(a) == 2"
   ]
  },
  {
   "cell_type": "code",
   "execution_count": 11,
   "metadata": {},
   "outputs": [
    {
     "ename": "AssertionError",
     "evalue": "",
     "output_type": "error",
     "traceback": [
      "\u001b[0;31m---------------------------------------------------------------------------\u001b[0m",
      "\u001b[0;31mAssertionError\u001b[0m                            Traceback (most recent call last)",
      "\u001b[0;32m<ipython-input-11-d66502d96c50>\u001b[0m in \u001b[0;36m<module>\u001b[0;34m\u001b[0m\n\u001b[1;32m      1\u001b[0m \u001b[0mb\u001b[0m \u001b[0;34m=\u001b[0m \u001b[0;36m3\u001b[0m\u001b[0;34m\u001b[0m\u001b[0;34m\u001b[0m\u001b[0m\n\u001b[0;32m----> 2\u001b[0;31m \u001b[0;32massert\u001b[0m \u001b[0madd_one\u001b[0m\u001b[0;34m(\u001b[0m\u001b[0mb\u001b[0m\u001b[0;34m)\u001b[0m \u001b[0;34m==\u001b[0m \u001b[0;36m3\u001b[0m\u001b[0;34m\u001b[0m\u001b[0;34m\u001b[0m\u001b[0m\n\u001b[0m",
      "\u001b[0;31mAssertionError\u001b[0m: "
     ]
    }
   ],
   "source": [
    "b = 3\n",
    "assert add_one(b) == 3 #if there's a 'bug', you'll get an assertion error"
   ]
  },
  {
   "cell_type": "markdown",
   "metadata": {},
   "source": [
    "### CHALLENGE! Complex example - recreating the sequence generation problem from yesterday"
   ]
  },
  {
   "cell_type": "code",
   "execution_count": null,
   "metadata": {},
   "outputs": [],
   "source": [
    "from sklearn.datasets import fetch_20newsgroups\n",
    "import pandas as pd\n",
    "import numpy as np\n",
    "import re"
   ]
  },
  {
   "cell_type": "code",
   "execution_count": null,
   "metadata": {},
   "outputs": [],
   "source": [
    "# get some data\n",
    "data = fetch_20newsgroups(remove=['headers', 'footers'])\n",
    "text = data['data']\n",
    "# combine all articles into one long list of words\n",
    "all_data = ' '.join([' '.join(re.findall('(?u)\\\\b\\\\w\\\\w+\\\\b',article.lower())) for article in text]).split()\n",
    "# put them into a dataframe\n",
    "words = pd.DataFrame({'words':all_data})\n",
    "# create a pairing of words with their next word\n",
    "words['next_words'] = words['words'].shift(-1)\n",
    "# calculate the probabilities of these pairings occuring - a probability distribution over the corpus\n",
    "word_distribution = words.groupby('words')['next_words'].value_counts(normalize=True)\n",
    "# make a seed string\n",
    "seed = 'It'\n",
    "# add to the seed string by sampling from the probability distribution of words\n",
    "for i in range(20):\n",
    "     seed += ' ' + np.random.choice(word_distribution[seed.split()[-1]].index, p=word_distribution[seed.split()[-1]].values)"
   ]
  },
  {
   "cell_type": "markdown",
   "metadata": {},
   "source": [
    "---"
   ]
  },
  {
   "cell_type": "markdown",
   "metadata": {},
   "source": [
    "### Bonus!\n",
    "* Args and Kwargs\n",
    "* Lambda functions\n",
    "* `if __name__ == '__main__'`"
   ]
  },
  {
   "cell_type": "markdown",
   "metadata": {},
   "source": [
    "### Args and Kwargs"
   ]
  },
  {
   "cell_type": "code",
   "execution_count": 60,
   "metadata": {},
   "outputs": [],
   "source": [
    "def args(*args):\n",
    "    print(f'args is a {type(args)}\\n')\n",
    "    first = args[0]\n",
    "    print(f'first arg! : {first}\\n')\n",
    "    print('then the rest')\n",
    "    for rest in args[1:]:\n",
    "        print(rest)"
   ]
  },
  {
   "cell_type": "code",
   "execution_count": 69,
   "metadata": {},
   "outputs": [
    {
     "name": "stdout",
     "output_type": "stream",
     "text": [
      "args is a <class 'tuple'>\n",
      "\n",
      "first arg! : one\n",
      "\n",
      "then the rest\n",
      "two\n",
      "three\n",
      "4\n",
      "[1, 2, 3]\n"
     ]
    }
   ],
   "source": [
    "args('one', 'two', 'three', 4, [1,2,3]) #args are parameters without variable definition beforehand"
   ]
  },
  {
   "cell_type": "code",
   "execution_count": 68,
   "metadata": {},
   "outputs": [],
   "source": [
    "def kwargs(**kwargs):\n",
    "    print(f'kwargs is a {type(kwargs)}\\n')\n",
    "    keys = list(kwargs.keys())\n",
    "    first = kwargs[keys[0]]\n",
    "    print(f'first kwarg! : {first}\\n')\n",
    "    print('then the rest')\n",
    "    for rest in keys:\n",
    "        print(kwargs[rest])"
   ]
  },
  {
   "cell_type": "code",
   "execution_count": 70,
   "metadata": {},
   "outputs": [
    {
     "name": "stdout",
     "output_type": "stream",
     "text": [
      "kwargs is a <class 'dict'>\n",
      "\n",
      "first kwarg! : one\n",
      "\n",
      "then the rest\n",
      "one\n"
     ]
    }
   ],
   "source": [
    "kwargs(kw1='one')"
   ]
  },
  {
   "cell_type": "code",
   "execution_count": 72,
   "metadata": {},
   "outputs": [],
   "source": [
    "def args_kwargs(*args, **kwargs):\n",
    "    print('Args before kwargs OK!')"
   ]
  },
  {
   "cell_type": "code",
   "execution_count": 75,
   "metadata": {},
   "outputs": [
    {
     "name": "stdout",
     "output_type": "stream",
     "text": [
      "Args before kwargs OK!\n"
     ]
    }
   ],
   "source": [
    "args_kwargs('one','two',3, kw1=5, kw6=[1,2,3,4,5,6])"
   ]
  },
  {
   "cell_type": "code",
   "execution_count": 125,
   "metadata": {},
   "outputs": [
    {
     "ename": "SyntaxError",
     "evalue": "positional argument follows keyword argument (<ipython-input-125-cc2723a8ab00>, line 1)",
     "output_type": "error",
     "traceback": [
      "\u001b[0;36m  File \u001b[0;32m\"<ipython-input-125-cc2723a8ab00>\"\u001b[0;36m, line \u001b[0;32m1\u001b[0m\n\u001b[0;31m    args_kwargs('one','two',3, kw1=5, kw6=[1,2,3,4,5,6], 'ARGS AFTER KWARGS NOT OK!')\u001b[0m\n\u001b[0m                                                        ^\u001b[0m\n\u001b[0;31mSyntaxError\u001b[0m\u001b[0;31m:\u001b[0m positional argument follows keyword argument\n"
     ]
    }
   ],
   "source": [
    "args_kwargs('one','two',3, kw1=5, kw6=[1,2,3,4,5,6], 'ARGS AFTER KWARGS NOT OK!')"
   ]
  },
  {
   "cell_type": "code",
   "execution_count": null,
   "metadata": {},
   "outputs": [],
   "source": [
    "#### One use case for args, kwargs"
   ]
  },
  {
   "cell_type": "code",
   "execution_count": 85,
   "metadata": {},
   "outputs": [],
   "source": [
    "def people_in_my_family(*family, **parents):\n",
    "    for person in family:\n",
    "        print(f'I have {person} in my family')\n",
    "    for parent in list(parents.keys()):\n",
    "        print(f'I also have a parent : {parents[parent]}')"
   ]
  },
  {
   "cell_type": "markdown",
   "metadata": {},
   "source": [
    "#### Another use case for args, kwargs, more relevant for this week"
   ]
  },
  {
   "cell_type": "code",
   "execution_count": 98,
   "metadata": {},
   "outputs": [],
   "source": [
    "def scrape_some_artists(*artists):\n",
    "    return artists\n",
    "\n",
    "scrape_some_artists('emimen', 'evlis', 'aretha')"
   ]
  },
  {
   "cell_type": "markdown",
   "metadata": {},
   "source": [
    "### Lambda\n",
    "* A single line function with no name - 'anonymous functions'\n",
    "* Defined as `keyword input : output` - `lambda x : x`\n",
    "* Inputs can be sinlge or multiple parameters\n",
    "* You can pass lambda to a variable and invoke in the 'normal way' - `var = lambda_func`\n",
    "* Or you can invoke directly by wrapping lambda and its parameters in brackets - `(lambda_func)(params)`\n",
    "* Or you can use as a parameter for another function, e.g. `pd.Series.transform(lmabda_func)`"
   ]
  },
  {
   "cell_type": "markdown",
   "metadata": {},
   "source": [
    "#### Basic lambda"
   ]
  },
  {
   "cell_type": "code",
   "execution_count": 100,
   "metadata": {},
   "outputs": [
    {
     "data": {
      "text/plain": [
       "<function __main__.<lambda>(x)>"
      ]
     },
     "execution_count": 100,
     "metadata": {},
     "output_type": "execute_result"
    }
   ],
   "source": [
    "lambda x : x+1"
   ]
  },
  {
   "cell_type": "code",
   "execution_count": 101,
   "metadata": {},
   "outputs": [],
   "source": [
    "add_one = lambda x : x+1"
   ]
  },
  {
   "cell_type": "code",
   "execution_count": 102,
   "metadata": {},
   "outputs": [
    {
     "data": {
      "text/plain": [
       "2"
      ]
     },
     "execution_count": 102,
     "metadata": {},
     "output_type": "execute_result"
    }
   ],
   "source": [
    "add_one(1)"
   ]
  },
  {
   "cell_type": "markdown",
   "metadata": {},
   "source": [
    "#### Element-wise lambda"
   ]
  },
  {
   "cell_type": "code",
   "execution_count": 104,
   "metadata": {},
   "outputs": [],
   "source": [
    "import pandas as pd"
   ]
  },
  {
   "cell_type": "code",
   "execution_count": 106,
   "metadata": {},
   "outputs": [
    {
     "data": {
      "text/plain": [
       "0     0\n",
       "1     1\n",
       "2     4\n",
       "3     9\n",
       "4    16\n",
       "5    25\n",
       "6    36\n",
       "7    49\n",
       "8    64\n",
       "9    81\n",
       "dtype: int64"
      ]
     },
     "execution_count": 106,
     "metadata": {},
     "output_type": "execute_result"
    }
   ],
   "source": [
    "pd.Series(list(range(10))).apply(lambda x : x**2)"
   ]
  },
  {
   "cell_type": "markdown",
   "metadata": {},
   "source": [
    "### Chaining lambdas together"
   ]
  },
  {
   "cell_type": "code",
   "execution_count": 109,
   "metadata": {},
   "outputs": [],
   "source": [
    "add_one = lambda x : x+1"
   ]
  },
  {
   "cell_type": "code",
   "execution_count": 112,
   "metadata": {},
   "outputs": [
    {
     "data": {
      "text/plain": [
       "49"
      ]
     },
     "execution_count": 112,
     "metadata": {},
     "output_type": "execute_result"
    }
   ],
   "source": [
    "(lambda x : x**2)(add_one(6))"
   ]
  },
  {
   "cell_type": "markdown",
   "metadata": {},
   "source": [
    "---"
   ]
  },
  {
   "cell_type": "markdown",
   "metadata": {},
   "source": [
    "### `if __name__ == '__main__'`\n",
    "* Often used in a .py file\n",
    "* Imports, functions go above\n",
    "* Implementation logic goes below"
   ]
  },
  {
   "cell_type": "markdown",
   "metadata": {},
   "source": [
    "* [Click here for a good article](https://stackoverflow.com/questions/419163/what-does-if-name-main-do)\n",
    "* [And here's a video](https://www.youtube.com/watch?v=sugvnHA7ElY&vl=en)"
   ]
  },
  {
   "cell_type": "markdown",
   "metadata": {},
   "source": [
    "---"
   ]
  }
 ],
 "metadata": {
  "kernelspec": {
   "display_name": "Python 3",
   "language": "python",
   "name": "python3"
  },
  "language_info": {
   "codemirror_mode": {
    "name": "ipython",
    "version": 3
   },
   "file_extension": ".py",
   "mimetype": "text/x-python",
   "name": "python",
   "nbconvert_exporter": "python",
   "pygments_lexer": "ipython3",
   "version": "3.7.6"
  }
 },
 "nbformat": 4,
 "nbformat_minor": 4
}
