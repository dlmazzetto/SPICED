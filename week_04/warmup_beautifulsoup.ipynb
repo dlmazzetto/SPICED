{
 "cells": [
  {
   "cell_type": "code",
   "execution_count": 1,
   "metadata": {},
   "outputs": [
    {
     "name": "stdout",
     "output_type": "stream",
     "text": [
      "Requirement already satisfied: beautifulsoup4 in /anaconda3/lib/python3.7/site-packages (4.8.2)\n",
      "Requirement already satisfied: soupsieve>=1.2 in /anaconda3/lib/python3.7/site-packages (from beautifulsoup4) (1.9.4)\n",
      "Note: you may need to restart the kernel to use updated packages.\n"
     ]
    }
   ],
   "source": [
    "pip install beautifulsoup4"
   ]
  },
  {
   "cell_type": "code",
   "execution_count": 5,
   "metadata": {},
   "outputs": [],
   "source": [
    "# import Beautifulsoup from the bs4 library\n",
    "from bs4 import BeautifulSoup"
   ]
  },
  {
   "cell_type": "code",
   "execution_count": 25,
   "metadata": {},
   "outputs": [],
   "source": [
    "# We read in the html file as a string (e.g. via requests)\n",
    "html = \"\"\"<html><head></head><body>\n",
    "<h1>Hamlet</h1>\n",
    "<ul class=\"cast\" id=\"cast_id\"> \n",
    "  <li>Hamlet</li>\n",
    "  <li>Polonius</li>\n",
    "  <li>Ophelia</li>\n",
    "  <li>Claudius</li>\n",
    "</ul>\n",
    "<ul class=\"authors\">\n",
    "  <li>William Shakespeare</li>\n",
    "</ul>\n",
    "</body></html>\"\"\""
   ]
  },
  {
   "cell_type": "code",
   "execution_count": 26,
   "metadata": {},
   "outputs": [
    {
     "data": {
      "text/plain": [
       "str"
      ]
     },
     "execution_count": 26,
     "metadata": {},
     "output_type": "execute_result"
    }
   ],
   "source": [
    "type(html)"
   ]
  },
  {
   "cell_type": "code",
   "execution_count": 27,
   "metadata": {},
   "outputs": [],
   "source": [
    "# We create a beautifulsoup object\n",
    "soup = BeautifulSoup(html)"
   ]
  },
  {
   "cell_type": "code",
   "execution_count": 28,
   "metadata": {},
   "outputs": [
    {
     "name": "stdout",
     "output_type": "stream",
     "text": [
      "<html>\n",
      " <head>\n",
      " </head>\n",
      " <body>\n",
      "  <h1>\n",
      "   Hamlet\n",
      "  </h1>\n",
      "  <ul class=\"cast\" id=\"cast_id\">\n",
      "   <li>\n",
      "    Hamlet\n",
      "   </li>\n",
      "   <li>\n",
      "    Polonius\n",
      "   </li>\n",
      "   <li>\n",
      "    Ophelia\n",
      "   </li>\n",
      "   <li>\n",
      "    Claudius\n",
      "   </li>\n",
      "  </ul>\n",
      "  <ul class=\"authors\">\n",
      "   <li>\n",
      "    William Shakespeare\n",
      "   </li>\n",
      "  </ul>\n",
      " </body>\n",
      "</html>\n"
     ]
    }
   ],
   "source": [
    "print(soup.prettify())"
   ]
  },
  {
   "cell_type": "code",
   "execution_count": 31,
   "metadata": {},
   "outputs": [
    {
     "data": {
      "text/plain": [
       "['cast']"
      ]
     },
     "execution_count": 31,
     "metadata": {},
     "output_type": "execute_result"
    }
   ],
   "source": [
    "soup.find('ul').get('class', []) # .get('class', []) returns the value to the attribute class of the specified tag"
   ]
  },
  {
   "cell_type": "code",
   "execution_count": 38,
   "metadata": {},
   "outputs": [
    {
     "data": {
      "text/plain": [
       "'Hamlet'"
      ]
     },
     "execution_count": 38,
     "metadata": {},
     "output_type": "execute_result"
    }
   ],
   "source": [
    "#soup.find('ul').find_all('li')[0].get_text()\n",
    "#soup.find('ul').find_all('li')[0].text\n",
    "soup.find('ul').find('li').text"
   ]
  },
  {
   "cell_type": "code",
   "execution_count": 45,
   "metadata": {},
   "outputs": [
    {
     "name": "stdout",
     "output_type": "stream",
     "text": [
      "Hamlet, Polonius, Ophelia, Claudius, \n"
     ]
    }
   ],
   "source": [
    "# For each ul tag in the html document\n",
    "for ul in soup.find_all('ul'):\n",
    "    \n",
    "    # If the class of the ul tag is \"cast\"\n",
    "    if \"cast\" in ul.get('class', []):\n",
    "        \n",
    "        # for each li tag in the ul tag\n",
    "        for item in ul.find_all('li'):\n",
    "            \n",
    "            # print the text of the item\n",
    "            print(item.get_text(), end=\", \")\n",
    "        print()"
   ]
  },
  {
   "cell_type": "code",
   "execution_count": 40,
   "metadata": {},
   "outputs": [
    {
     "data": {
      "text/plain": [
       "'Hamlet'"
      ]
     },
     "execution_count": 40,
     "metadata": {},
     "output_type": "execute_result"
    }
   ],
   "source": [
    "# How would we extract the title of the play?\n",
    "soup.find('h1').text"
   ]
  },
  {
   "cell_type": "code",
   "execution_count": 44,
   "metadata": {},
   "outputs": [
    {
     "data": {
      "text/plain": [
       "'Hamlet'"
      ]
     },
     "execution_count": 44,
     "metadata": {},
     "output_type": "execute_result"
    }
   ],
   "source": [
    "soup.h1.text"
   ]
  },
  {
   "cell_type": "markdown",
   "metadata": {},
   "source": [
    "- what is the data type of the HTML document?\n",
    "\n",
    "It is a string\n",
    "\n",
    "- what does the find_all() function return?\n",
    "\n",
    "It returns a ResultSet (like a list) of tags, that we have to specify as the argument of find_all()\n",
    "\n",
    "- what does the argument of the find_all() function refer to?\n",
    "\n",
    "The tag we want to find\n",
    "\n",
    "- what does the argument of the get() function refer to?\n",
    "\n",
    "It refers to the attribute of which we want to return the value\n",
    "\n",
    "- what does the get_text() function extract?\n",
    "\n",
    "It extracts the text of a tag\n",
    "\n",
    "- how would you extract the title of the play?\n",
    "\n"
   ]
  }
 ],
 "metadata": {
  "kernelspec": {
   "display_name": "Python 3",
   "language": "python",
   "name": "python3"
  },
  "language_info": {
   "codemirror_mode": {
    "name": "ipython",
    "version": 3
   },
   "file_extension": ".py",
   "mimetype": "text/x-python",
   "name": "python",
   "nbconvert_exporter": "python",
   "pygments_lexer": "ipython3",
   "version": "3.7.3"
  }
 },
 "nbformat": 4,
 "nbformat_minor": 4
}
