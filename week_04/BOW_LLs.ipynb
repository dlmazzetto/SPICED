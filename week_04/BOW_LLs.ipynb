{
 "cells": [
  {
   "cell_type": "markdown",
   "metadata": {},
   "source": [
    "## Bag of Words: our first attempt at Language Representation"
   ]
  },
  {
   "cell_type": "markdown",
   "metadata": {},
   "source": [
    "### Objectives:\n",
    "#### Understand we are doing feature engineering!\n",
    "#### Understand what are Bag of Words vectors\n",
    "#### Transform your corpus into Count Vectors and Tf-idf Vectors"
   ]
  },
  {
   "cell_type": "markdown",
   "metadata": {},
   "source": [
    "---"
   ]
  },
  {
   "cell_type": "markdown",
   "metadata": {},
   "source": [
    "### We can say that language is a form of mapping\n",
    "#### * And mapping from ideas to symbols is common yet different across the world!\n",
    "#### * From Phonograms - phonetic languages, e.g:"
   ]
  },
  {
   "cell_type": "markdown",
   "metadata": {},
   "source": [
    "### `cat - /kat/`"
   ]
  },
  {
   "cell_type": "markdown",
   "metadata": {},
   "source": [
    "#### * To Logograms - logical languages, e.g:"
   ]
  },
  {
   "cell_type": "markdown",
   "metadata": {},
   "source": [
    "# `好`"
   ]
  },
  {
   "cell_type": "markdown",
   "metadata": {},
   "source": [
    "#### * To Others - facial / body language cue, emojis"
   ]
  },
  {
   "cell_type": "markdown",
   "metadata": {},
   "source": [
    "# 😋"
   ]
  },
  {
   "cell_type": "markdown",
   "metadata": {},
   "source": [
    "#### * Today we introduce one more type - Bag of Words\n",
    "#### * An approach to representing language differently from what we're 'used to'\n",
    "#### * Computers like this way of seeing language - denotational semantics\n",
    "#### * Its not the only way! We're learning more techniques tomorrow"
   ]
  },
  {
   "cell_type": "markdown",
   "metadata": {},
   "source": [
    "---"
   ]
  },
  {
   "cell_type": "markdown",
   "metadata": {},
   "source": [
    "### Steps"
   ]
  },
  {
   "cell_type": "markdown",
   "metadata": {},
   "source": [
    "#### Get a corpus (needs to be in list form)"
   ]
  },
  {
   "cell_type": "code",
   "execution_count": 1,
   "metadata": {},
   "outputs": [],
   "source": [
    "corpus = \"\"\"What you want\n",
    "Baby, I got it\n",
    "What you need\n",
    "Do you know I got it?\n",
    "All I'm askin'\n",
    "Is for a little respect when you get home (just a little bit)\n",
    "Hey baby (just a little bit) when you get home\n",
    "(Just a little bit) mister (just a little bit)\n",
    "I ain't gonna do you wrong while you're gone\n",
    "Ain't gonna do you wrong 'cause I don't wanna\n",
    "All I'm askin'\n",
    "Is for a little respect when you come home (just a little bit)\n",
    "Baby (just a little bit) when you get home (just a little bit)\n",
    "Yeah (just a little bit)\n",
    "I'm about to give you all of my money\n",
    "And all I'm askin' in return, honey\n",
    "Is to give me my propers\n",
    "When you get home (just a, just a, just a, just a)\n",
    "Yeah, baby (just a, just a, just a, just a)\n",
    "When you get home (just a little bit)\n",
    "Yeah (just a little bit)\"\"\""
   ]
  },
  {
   "cell_type": "code",
   "execution_count": null,
   "metadata": {},
   "outputs": [],
   "source": [
    "# our corpus needs TO BE IN LIST FORM\n",
    "corpus = [corpus]"
   ]
  },
  {
   "cell_type": "code",
   "execution_count": 9,
   "metadata": {},
   "outputs": [
    {
     "data": {
      "text/plain": [
       "['What you want',\n",
       " 'Baby, I got it',\n",
       " 'What you need',\n",
       " 'Do you know I got it?',\n",
       " \"All I'm askin'\",\n",
       " 'Is for a little respect when you get home (just a little bit)',\n",
       " 'Hey baby (just a little bit) when you get home',\n",
       " '(Just a little bit) mister (just a little bit)',\n",
       " \"I ain't gonna do you wrong while you're gone\",\n",
       " \"Ain't gonna do you wrong 'cause I don't wanna\",\n",
       " \"All I'm askin'\",\n",
       " 'Is for a little respect when you come home (just a little bit)',\n",
       " 'Baby (just a little bit) when you get home (just a little bit)',\n",
       " 'Yeah (just a little bit)',\n",
       " \"I'm about to give you all of my money\",\n",
       " \"And all I'm askin' in return, honey\",\n",
       " 'Is to give me my propers',\n",
       " 'When you get home (just a, just a, just a, just a)',\n",
       " 'Yeah, baby (just a, just a, just a, just a)',\n",
       " 'When you get home (just a little bit)',\n",
       " 'Yeah (just a little bit)']"
      ]
     },
     "execution_count": 9,
     "metadata": {},
     "output_type": "execute_result"
    }
   ],
   "source": [
    "#we could choose to split our songs line by line - not for this week tho!\n",
    "corpus[0].split('\\n')"
   ]
  },
  {
   "cell_type": "code",
   "execution_count": 22,
   "metadata": {},
   "outputs": [],
   "source": [
    "#lets add a new song\n",
    "new_song = \"\"\"Looking out on the morning rain\n",
    "I used to feel so uninspired\n",
    "And when I knew I had to face another day\n",
    "Lord, it made me feel so tired\n",
    "Before the day I met you, life was so unkind\n",
    "But you're the key to my peace of mind\n",
    "'Cause you make me feel\n",
    "You make me feel\n",
    "You make me feel like\n",
    "A natural woman (woman)\n",
    "When my soul was in the lost and found\n",
    "You came along to claim it\n",
    "I didn't know just what was wrong with me\n",
    "'Til your kiss helped me name it\n",
    "Now I'm no longer doubtful, of what I'm living for\n",
    "And if I make you happy I don't need to do more\"\"\""
   ]
  },
  {
   "cell_type": "code",
   "execution_count": 23,
   "metadata": {},
   "outputs": [],
   "source": [
    "corpus.append(new_song)"
   ]
  },
  {
   "cell_type": "markdown",
   "metadata": {},
   "source": [
    "---"
   ]
  },
  {
   "cell_type": "markdown",
   "metadata": {},
   "source": [
    "### Build a Count Vectorizer:\n",
    "* Fit\n",
    "* Then transform\n",
    "* Do it in one step if you can!!"
   ]
  },
  {
   "cell_type": "code",
   "execution_count": 2,
   "metadata": {},
   "outputs": [],
   "source": [
    "from sklearn.feature_extraction.text import CountVectorizer"
   ]
  },
  {
   "cell_type": "code",
   "execution_count": 25,
   "metadata": {},
   "outputs": [],
   "source": [
    "cv = CountVectorizer()"
   ]
  },
  {
   "cell_type": "code",
   "execution_count": 26,
   "metadata": {},
   "outputs": [
    {
     "data": {
      "text/plain": [
       "CountVectorizer(analyzer='word', binary=False, decode_error='strict',\n",
       "                dtype=<class 'numpy.int64'>, encoding='utf-8', input='content',\n",
       "                lowercase=True, max_df=1.0, max_features=None, min_df=1,\n",
       "                ngram_range=(1, 1), preprocessor=None, stop_words=None,\n",
       "                strip_accents=None, token_pattern='(?u)\\\\b\\\\w\\\\w+\\\\b',\n",
       "                tokenizer=None, vocabulary=None)"
      ]
     },
     "execution_count": 26,
     "metadata": {},
     "output_type": "execute_result"
    }
   ],
   "source": [
    "cv.fit(corpus)"
   ]
  },
  {
   "cell_type": "code",
   "execution_count": 27,
   "metadata": {},
   "outputs": [],
   "source": [
    "vec_corpus = cv.transform(corpus)"
   ]
  },
  {
   "cell_type": "code",
   "execution_count": 28,
   "metadata": {},
   "outputs": [
    {
     "data": {
      "text/plain": [
       "<2x97 sparse matrix of type '<class 'numpy.int64'>'\n",
       "\twith 116 stored elements in Compressed Sparse Row format>"
      ]
     },
     "execution_count": 28,
     "metadata": {},
     "output_type": "execute_result"
    }
   ],
   "source": [
    "vec_corpus"
   ]
  },
  {
   "cell_type": "code",
   "execution_count": 29,
   "metadata": {},
   "outputs": [
    {
     "data": {
      "text/plain": [
       "matrix([[ 1,  2,  4,  0,  1,  0,  3,  4,  0, 10,  0,  0,  1,  0,  1,  0,\n",
       "          0,  3,  1,  0,  0,  0,  2,  0,  5,  2,  1,  2,  2,  0,  0,  0,\n",
       "          1,  6,  1,  0,  1,  3,  2, 18,  0,  0,  0,  1,  0,  0, 12,  0,\n",
       "          0,  0,  0,  0,  0,  0,  1,  0,  0,  1,  1,  0,  0,  2,  0,  0,\n",
       "          1,  0,  0,  1,  0,  0,  0,  1,  0,  1,  2,  1,  0,  0,  0,  0,\n",
       "          0,  2,  0,  0,  0,  1,  1,  0,  2,  6,  1,  0,  0,  2,  3, 13,\n",
       "          0],\n",
       "        [ 0,  0,  0,  1,  3,  1,  0,  0,  1,  0,  1,  1,  1,  1,  0,  2,\n",
       "          1,  1,  1,  1,  1,  5,  1,  1,  0,  0,  0,  0,  0,  1,  1,  1,\n",
       "          0,  0,  0,  1,  1,  0,  3,  1,  1,  1,  1,  1,  1,  1,  0,  1,\n",
       "          1,  1,  1,  1,  1,  4,  6,  1,  1,  0,  0,  1,  1,  2,  1,  1,\n",
       "          1,  1,  1,  2,  1,  1,  1,  0,  1,  1,  0,  0,  3,  1,  4,  1,\n",
       "          1,  5,  1,  1,  1,  0,  0,  3,  2,  2,  0,  1,  2,  1,  0,  7,\n",
       "          1]])"
      ]
     },
     "execution_count": 29,
     "metadata": {},
     "output_type": "execute_result"
    }
   ],
   "source": [
    "vec_corpus.todense()"
   ]
  },
  {
   "cell_type": "markdown",
   "metadata": {},
   "source": [
    "#### Sparse Matrix\n",
    "Most of our matrix consists of zeroes. A Sparse Matrix only stores the non-zero values to save memory. We need to convert it into a **dense** matrix to view it effectively. Pandas helps as well"
   ]
  },
  {
   "cell_type": "code",
   "execution_count": 17,
   "metadata": {},
   "outputs": [],
   "source": [
    "import pandas as pd"
   ]
  },
  {
   "cell_type": "code",
   "execution_count": 32,
   "metadata": {},
   "outputs": [
    {
     "data": {
      "text/html": [
       "<div>\n",
       "<style scoped>\n",
       "    .dataframe tbody tr th:only-of-type {\n",
       "        vertical-align: middle;\n",
       "    }\n",
       "\n",
       "    .dataframe tbody tr th {\n",
       "        vertical-align: top;\n",
       "    }\n",
       "\n",
       "    .dataframe thead th {\n",
       "        text-align: right;\n",
       "    }\n",
       "</style>\n",
       "<table border=\"1\" class=\"dataframe\">\n",
       "  <thead>\n",
       "    <tr style=\"text-align: right;\">\n",
       "      <th></th>\n",
       "      <th>about</th>\n",
       "      <th>ain</th>\n",
       "      <th>all</th>\n",
       "      <th>along</th>\n",
       "      <th>and</th>\n",
       "      <th>another</th>\n",
       "      <th>askin</th>\n",
       "      <th>baby</th>\n",
       "      <th>before</th>\n",
       "      <th>bit</th>\n",
       "      <th>...</th>\n",
       "      <th>was</th>\n",
       "      <th>what</th>\n",
       "      <th>when</th>\n",
       "      <th>while</th>\n",
       "      <th>with</th>\n",
       "      <th>woman</th>\n",
       "      <th>wrong</th>\n",
       "      <th>yeah</th>\n",
       "      <th>you</th>\n",
       "      <th>your</th>\n",
       "    </tr>\n",
       "  </thead>\n",
       "  <tbody>\n",
       "    <tr>\n",
       "      <th>Respect</th>\n",
       "      <td>1</td>\n",
       "      <td>2</td>\n",
       "      <td>4</td>\n",
       "      <td>0</td>\n",
       "      <td>1</td>\n",
       "      <td>0</td>\n",
       "      <td>3</td>\n",
       "      <td>4</td>\n",
       "      <td>0</td>\n",
       "      <td>10</td>\n",
       "      <td>...</td>\n",
       "      <td>0</td>\n",
       "      <td>2</td>\n",
       "      <td>6</td>\n",
       "      <td>1</td>\n",
       "      <td>0</td>\n",
       "      <td>0</td>\n",
       "      <td>2</td>\n",
       "      <td>3</td>\n",
       "      <td>13</td>\n",
       "      <td>0</td>\n",
       "    </tr>\n",
       "    <tr>\n",
       "      <th>Natural</th>\n",
       "      <td>0</td>\n",
       "      <td>0</td>\n",
       "      <td>0</td>\n",
       "      <td>1</td>\n",
       "      <td>3</td>\n",
       "      <td>1</td>\n",
       "      <td>0</td>\n",
       "      <td>0</td>\n",
       "      <td>1</td>\n",
       "      <td>0</td>\n",
       "      <td>...</td>\n",
       "      <td>3</td>\n",
       "      <td>2</td>\n",
       "      <td>2</td>\n",
       "      <td>0</td>\n",
       "      <td>1</td>\n",
       "      <td>2</td>\n",
       "      <td>1</td>\n",
       "      <td>0</td>\n",
       "      <td>7</td>\n",
       "      <td>1</td>\n",
       "    </tr>\n",
       "  </tbody>\n",
       "</table>\n",
       "<p>2 rows × 97 columns</p>\n",
       "</div>"
      ],
      "text/plain": [
       "         about  ain  all  along  and  another  askin  baby  before  bit  ...  \\\n",
       "Respect      1    2    4      0    1        0      3     4       0   10  ...   \n",
       "Natural      0    0    0      1    3        1      0     0       1    0  ...   \n",
       "\n",
       "         was  what  when  while  with  woman  wrong  yeah  you  your  \n",
       "Respect    0     2     6      1     0      0      2     3   13     0  \n",
       "Natural    3     2     2      0     1      2      1     0    7     1  \n",
       "\n",
       "[2 rows x 97 columns]"
      ]
     },
     "execution_count": 32,
     "metadata": {},
     "output_type": "execute_result"
    }
   ],
   "source": [
    "# Just a word counter for each song - we call this Term Frequency, where term = token = word\n",
    "df = pd.DataFrame(vec_corpus.todense(), columns=cv.get_feature_names(), index=['Respect','Natural'])\n",
    "df"
   ]
  },
  {
   "cell_type": "markdown",
   "metadata": {},
   "source": [
    "## Pros and cons of Count Vectors???"
   ]
  },
  {
   "cell_type": "markdown",
   "metadata": {},
   "source": [
    "## Cons\n",
    "* Consistent spelling is a requirement\n",
    "* Using a simple tokenization technique - only split by whte space, punctuation, tokens of n+1 words are ignored\n",
    "* Case sensitive\n",
    "* Different branches of the same root word look like different words\n",
    "* Basically - MORE COLUMNS = HARDER TO FIND PATTERNS - curse of dimensionality\n",
    "* Semantic similarity\n",
    "* Context / grammatical context\n",
    "* Word order isn't captured"
   ]
  },
  {
   "cell_type": "markdown",
   "metadata": {},
   "source": [
    "## Pros\n",
    "* Fast way of grasping your vocab\n",
    "* Fast way of counting occurances of words\n",
    "* Good first method of predicting language patterns\n",
    "* Easy to understand\n",
    "* Despite all the cons, we can still get good results on ML using this preprocessing technique"
   ]
  },
  {
   "cell_type": "markdown",
   "metadata": {},
   "source": [
    "---"
   ]
  },
  {
   "cell_type": "markdown",
   "metadata": {},
   "source": [
    "## Uniqueness-scaled BOW - Tf-Idf Vectors:\n",
    "\n",
    "* TF - Term Frequency (count of a word w in doc d)\n",
    "* IDF - Inverse Document Frequency\n",
    "\n",
    "$TFIDF = TF(w,d) * IDF(w)$\n",
    "\n",
    "$IDF(w) = log(\\frac{1+ no.documents}{1 + no.documents containing word w})+1$\n",
    "\n",
    "##### The steps for calculating TFIDF are:\n",
    "* For each vector:\n",
    "    * Calculate the term frequency for each term in the vector\n",
    "    * Calculate the inverse doc frequency for each term in the vector\n",
    "    * Multiply the two for each term in the vector\n",
    "* Then normalise each vector by the Euclidean norm (numpy.linalg.norm)\n",
    "    * $norm = \\frac{v}{||v||^2}$"
   ]
  },
  {
   "cell_type": "markdown",
   "metadata": {},
   "source": [
    "Check out the math behind TFIDF:\n",
    "* https://scikit-learn.org/stable/modules/generated/sklearn.feature_extraction.text.TfidfTransformer.html#sklearn.feature_extraction.text.TfidfTransformer"
   ]
  },
  {
   "cell_type": "code",
   "execution_count": null,
   "metadata": {},
   "outputs": [],
   "source": [
    "# The important bit is the no.of documents / no.of documents containing w! lets look at this for a couple of examples"
   ]
  },
  {
   "cell_type": "code",
   "execution_count": 57,
   "metadata": {},
   "outputs": [
    {
     "data": {
      "text/plain": [
       "Respect    2\n",
       "Natural    0\n",
       "Name: respect, dtype: int64"
      ]
     },
     "execution_count": 57,
     "metadata": {},
     "output_type": "execute_result"
    }
   ],
   "source": [
    "df['respect'] #ratio = 2/1 = 2, MORE UNIQUE"
   ]
  },
  {
   "cell_type": "code",
   "execution_count": 58,
   "metadata": {},
   "outputs": [
    {
     "data": {
      "text/plain": [
       "Respect    2\n",
       "Natural    2\n",
       "Name: what, dtype: int64"
      ]
     },
     "execution_count": 58,
     "metadata": {},
     "output_type": "execute_result"
    }
   ],
   "source": [
    "df['what'] #ratio = 2/2 = 1, LESS UNIQUE"
   ]
  },
  {
   "cell_type": "code",
   "execution_count": 40,
   "metadata": {},
   "outputs": [],
   "source": [
    "from sklearn.feature_extraction.text import TfidfTransformer"
   ]
  },
  {
   "cell_type": "code",
   "execution_count": 42,
   "metadata": {},
   "outputs": [],
   "source": [
    "tf = TfidfTransformer()"
   ]
  },
  {
   "cell_type": "code",
   "execution_count": 43,
   "metadata": {},
   "outputs": [
    {
     "data": {
      "text/plain": [
       "TfidfTransformer(norm='l2', smooth_idf=True, sublinear_tf=False, use_idf=True)"
      ]
     },
     "execution_count": 43,
     "metadata": {},
     "output_type": "execute_result"
    }
   ],
   "source": [
    "tf.fit(vec_corpus)"
   ]
  },
  {
   "cell_type": "code",
   "execution_count": 44,
   "metadata": {},
   "outputs": [],
   "source": [
    "tf_corpus = tf.transform(vec_corpus)"
   ]
  },
  {
   "cell_type": "code",
   "execution_count": 45,
   "metadata": {},
   "outputs": [],
   "source": [
    "df2 = pd.DataFrame(tf_corpus.todense(), columns=cv.get_feature_names(), index=['Respect', 'Natural'])"
   ]
  },
  {
   "cell_type": "code",
   "execution_count": 46,
   "metadata": {},
   "outputs": [
    {
     "data": {
      "text/html": [
       "<div>\n",
       "<style scoped>\n",
       "    .dataframe tbody tr th:only-of-type {\n",
       "        vertical-align: middle;\n",
       "    }\n",
       "\n",
       "    .dataframe tbody tr th {\n",
       "        vertical-align: top;\n",
       "    }\n",
       "\n",
       "    .dataframe thead th {\n",
       "        text-align: right;\n",
       "    }\n",
       "</style>\n",
       "<table border=\"1\" class=\"dataframe\">\n",
       "  <thead>\n",
       "    <tr style=\"text-align: right;\">\n",
       "      <th></th>\n",
       "      <th>about</th>\n",
       "      <th>ain</th>\n",
       "      <th>all</th>\n",
       "      <th>along</th>\n",
       "      <th>and</th>\n",
       "      <th>another</th>\n",
       "      <th>askin</th>\n",
       "      <th>baby</th>\n",
       "      <th>before</th>\n",
       "      <th>bit</th>\n",
       "      <th>...</th>\n",
       "      <th>was</th>\n",
       "      <th>what</th>\n",
       "      <th>when</th>\n",
       "      <th>while</th>\n",
       "      <th>with</th>\n",
       "      <th>woman</th>\n",
       "      <th>wrong</th>\n",
       "      <th>yeah</th>\n",
       "      <th>you</th>\n",
       "      <th>your</th>\n",
       "    </tr>\n",
       "  </thead>\n",
       "  <tbody>\n",
       "    <tr>\n",
       "      <th>Respect</th>\n",
       "      <td>1</td>\n",
       "      <td>2</td>\n",
       "      <td>4</td>\n",
       "      <td>0</td>\n",
       "      <td>1</td>\n",
       "      <td>0</td>\n",
       "      <td>3</td>\n",
       "      <td>4</td>\n",
       "      <td>0</td>\n",
       "      <td>10</td>\n",
       "      <td>...</td>\n",
       "      <td>0</td>\n",
       "      <td>2</td>\n",
       "      <td>6</td>\n",
       "      <td>1</td>\n",
       "      <td>0</td>\n",
       "      <td>0</td>\n",
       "      <td>2</td>\n",
       "      <td>3</td>\n",
       "      <td>13</td>\n",
       "      <td>0</td>\n",
       "    </tr>\n",
       "    <tr>\n",
       "      <th>Natural</th>\n",
       "      <td>0</td>\n",
       "      <td>0</td>\n",
       "      <td>0</td>\n",
       "      <td>1</td>\n",
       "      <td>3</td>\n",
       "      <td>1</td>\n",
       "      <td>0</td>\n",
       "      <td>0</td>\n",
       "      <td>1</td>\n",
       "      <td>0</td>\n",
       "      <td>...</td>\n",
       "      <td>3</td>\n",
       "      <td>2</td>\n",
       "      <td>2</td>\n",
       "      <td>0</td>\n",
       "      <td>1</td>\n",
       "      <td>2</td>\n",
       "      <td>1</td>\n",
       "      <td>0</td>\n",
       "      <td>7</td>\n",
       "      <td>1</td>\n",
       "    </tr>\n",
       "  </tbody>\n",
       "</table>\n",
       "<p>2 rows × 97 columns</p>\n",
       "</div>"
      ],
      "text/plain": [
       "         about  ain  all  along  and  another  askin  baby  before  bit  ...  \\\n",
       "Respect      1    2    4      0    1        0      3     4       0   10  ...   \n",
       "Natural      0    0    0      1    3        1      0     0       1    0  ...   \n",
       "\n",
       "         was  what  when  while  with  woman  wrong  yeah  you  your  \n",
       "Respect    0     2     6      1     0      0      2     3   13     0  \n",
       "Natural    3     2     2      0     1      2      1     0    7     1  \n",
       "\n",
       "[2 rows x 97 columns]"
      ]
     },
     "execution_count": 46,
     "metadata": {},
     "output_type": "execute_result"
    }
   ],
   "source": [
    "# count vector results\n",
    "df"
   ]
  },
  {
   "cell_type": "code",
   "execution_count": 47,
   "metadata": {},
   "outputs": [
    {
     "data": {
      "text/html": [
       "<div>\n",
       "<style scoped>\n",
       "    .dataframe tbody tr th:only-of-type {\n",
       "        vertical-align: middle;\n",
       "    }\n",
       "\n",
       "    .dataframe tbody tr th {\n",
       "        vertical-align: top;\n",
       "    }\n",
       "\n",
       "    .dataframe thead th {\n",
       "        text-align: right;\n",
       "    }\n",
       "</style>\n",
       "<table border=\"1\" class=\"dataframe\">\n",
       "  <thead>\n",
       "    <tr style=\"text-align: right;\">\n",
       "      <th></th>\n",
       "      <th>about</th>\n",
       "      <th>ain</th>\n",
       "      <th>all</th>\n",
       "      <th>along</th>\n",
       "      <th>and</th>\n",
       "      <th>another</th>\n",
       "      <th>askin</th>\n",
       "      <th>baby</th>\n",
       "      <th>before</th>\n",
       "      <th>bit</th>\n",
       "      <th>...</th>\n",
       "      <th>was</th>\n",
       "      <th>what</th>\n",
       "      <th>when</th>\n",
       "      <th>while</th>\n",
       "      <th>with</th>\n",
       "      <th>woman</th>\n",
       "      <th>wrong</th>\n",
       "      <th>yeah</th>\n",
       "      <th>you</th>\n",
       "      <th>your</th>\n",
       "    </tr>\n",
       "  </thead>\n",
       "  <tbody>\n",
       "    <tr>\n",
       "      <th>Respect</th>\n",
       "      <td>0.038206</td>\n",
       "      <td>0.076412</td>\n",
       "      <td>0.152825</td>\n",
       "      <td>0.00000</td>\n",
       "      <td>0.027184</td>\n",
       "      <td>0.00000</td>\n",
       "      <td>0.114619</td>\n",
       "      <td>0.152825</td>\n",
       "      <td>0.00000</td>\n",
       "      <td>0.382062</td>\n",
       "      <td>...</td>\n",
       "      <td>0.000000</td>\n",
       "      <td>0.054368</td>\n",
       "      <td>0.163104</td>\n",
       "      <td>0.038206</td>\n",
       "      <td>0.00000</td>\n",
       "      <td>0.00000</td>\n",
       "      <td>0.054368</td>\n",
       "      <td>0.114619</td>\n",
       "      <td>0.353392</td>\n",
       "      <td>0.00000</td>\n",
       "    </tr>\n",
       "    <tr>\n",
       "      <th>Natural</th>\n",
       "      <td>0.000000</td>\n",
       "      <td>0.000000</td>\n",
       "      <td>0.000000</td>\n",
       "      <td>0.06968</td>\n",
       "      <td>0.148733</td>\n",
       "      <td>0.06968</td>\n",
       "      <td>0.000000</td>\n",
       "      <td>0.000000</td>\n",
       "      <td>0.06968</td>\n",
       "      <td>0.000000</td>\n",
       "      <td>...</td>\n",
       "      <td>0.209039</td>\n",
       "      <td>0.099156</td>\n",
       "      <td>0.099156</td>\n",
       "      <td>0.000000</td>\n",
       "      <td>0.06968</td>\n",
       "      <td>0.13936</td>\n",
       "      <td>0.049578</td>\n",
       "      <td>0.000000</td>\n",
       "      <td>0.347044</td>\n",
       "      <td>0.06968</td>\n",
       "    </tr>\n",
       "  </tbody>\n",
       "</table>\n",
       "<p>2 rows × 97 columns</p>\n",
       "</div>"
      ],
      "text/plain": [
       "            about       ain       all    along       and  another     askin  \\\n",
       "Respect  0.038206  0.076412  0.152825  0.00000  0.027184  0.00000  0.114619   \n",
       "Natural  0.000000  0.000000  0.000000  0.06968  0.148733  0.06968  0.000000   \n",
       "\n",
       "             baby   before       bit  ...       was      what      when  \\\n",
       "Respect  0.152825  0.00000  0.382062  ...  0.000000  0.054368  0.163104   \n",
       "Natural  0.000000  0.06968  0.000000  ...  0.209039  0.099156  0.099156   \n",
       "\n",
       "            while     with    woman     wrong      yeah       you     your  \n",
       "Respect  0.038206  0.00000  0.00000  0.054368  0.114619  0.353392  0.00000  \n",
       "Natural  0.000000  0.06968  0.13936  0.049578  0.000000  0.347044  0.06968  \n",
       "\n",
       "[2 rows x 97 columns]"
      ]
     },
     "execution_count": 47,
     "metadata": {},
     "output_type": "execute_result"
    }
   ],
   "source": [
    "#tfidf vector results\n",
    "df2"
   ]
  },
  {
   "cell_type": "markdown",
   "metadata": {},
   "source": [
    "### whats the effect of tfidf? lets look"
   ]
  },
  {
   "cell_type": "code",
   "execution_count": 50,
   "metadata": {},
   "outputs": [
    {
     "data": {
      "text/plain": [
       "Respect    2\n",
       "Natural    0\n",
       "Name: respect, dtype: int64"
      ]
     },
     "execution_count": 50,
     "metadata": {},
     "output_type": "execute_result"
    }
   ],
   "source": [
    "df['respect']"
   ]
  },
  {
   "cell_type": "code",
   "execution_count": 51,
   "metadata": {},
   "outputs": [
    {
     "data": {
      "text/plain": [
       "Respect    0.076412\n",
       "Natural    0.000000\n",
       "Name: respect, dtype: float64"
      ]
     },
     "execution_count": 51,
     "metadata": {},
     "output_type": "execute_result"
    }
   ],
   "source": [
    "df2['respect']"
   ]
  },
  {
   "cell_type": "code",
   "execution_count": 52,
   "metadata": {},
   "outputs": [
    {
     "data": {
      "text/plain": [
       "Respect    2\n",
       "Natural    2\n",
       "Name: what, dtype: int64"
      ]
     },
     "execution_count": 52,
     "metadata": {},
     "output_type": "execute_result"
    }
   ],
   "source": [
    "df['what']"
   ]
  },
  {
   "cell_type": "code",
   "execution_count": 53,
   "metadata": {},
   "outputs": [
    {
     "data": {
      "text/plain": [
       "Respect    0.054368\n",
       "Natural    0.099156\n",
       "Name: what, dtype: float64"
      ]
     },
     "execution_count": 53,
     "metadata": {},
     "output_type": "execute_result"
    }
   ],
   "source": [
    "df2['what']"
   ]
  },
  {
   "cell_type": "code",
   "execution_count": 55,
   "metadata": {},
   "outputs": [
    {
     "data": {
      "text/plain": [
       "Respect    133\n",
       "Natural    110\n",
       "dtype: int64"
      ]
     },
     "execution_count": 55,
     "metadata": {},
     "output_type": "execute_result"
    }
   ],
   "source": [
    "df.sum(axis=1)"
   ]
  },
  {
   "cell_type": "markdown",
   "metadata": {},
   "source": [
    "## Conclusions!!!\n",
    "#### the word respect has more uniquess than the word what, so a higher score\n",
    "#### the song natural has fewer words than the song respect, so each word occcurance is more important"
   ]
  },
  {
   "cell_type": "markdown",
   "metadata": {},
   "source": [
    "---"
   ]
  },
  {
   "cell_type": "markdown",
   "metadata": {},
   "source": [
    "## To make your code shorter, you could use the TfidfVectorizer\n",
    "* This does both steps (count vectorizer and tfidfTransfomer) in one. The reason I show both in the tutorial is because its easier to understand word vectors this way\n",
    "\n",
    "`from sklearn.feature_extraction.text import TfidfVectorizer`"
   ]
  }
 ],
 "metadata": {
  "kernelspec": {
   "display_name": "Python 3",
   "language": "python",
   "name": "python3"
  },
  "language_info": {
   "codemirror_mode": {
    "name": "ipython",
    "version": 3
   },
   "file_extension": ".py",
   "mimetype": "text/x-python",
   "name": "python",
   "nbconvert_exporter": "python",
   "pygments_lexer": "ipython3",
   "version": "3.7.3"
  },
  "varInspector": {
   "cols": {
    "lenName": 16,
    "lenType": 16,
    "lenVar": 40
   },
   "kernels_config": {
    "python": {
     "delete_cmd_postfix": "",
     "delete_cmd_prefix": "del ",
     "library": "var_list.py",
     "varRefreshCmd": "print(var_dic_list())"
    },
    "r": {
     "delete_cmd_postfix": ") ",
     "delete_cmd_prefix": "rm(",
     "library": "var_list.r",
     "varRefreshCmd": "cat(var_dic_list()) "
    }
   },
   "types_to_exclude": [
    "module",
    "function",
    "builtin_function_or_method",
    "instance",
    "_Feature"
   ],
   "window_display": false
  }
 },
 "nbformat": 4,
 "nbformat_minor": 4
}
