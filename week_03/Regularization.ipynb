{
 "cells": [
  {
   "cell_type": "code",
   "execution_count": 1,
   "metadata": {},
   "outputs": [],
   "source": [
    "import numpy as np\n",
    "import matplotlib.pyplot as plt\n",
    "\n",
    "plt.rcParams['figure.figsize'] = (12,6)"
   ]
  },
  {
   "cell_type": "code",
   "execution_count": 25,
   "metadata": {},
   "outputs": [
    {
     "data": {
      "text/plain": [
       "array([ 0.        ,  1.42857143,  2.85714286,  4.28571429,  5.71428571,\n",
       "        7.14285714,  8.57142857, 10.        , 11.42857143, 12.85714286,\n",
       "       14.28571429, 15.71428571, 17.14285714, 18.57142857, 20.        ])"
      ]
     },
     "execution_count": 25,
     "metadata": {},
     "output_type": "execute_result"
    }
   ],
   "source": [
    "np.linspace(0, 20, 15)"
   ]
  },
  {
   "cell_type": "code",
   "execution_count": 26,
   "metadata": {},
   "outputs": [
    {
     "data": {
      "text/plain": [
       "array([-11.24575058, -13.11376526,  20.57066094,   3.26808992,\n",
       "         0.32535454,  65.02726109,  38.34161685,  51.35056409,\n",
       "        28.64789342,  53.3980598 ,  73.64702322,  55.55155702,\n",
       "        93.22824608,  80.84436906,  94.166125  ])"
      ]
     },
     "execution_count": 26,
     "metadata": {},
     "output_type": "execute_result"
    }
   ],
   "source": [
    "5 * x + np.random.normal(0.0, 20.0, 15)"
   ]
  },
  {
   "cell_type": "code",
   "execution_count": 27,
   "metadata": {},
   "outputs": [
    {
     "data": {
      "text/plain": [
       "array([[ 0.        ],\n",
       "       [ 1.42857143],\n",
       "       [ 2.85714286],\n",
       "       [ 4.28571429],\n",
       "       [ 5.71428571],\n",
       "       [ 7.14285714],\n",
       "       [ 8.57142857],\n",
       "       [10.        ],\n",
       "       [11.42857143],\n",
       "       [12.85714286],\n",
       "       [14.28571429],\n",
       "       [15.71428571],\n",
       "       [17.14285714],\n",
       "       [18.57142857],\n",
       "       [20.        ]])"
      ]
     },
     "execution_count": 27,
     "metadata": {},
     "output_type": "execute_result"
    }
   ],
   "source": [
    "x.reshape(15, 1)"
   ]
  },
  {
   "cell_type": "code",
   "execution_count": 28,
   "metadata": {},
   "outputs": [],
   "source": [
    "np.random.seed(42)\n",
    "\n",
    "# Creates 15 x values from 0 to 20\n",
    "x = np.linspace(0, 20, 15)\n",
    "\n",
    "# Data generating process for y; The true relationship between x and y\n",
    "# There is a linear relationship between the x and y\n",
    "y = 5 * x + np.random.normal(0.0, 20.0, 15)\n",
    "\n",
    "# Get X in the right shape in order to be used in an sklearn model\n",
    "X = x.reshape(15, 1)"
   ]
  },
  {
   "cell_type": "code",
   "execution_count": 29,
   "metadata": {},
   "outputs": [
    {
     "data": {
      "text/plain": [
       "<matplotlib.collections.PathCollection at 0x11e676978>"
      ]
     },
     "execution_count": 29,
     "metadata": {},
     "output_type": "execute_result"
    },
    {
     "data": {
      "image/png": "[encoded data removed]",
      "text/plain": [
       "<Figure size 864x432 with 1 Axes>"
      ]
     },
     "metadata": {
      "needs_background": "light"
     },
     "output_type": "display_data"
    }
   ],
   "source": [
    "# Plot the data\n",
    "plt.scatter(X, y)"
   ]
  },
  {
   "cell_type": "code",
   "execution_count": 30,
   "metadata": {},
   "outputs": [],
   "source": [
    "# What is our X and what is our y, and how could we fit a model?\n",
    "from sklearn.linear_model import LinearRegression"
   ]
  },
  {
   "cell_type": "code",
   "execution_count": 38,
   "metadata": {},
   "outputs": [
    {
     "data": {
      "text/plain": [
       "LinearRegression()"
      ]
     },
     "execution_count": 38,
     "metadata": {},
     "output_type": "execute_result"
    }
   ],
   "source": [
    "m = LinearRegression()\n",
    "m.fit(X, y)"
   ]
  },
  {
   "cell_type": "code",
   "execution_count": 34,
   "metadata": {},
   "outputs": [],
   "source": [
    "# Make predictions for X\n",
    "ypred = m.predict(X)"
   ]
  },
  {
   "cell_type": "code",
   "execution_count": 35,
   "metadata": {},
   "outputs": [
    {
     "data": {
      "text/plain": [
       "[<matplotlib.lines.Line2D at 0x1a20a44e80>]"
      ]
     },
     "execution_count": 35,
     "metadata": {},
     "output_type": "execute_result"
    },
    {
     "data": {
      "image/png": "[encoded data removed]",
      "text/plain": [
       "<Figure size 864x432 with 1 Axes>"
      ]
     },
     "metadata": {
      "needs_background": "light"
     },
     "output_type": "display_data"
    }
   ],
   "source": [
    "# Plot the data\n",
    "plt.scatter(X, y)\n",
    "plt.plot(X, ypred, color='r')"
   ]
  },
  {
   "cell_type": "code",
   "execution_count": 36,
   "metadata": {},
   "outputs": [
    {
     "data": {
      "text/plain": [
       "array([3.13158623])"
      ]
     },
     "execution_count": 36,
     "metadata": {},
     "output_type": "execute_result"
    }
   ],
   "source": [
    "# The true value for w is 5 (We know that because we defined the relationship between X and y)\n",
    "m.coef_ # The estimated value of w is 3.13"
   ]
  },
  {
   "cell_type": "markdown",
   "metadata": {},
   "source": [
    "# Build a model that overfits"
   ]
  },
  {
   "cell_type": "code",
   "execution_count": 39,
   "metadata": {},
   "outputs": [],
   "source": [
    "import pandas as pd"
   ]
  },
  {
   "cell_type": "code",
   "execution_count": 40,
   "metadata": {},
   "outputs": [
    {
     "data": {
      "text/html": [
       "<div>\n",
       "<style scoped>\n",
       "    .dataframe tbody tr th:only-of-type {\n",
       "        vertical-align: middle;\n",
       "    }\n",
       "\n",
       "    .dataframe tbody tr th {\n",
       "        vertical-align: top;\n",
       "    }\n",
       "\n",
       "    .dataframe thead th {\n",
       "        text-align: right;\n",
       "    }\n",
       "</style>\n",
       "<table border=\"1\" class=\"dataframe\">\n",
       "  <thead>\n",
       "    <tr style=\"text-align: right;\">\n",
       "      <th></th>\n",
       "      <th>x</th>\n",
       "      <th>y</th>\n",
       "    </tr>\n",
       "  </thead>\n",
       "  <tbody>\n",
       "    <tr>\n",
       "      <th>0</th>\n",
       "      <td>0.000000</td>\n",
       "      <td>9.934283</td>\n",
       "    </tr>\n",
       "    <tr>\n",
       "      <th>1</th>\n",
       "      <td>1.428571</td>\n",
       "      <td>4.377571</td>\n",
       "    </tr>\n",
       "    <tr>\n",
       "      <th>2</th>\n",
       "      <td>2.857143</td>\n",
       "      <td>27.239485</td>\n",
       "    </tr>\n",
       "    <tr>\n",
       "      <th>3</th>\n",
       "      <td>4.285714</td>\n",
       "      <td>51.889169</td>\n",
       "    </tr>\n",
       "    <tr>\n",
       "      <th>4</th>\n",
       "      <td>5.714286</td>\n",
       "      <td>23.888361</td>\n",
       "    </tr>\n",
       "  </tbody>\n",
       "</table>\n",
       "</div>"
      ],
      "text/plain": [
       "          x          y\n",
       "0  0.000000   9.934283\n",
       "1  1.428571   4.377571\n",
       "2  2.857143  27.239485\n",
       "3  4.285714  51.889169\n",
       "4  5.714286  23.888361"
      ]
     },
     "execution_count": 40,
     "metadata": {},
     "output_type": "execute_result"
    }
   ],
   "source": [
    "# Create a DataFrame\n",
    "df = pd.DataFrame({\n",
    "    'x': x,\n",
    "    'y': y\n",
    "})\n",
    "\n",
    "df.head()"
   ]
  },
  {
   "cell_type": "code",
   "execution_count": 41,
   "metadata": {},
   "outputs": [
    {
     "data": {
      "text/html": [
       "<div>\n",
       "<style scoped>\n",
       "    .dataframe tbody tr th:only-of-type {\n",
       "        vertical-align: middle;\n",
       "    }\n",
       "\n",
       "    .dataframe tbody tr th {\n",
       "        vertical-align: top;\n",
       "    }\n",
       "\n",
       "    .dataframe thead th {\n",
       "        text-align: right;\n",
       "    }\n",
       "</style>\n",
       "<table border=\"1\" class=\"dataframe\">\n",
       "  <thead>\n",
       "    <tr style=\"text-align: right;\">\n",
       "      <th></th>\n",
       "      <th>x</th>\n",
       "      <th>y</th>\n",
       "      <th>x^2</th>\n",
       "    </tr>\n",
       "  </thead>\n",
       "  <tbody>\n",
       "    <tr>\n",
       "      <th>0</th>\n",
       "      <td>0.000000</td>\n",
       "      <td>9.934283</td>\n",
       "      <td>0.000000</td>\n",
       "    </tr>\n",
       "    <tr>\n",
       "      <th>1</th>\n",
       "      <td>1.428571</td>\n",
       "      <td>4.377571</td>\n",
       "      <td>2.040816</td>\n",
       "    </tr>\n",
       "    <tr>\n",
       "      <th>2</th>\n",
       "      <td>2.857143</td>\n",
       "      <td>27.239485</td>\n",
       "      <td>8.163265</td>\n",
       "    </tr>\n",
       "    <tr>\n",
       "      <th>3</th>\n",
       "      <td>4.285714</td>\n",
       "      <td>51.889169</td>\n",
       "      <td>18.367347</td>\n",
       "    </tr>\n",
       "    <tr>\n",
       "      <th>4</th>\n",
       "      <td>5.714286</td>\n",
       "      <td>23.888361</td>\n",
       "      <td>32.653061</td>\n",
       "    </tr>\n",
       "  </tbody>\n",
       "</table>\n",
       "</div>"
      ],
      "text/plain": [
       "          x          y        x^2\n",
       "0  0.000000   9.934283   0.000000\n",
       "1  1.428571   4.377571   2.040816\n",
       "2  2.857143  27.239485   8.163265\n",
       "3  4.285714  51.889169  18.367347\n",
       "4  5.714286  23.888361  32.653061"
      ]
     },
     "execution_count": 41,
     "metadata": {},
     "output_type": "execute_result"
    }
   ],
   "source": [
    "df['x^2'] = df['x']**2\n",
    "df.head()"
   ]
  },
  {
   "cell_type": "code",
   "execution_count": null,
   "metadata": {},
   "outputs": [],
   "source": [
    "m.fit(df[['x', 'x^2']], df['y'])\n",
    "# m.fit(X, y)\n",
    "# m.fit(explanatory_variables, dependent_variable)\n"
   ]
  },
  {
   "cell_type": "markdown",
   "metadata": {},
   "source": [
    "If we fit the model m.fit(df[['x', 'x^2']], df['y']), then we estimate the relationship\n",
    "\n",
    "$$\n",
    "y = b + w_1 * x + w_2 * x^2 + \\epsilon\n",
    "$$\n",
    "\n",
    "If we on the other hand fit the model m.fit(df[['x^2']], df['y']), then we estimate the relationship\n",
    "\n",
    "$$\n",
    "y = b + w_2 * x^2 + \\epsilon\n",
    "$$"
   ]
  },
  {
   "cell_type": "code",
   "execution_count": 51,
   "metadata": {},
   "outputs": [],
   "source": [
    "ypred_2 = m.predict(df[['x', 'x^2']])"
   ]
  },
  {
   "cell_type": "code",
   "execution_count": 52,
   "metadata": {},
   "outputs": [
    {
     "data": {
      "text/plain": [
       "[<matplotlib.lines.Line2D at 0x1a22af8da0>]"
      ]
     },
     "execution_count": 52,
     "metadata": {},
     "output_type": "execute_result"
    },
    {
     "data": {
      "image/png": "[encoded data removed]",
      "text/plain": [
       "<Figure size 864x432 with 1 Axes>"
      ]
     },
     "metadata": {
      "needs_background": "light"
     },
     "output_type": "display_data"
    }
   ],
   "source": [
    "plt.scatter(x, y)\n",
    "plt.plot(x, ypred_2, color='r')"
   ]
  },
  {
   "cell_type": "code",
   "execution_count": 53,
   "metadata": {},
   "outputs": [],
   "source": [
    "# Add PolynomialFeatures von scikit-learn\n",
    "from sklearn.preprocessing import PolynomialFeatures"
   ]
  },
  {
   "cell_type": "code",
   "execution_count": 60,
   "metadata": {},
   "outputs": [
    {
     "data": {
      "text/html": [
       "<div>\n",
       "<style scoped>\n",
       "    .dataframe tbody tr th:only-of-type {\n",
       "        vertical-align: middle;\n",
       "    }\n",
       "\n",
       "    .dataframe tbody tr th {\n",
       "        vertical-align: top;\n",
       "    }\n",
       "\n",
       "    .dataframe thead th {\n",
       "        text-align: right;\n",
       "    }\n",
       "</style>\n",
       "<table border=\"1\" class=\"dataframe\">\n",
       "  <thead>\n",
       "    <tr style=\"text-align: right;\">\n",
       "      <th></th>\n",
       "      <th>x0</th>\n",
       "      <th>x0^2</th>\n",
       "      <th>x0^3</th>\n",
       "      <th>x0^4</th>\n",
       "      <th>x0^5</th>\n",
       "      <th>x0^6</th>\n",
       "      <th>x0^7</th>\n",
       "      <th>x0^8</th>\n",
       "      <th>x0^9</th>\n",
       "    </tr>\n",
       "  </thead>\n",
       "  <tbody>\n",
       "    <tr>\n",
       "      <th>0</th>\n",
       "      <td>0.000000</td>\n",
       "      <td>0.000000</td>\n",
       "      <td>0.000000</td>\n",
       "      <td>0.000000</td>\n",
       "      <td>0.000000e+00</td>\n",
       "      <td>0.000000e+00</td>\n",
       "      <td>0.000000e+00</td>\n",
       "      <td>0.000000e+00</td>\n",
       "      <td>0.000000e+00</td>\n",
       "    </tr>\n",
       "    <tr>\n",
       "      <th>1</th>\n",
       "      <td>1.428571</td>\n",
       "      <td>2.040816</td>\n",
       "      <td>2.915452</td>\n",
       "      <td>4.164931</td>\n",
       "      <td>5.949902e+00</td>\n",
       "      <td>8.499860e+00</td>\n",
       "      <td>1.214266e+01</td>\n",
       "      <td>1.734665e+01</td>\n",
       "      <td>2.478093e+01</td>\n",
       "    </tr>\n",
       "    <tr>\n",
       "      <th>2</th>\n",
       "      <td>2.857143</td>\n",
       "      <td>8.163265</td>\n",
       "      <td>23.323615</td>\n",
       "      <td>66.638900</td>\n",
       "      <td>1.903969e+02</td>\n",
       "      <td>5.439910e+02</td>\n",
       "      <td>1.554260e+03</td>\n",
       "      <td>4.440743e+03</td>\n",
       "      <td>1.268784e+04</td>\n",
       "    </tr>\n",
       "    <tr>\n",
       "      <th>3</th>\n",
       "      <td>4.285714</td>\n",
       "      <td>18.367347</td>\n",
       "      <td>78.717201</td>\n",
       "      <td>337.359434</td>\n",
       "      <td>1.445826e+03</td>\n",
       "      <td>6.196398e+03</td>\n",
       "      <td>2.655599e+04</td>\n",
       "      <td>1.138114e+05</td>\n",
       "      <td>4.877631e+05</td>\n",
       "    </tr>\n",
       "    <tr>\n",
       "      <th>4</th>\n",
       "      <td>5.714286</td>\n",
       "      <td>32.653061</td>\n",
       "      <td>186.588921</td>\n",
       "      <td>1066.222407</td>\n",
       "      <td>6.092699e+03</td>\n",
       "      <td>3.481543e+04</td>\n",
       "      <td>1.989453e+05</td>\n",
       "      <td>1.136830e+06</td>\n",
       "      <td>6.496173e+06</td>\n",
       "    </tr>\n",
       "    <tr>\n",
       "      <th>5</th>\n",
       "      <td>7.142857</td>\n",
       "      <td>51.020408</td>\n",
       "      <td>364.431487</td>\n",
       "      <td>2603.082049</td>\n",
       "      <td>1.859344e+04</td>\n",
       "      <td>1.328103e+05</td>\n",
       "      <td>9.486451e+05</td>\n",
       "      <td>6.776036e+06</td>\n",
       "      <td>4.840026e+07</td>\n",
       "    </tr>\n",
       "    <tr>\n",
       "      <th>6</th>\n",
       "      <td>8.571429</td>\n",
       "      <td>73.469388</td>\n",
       "      <td>629.737609</td>\n",
       "      <td>5397.750937</td>\n",
       "      <td>4.626644e+04</td>\n",
       "      <td>3.965695e+05</td>\n",
       "      <td>3.399167e+06</td>\n",
       "      <td>2.913572e+07</td>\n",
       "      <td>2.497347e+08</td>\n",
       "    </tr>\n",
       "    <tr>\n",
       "      <th>7</th>\n",
       "      <td>10.000000</td>\n",
       "      <td>100.000000</td>\n",
       "      <td>1000.000000</td>\n",
       "      <td>10000.000000</td>\n",
       "      <td>1.000000e+05</td>\n",
       "      <td>1.000000e+06</td>\n",
       "      <td>1.000000e+07</td>\n",
       "      <td>1.000000e+08</td>\n",
       "      <td>1.000000e+09</td>\n",
       "    </tr>\n",
       "    <tr>\n",
       "      <th>8</th>\n",
       "      <td>11.428571</td>\n",
       "      <td>130.612245</td>\n",
       "      <td>1492.711370</td>\n",
       "      <td>17059.558517</td>\n",
       "      <td>1.949664e+05</td>\n",
       "      <td>2.228187e+06</td>\n",
       "      <td>2.546500e+07</td>\n",
       "      <td>2.910285e+08</td>\n",
       "      <td>3.326040e+09</td>\n",
       "    </tr>\n",
       "    <tr>\n",
       "      <th>9</th>\n",
       "      <td>12.857143</td>\n",
       "      <td>165.306122</td>\n",
       "      <td>2125.364431</td>\n",
       "      <td>27326.114119</td>\n",
       "      <td>3.513358e+05</td>\n",
       "      <td>4.517174e+06</td>\n",
       "      <td>5.807795e+07</td>\n",
       "      <td>7.467165e+08</td>\n",
       "      <td>9.600641e+09</td>\n",
       "    </tr>\n",
       "    <tr>\n",
       "      <th>10</th>\n",
       "      <td>14.285714</td>\n",
       "      <td>204.081633</td>\n",
       "      <td>2915.451895</td>\n",
       "      <td>41649.312786</td>\n",
       "      <td>5.949902e+05</td>\n",
       "      <td>8.499860e+06</td>\n",
       "      <td>1.214266e+08</td>\n",
       "      <td>1.734665e+09</td>\n",
       "      <td>2.478093e+10</td>\n",
       "    </tr>\n",
       "    <tr>\n",
       "      <th>11</th>\n",
       "      <td>15.714286</td>\n",
       "      <td>246.938776</td>\n",
       "      <td>3880.466472</td>\n",
       "      <td>60978.758850</td>\n",
       "      <td>9.582376e+05</td>\n",
       "      <td>1.505802e+07</td>\n",
       "      <td>2.366260e+08</td>\n",
       "      <td>3.718409e+09</td>\n",
       "      <td>5.843214e+10</td>\n",
       "    </tr>\n",
       "    <tr>\n",
       "      <th>12</th>\n",
       "      <td>17.142857</td>\n",
       "      <td>293.877551</td>\n",
       "      <td>5037.900875</td>\n",
       "      <td>86364.014994</td>\n",
       "      <td>1.480526e+06</td>\n",
       "      <td>2.538045e+07</td>\n",
       "      <td>4.350933e+08</td>\n",
       "      <td>7.458743e+09</td>\n",
       "      <td>1.278642e+11</td>\n",
       "    </tr>\n",
       "    <tr>\n",
       "      <th>13</th>\n",
       "      <td>18.571429</td>\n",
       "      <td>344.897959</td>\n",
       "      <td>6405.247813</td>\n",
       "      <td>118954.602249</td>\n",
       "      <td>2.209157e+06</td>\n",
       "      <td>4.102720e+07</td>\n",
       "      <td>7.619337e+08</td>\n",
       "      <td>1.415020e+10</td>\n",
       "      <td>2.627894e+11</td>\n",
       "    </tr>\n",
       "    <tr>\n",
       "      <th>14</th>\n",
       "      <td>20.000000</td>\n",
       "      <td>400.000000</td>\n",
       "      <td>8000.000000</td>\n",
       "      <td>160000.000000</td>\n",
       "      <td>3.200000e+06</td>\n",
       "      <td>6.400000e+07</td>\n",
       "      <td>1.280000e+09</td>\n",
       "      <td>2.560000e+10</td>\n",
       "      <td>5.120000e+11</td>\n",
       "    </tr>\n",
       "  </tbody>\n",
       "</table>\n",
       "</div>"
      ],
      "text/plain": [
       "           x0        x0^2         x0^3           x0^4          x0^5  \\\n",
       "0    0.000000    0.000000     0.000000       0.000000  0.000000e+00   \n",
       "1    1.428571    2.040816     2.915452       4.164931  5.949902e+00   \n",
       "2    2.857143    8.163265    23.323615      66.638900  1.903969e+02   \n",
       "3    4.285714   18.367347    78.717201     337.359434  1.445826e+03   \n",
       "4    5.714286   32.653061   186.588921    1066.222407  6.092699e+03   \n",
       "5    7.142857   51.020408   364.431487    2603.082049  1.859344e+04   \n",
       "6    8.571429   73.469388   629.737609    5397.750937  4.626644e+04   \n",
       "7   10.000000  100.000000  1000.000000   10000.000000  1.000000e+05   \n",
       "8   11.428571  130.612245  1492.711370   17059.558517  1.949664e+05   \n",
       "9   12.857143  165.306122  2125.364431   27326.114119  3.513358e+05   \n",
       "10  14.285714  204.081633  2915.451895   41649.312786  5.949902e+05   \n",
       "11  15.714286  246.938776  3880.466472   60978.758850  9.582376e+05   \n",
       "12  17.142857  293.877551  5037.900875   86364.014994  1.480526e+06   \n",
       "13  18.571429  344.897959  6405.247813  118954.602249  2.209157e+06   \n",
       "14  20.000000  400.000000  8000.000000  160000.000000  3.200000e+06   \n",
       "\n",
       "            x0^6          x0^7          x0^8          x0^9  \n",
       "0   0.000000e+00  0.000000e+00  0.000000e+00  0.000000e+00  \n",
       "1   8.499860e+00  1.214266e+01  1.734665e+01  2.478093e+01  \n",
       "2   5.439910e+02  1.554260e+03  4.440743e+03  1.268784e+04  \n",
       "3   6.196398e+03  2.655599e+04  1.138114e+05  4.877631e+05  \n",
       "4   3.481543e+04  1.989453e+05  1.136830e+06  6.496173e+06  \n",
       "5   1.328103e+05  9.486451e+05  6.776036e+06  4.840026e+07  \n",
       "6   3.965695e+05  3.399167e+06  2.913572e+07  2.497347e+08  \n",
       "7   1.000000e+06  1.000000e+07  1.000000e+08  1.000000e+09  \n",
       "8   2.228187e+06  2.546500e+07  2.910285e+08  3.326040e+09  \n",
       "9   4.517174e+06  5.807795e+07  7.467165e+08  9.600641e+09  \n",
       "10  8.499860e+06  1.214266e+08  1.734665e+09  2.478093e+10  \n",
       "11  1.505802e+07  2.366260e+08  3.718409e+09  5.843214e+10  \n",
       "12  2.538045e+07  4.350933e+08  7.458743e+09  1.278642e+11  \n",
       "13  4.102720e+07  7.619337e+08  1.415020e+10  2.627894e+11  \n",
       "14  6.400000e+07  1.280000e+09  2.560000e+10  5.120000e+11  "
      ]
     },
     "execution_count": 60,
     "metadata": {},
     "output_type": "execute_result"
    }
   ],
   "source": [
    "polynomial_transformer = PolynomialFeatures(degree=9, include_bias=False)\n",
    "polynomial_features = pd.DataFrame(polynomial_transformer.fit_transform(X), \n",
    "                                  columns=polynomial_transformer.get_feature_names())\n",
    "polynomial_features"
   ]
  },
  {
   "cell_type": "code",
   "execution_count": 62,
   "metadata": {},
   "outputs": [
    {
     "data": {
      "text/plain": [
       "LinearRegression()"
      ]
     },
     "execution_count": 62,
     "metadata": {},
     "output_type": "execute_result"
    }
   ],
   "source": [
    "# Fit a model\n",
    "m_poly = LinearRegression()\n",
    "m_poly.fit(polynomial_features, y)"
   ]
  },
  {
   "cell_type": "code",
   "execution_count": 63,
   "metadata": {},
   "outputs": [],
   "source": [
    "# Make predictions\n",
    "ypred_poly = m_poly.predict(polynomial_features)"
   ]
  },
  {
   "cell_type": "code",
   "execution_count": 65,
   "metadata": {},
   "outputs": [
    {
     "data": {
      "text/plain": [
       "[<matplotlib.lines.Line2D at 0x1a22c341d0>]"
      ]
     },
     "execution_count": 65,
     "metadata": {},
     "output_type": "execute_result"
    },
    {
     "data": {
      "image/png": "[encoded data removed]",
      "text/plain": [
       "<Figure size 864x432 with 1 Axes>"
      ]
     },
     "metadata": {
      "needs_background": "light"
     },
     "output_type": "display_data"
    }
   ],
   "source": [
    "# Plot the predictions and the observed data\n",
    "plt.scatter(x, y)\n",
    "plt.plot(x, ypred_poly, color='r')"
   ]
  },
  {
   "cell_type": "markdown",
   "metadata": {},
   "source": [
    "What do we observe?"
   ]
  },
  {
   "cell_type": "code",
   "execution_count": 17,
   "metadata": {},
   "outputs": [],
   "source": [
    "# Play around with the number of degrees"
   ]
  },
  {
   "cell_type": "markdown",
   "metadata": {},
   "source": [
    "# How can we solve the problem?"
   ]
  },
  {
   "cell_type": "markdown",
   "metadata": {},
   "source": [
    "One solution to the problem is Regularization!"
   ]
  },
  {
   "cell_type": "code",
   "execution_count": 72,
   "metadata": {},
   "outputs": [],
   "source": [
    "# Import the packages\n",
    "from sklearn.linear_model import Ridge, Lasso, ElasticNet"
   ]
  },
  {
   "cell_type": "markdown",
   "metadata": {},
   "source": [
    "## Scaling"
   ]
  },
  {
   "cell_type": "code",
   "execution_count": 67,
   "metadata": {},
   "outputs": [],
   "source": [
    "from sklearn.preprocessing import StandardScaler, MinMaxScaler"
   ]
  },
  {
   "cell_type": "code",
   "execution_count": 68,
   "metadata": {},
   "outputs": [],
   "source": [
    "# x_polynomial Werte skalieren\n",
    "scaler = StandardScaler()"
   ]
  },
  {
   "cell_type": "markdown",
   "metadata": {},
   "source": [
    "StandardScaler subtracts the mean from the value x and divides by the standard deviation.\n",
    "Thereby the resulting feature will have a mean of zero and a standard deviation of 1.\n",
    "\n",
    "$\\frac{x - \\overline{x}}{\\sigma}$"
   ]
  },
  {
   "cell_type": "code",
   "execution_count": 71,
   "metadata": {},
   "outputs": [
    {
     "data": {
      "text/html": [
       "<div>\n",
       "<style scoped>\n",
       "    .dataframe tbody tr th:only-of-type {\n",
       "        vertical-align: middle;\n",
       "    }\n",
       "\n",
       "    .dataframe tbody tr th {\n",
       "        vertical-align: top;\n",
       "    }\n",
       "\n",
       "    .dataframe thead th {\n",
       "        text-align: right;\n",
       "    }\n",
       "</style>\n",
       "<table border=\"1\" class=\"dataframe\">\n",
       "  <thead>\n",
       "    <tr style=\"text-align: right;\">\n",
       "      <th></th>\n",
       "      <th>x0</th>\n",
       "      <th>x0^2</th>\n",
       "      <th>x0^3</th>\n",
       "      <th>x0^4</th>\n",
       "      <th>x0^5</th>\n",
       "      <th>x0^6</th>\n",
       "      <th>x0^7</th>\n",
       "      <th>x0^8</th>\n",
       "      <th>x0^9</th>\n",
       "    </tr>\n",
       "  </thead>\n",
       "  <tbody>\n",
       "    <tr>\n",
       "      <th>0</th>\n",
       "      <td>-1.620185e+00</td>\n",
       "      <td>-1.078884</td>\n",
       "      <td>-0.858728</td>\n",
       "      <td>-0.734150</td>\n",
       "      <td>-0.652025</td>\n",
       "      <td>-0.592970</td>\n",
       "      <td>-0.548064</td>\n",
       "      <td>-0.512565</td>\n",
       "      <td>-0.483695</td>\n",
       "    </tr>\n",
       "    <tr>\n",
       "      <th>1</th>\n",
       "      <td>-1.388730e+00</td>\n",
       "      <td>-1.062940</td>\n",
       "      <td>-0.857559</td>\n",
       "      <td>-0.734064</td>\n",
       "      <td>-0.652019</td>\n",
       "      <td>-0.592970</td>\n",
       "      <td>-0.548064</td>\n",
       "      <td>-0.512565</td>\n",
       "      <td>-0.483695</td>\n",
       "    </tr>\n",
       "    <tr>\n",
       "      <th>2</th>\n",
       "      <td>-1.157275e+00</td>\n",
       "      <td>-1.015108</td>\n",
       "      <td>-0.849381</td>\n",
       "      <td>-0.732770</td>\n",
       "      <td>-0.651822</td>\n",
       "      <td>-0.592940</td>\n",
       "      <td>-0.548059</td>\n",
       "      <td>-0.512564</td>\n",
       "      <td>-0.483695</td>\n",
       "    </tr>\n",
       "    <tr>\n",
       "      <th>3</th>\n",
       "      <td>-9.258201e-01</td>\n",
       "      <td>-0.935387</td>\n",
       "      <td>-0.827183</td>\n",
       "      <td>-0.727164</td>\n",
       "      <td>-0.650482</td>\n",
       "      <td>-0.592631</td>\n",
       "      <td>-0.547989</td>\n",
       "      <td>-0.512548</td>\n",
       "      <td>-0.483691</td>\n",
       "    </tr>\n",
       "    <tr>\n",
       "      <th>4</th>\n",
       "      <td>-6.943651e-01</td>\n",
       "      <td>-0.823778</td>\n",
       "      <td>-0.783954</td>\n",
       "      <td>-0.712071</td>\n",
       "      <td>-0.645521</td>\n",
       "      <td>-0.591062</td>\n",
       "      <td>-0.547506</td>\n",
       "      <td>-0.512402</td>\n",
       "      <td>-0.483648</td>\n",
       "    </tr>\n",
       "    <tr>\n",
       "      <th>5</th>\n",
       "      <td>-4.629100e-01</td>\n",
       "      <td>-0.680282</td>\n",
       "      <td>-0.712686</td>\n",
       "      <td>-0.680247</td>\n",
       "      <td>-0.632176</td>\n",
       "      <td>-0.585691</td>\n",
       "      <td>-0.545405</td>\n",
       "      <td>-0.511597</td>\n",
       "      <td>-0.483344</td>\n",
       "    </tr>\n",
       "    <tr>\n",
       "      <th>6</th>\n",
       "      <td>-2.314550e-01</td>\n",
       "      <td>-0.504896</td>\n",
       "      <td>-0.606367</td>\n",
       "      <td>-0.622377</td>\n",
       "      <td>-0.602635</td>\n",
       "      <td>-0.571235</td>\n",
       "      <td>-0.538537</td>\n",
       "      <td>-0.508404</td>\n",
       "      <td>-0.481883</td>\n",
       "    </tr>\n",
       "    <tr>\n",
       "      <th>7</th>\n",
       "      <td>-2.878027e-16</td>\n",
       "      <td>-0.297623</td>\n",
       "      <td>-0.457988</td>\n",
       "      <td>-0.527078</td>\n",
       "      <td>-0.545273</td>\n",
       "      <td>-0.538161</td>\n",
       "      <td>-0.520036</td>\n",
       "      <td>-0.498284</td>\n",
       "      <td>-0.476440</td>\n",
       "    </tr>\n",
       "    <tr>\n",
       "      <th>8</th>\n",
       "      <td>2.314550e-01</td>\n",
       "      <td>-0.058462</td>\n",
       "      <td>-0.260539</td>\n",
       "      <td>-0.380894</td>\n",
       "      <td>-0.443895</td>\n",
       "      <td>-0.470845</td>\n",
       "      <td>-0.476692</td>\n",
       "      <td>-0.471003</td>\n",
       "      <td>-0.459565</td>\n",
       "    </tr>\n",
       "    <tr>\n",
       "      <th>9</th>\n",
       "      <td>4.629100e-01</td>\n",
       "      <td>0.212588</td>\n",
       "      <td>-0.007010</td>\n",
       "      <td>-0.168302</td>\n",
       "      <td>-0.276969</td>\n",
       "      <td>-0.345387</td>\n",
       "      <td>-0.385287</td>\n",
       "      <td>-0.405926</td>\n",
       "      <td>-0.414045</td>\n",
       "    </tr>\n",
       "    <tr>\n",
       "      <th>10</th>\n",
       "      <td>6.943651e-01</td>\n",
       "      <td>0.515526</td>\n",
       "      <td>0.309609</td>\n",
       "      <td>0.128291</td>\n",
       "      <td>-0.016864</td>\n",
       "      <td>-0.127099</td>\n",
       "      <td>-0.207738</td>\n",
       "      <td>-0.264836</td>\n",
       "      <td>-0.303916</td>\n",
       "    </tr>\n",
       "    <tr>\n",
       "      <th>11</th>\n",
       "      <td>9.258201e-01</td>\n",
       "      <td>0.850352</td>\n",
       "      <td>0.696329</td>\n",
       "      <td>0.528550</td>\n",
       "      <td>0.370909</td>\n",
       "      <td>0.232349</td>\n",
       "      <td>0.115135</td>\n",
       "      <td>0.018463</td>\n",
       "      <td>-0.059787</td>\n",
       "    </tr>\n",
       "    <tr>\n",
       "      <th>12</th>\n",
       "      <td>1.157275e+00</td>\n",
       "      <td>1.217066</td>\n",
       "      <td>1.160159</td>\n",
       "      <td>1.054207</td>\n",
       "      <td>0.928460</td>\n",
       "      <td>0.798114</td>\n",
       "      <td>0.671385</td>\n",
       "      <td>0.552621</td>\n",
       "      <td>0.443922</td>\n",
       "    </tr>\n",
       "    <tr>\n",
       "      <th>13</th>\n",
       "      <td>1.388730e+00</td>\n",
       "      <td>1.615669</td>\n",
       "      <td>1.708109</td>\n",
       "      <td>1.729067</td>\n",
       "      <td>1.706285</td>\n",
       "      <td>1.655702</td>\n",
       "      <td>1.587429</td>\n",
       "      <td>1.508230</td>\n",
       "      <td>1.422765</td>\n",
       "    </tr>\n",
       "    <tr>\n",
       "      <th>14</th>\n",
       "      <td>1.620185e+00</td>\n",
       "      <td>2.046159</td>\n",
       "      <td>2.347189</td>\n",
       "      <td>2.579002</td>\n",
       "      <td>2.764026</td>\n",
       "      <td>2.914825</td>\n",
       "      <td>3.039428</td>\n",
       "      <td>3.143379</td>\n",
       "      <td>3.230715</td>\n",
       "    </tr>\n",
       "  </tbody>\n",
       "</table>\n",
       "</div>"
      ],
      "text/plain": [
       "              x0      x0^2      x0^3      x0^4      x0^5      x0^6      x0^7  \\\n",
       "0  -1.620185e+00 -1.078884 -0.858728 -0.734150 -0.652025 -0.592970 -0.548064   \n",
       "1  -1.388730e+00 -1.062940 -0.857559 -0.734064 -0.652019 -0.592970 -0.548064   \n",
       "2  -1.157275e+00 -1.015108 -0.849381 -0.732770 -0.651822 -0.592940 -0.548059   \n",
       "3  -9.258201e-01 -0.935387 -0.827183 -0.727164 -0.650482 -0.592631 -0.547989   \n",
       "4  -6.943651e-01 -0.823778 -0.783954 -0.712071 -0.645521 -0.591062 -0.547506   \n",
       "5  -4.629100e-01 -0.680282 -0.712686 -0.680247 -0.632176 -0.585691 -0.545405   \n",
       "6  -2.314550e-01 -0.504896 -0.606367 -0.622377 -0.602635 -0.571235 -0.538537   \n",
       "7  -2.878027e-16 -0.297623 -0.457988 -0.527078 -0.545273 -0.538161 -0.520036   \n",
       "8   2.314550e-01 -0.058462 -0.260539 -0.380894 -0.443895 -0.470845 -0.476692   \n",
       "9   4.629100e-01  0.212588 -0.007010 -0.168302 -0.276969 -0.345387 -0.385287   \n",
       "10  6.943651e-01  0.515526  0.309609  0.128291 -0.016864 -0.127099 -0.207738   \n",
       "11  9.258201e-01  0.850352  0.696329  0.528550  0.370909  0.232349  0.115135   \n",
       "12  1.157275e+00  1.217066  1.160159  1.054207  0.928460  0.798114  0.671385   \n",
       "13  1.388730e+00  1.615669  1.708109  1.729067  1.706285  1.655702  1.587429   \n",
       "14  1.620185e+00  2.046159  2.347189  2.579002  2.764026  2.914825  3.039428   \n",
       "\n",
       "        x0^8      x0^9  \n",
       "0  -0.512565 -0.483695  \n",
       "1  -0.512565 -0.483695  \n",
       "2  -0.512564 -0.483695  \n",
       "3  -0.512548 -0.483691  \n",
       "4  -0.512402 -0.483648  \n",
       "5  -0.511597 -0.483344  \n",
       "6  -0.508404 -0.481883  \n",
       "7  -0.498284 -0.476440  \n",
       "8  -0.471003 -0.459565  \n",
       "9  -0.405926 -0.414045  \n",
       "10 -0.264836 -0.303916  \n",
       "11  0.018463 -0.059787  \n",
       "12  0.552621  0.443922  \n",
       "13  1.508230  1.422765  \n",
       "14  3.143379  3.230715  "
      ]
     },
     "execution_count": 71,
     "metadata": {},
     "output_type": "execute_result"
    }
   ],
   "source": [
    "scaled_features = pd.DataFrame(scaler.fit_transform(polynomial_features), columns=polynomial_features.columns)\n",
    "scaled_features"
   ]
  },
  {
   "cell_type": "markdown",
   "metadata": {},
   "source": [
    "## Try different models"
   ]
  },
  {
   "cell_type": "code",
   "execution_count": 87,
   "metadata": {},
   "outputs": [],
   "source": [
    "# Choose an alpha parameter\n",
    "alpha = 2.0"
   ]
  },
  {
   "cell_type": "code",
   "execution_count": 109,
   "metadata": {},
   "outputs": [
    {
     "data": {
      "text/plain": [
       "ElasticNet(alpha=2.0, l1_ratio=1)"
      ]
     },
     "execution_count": 109,
     "metadata": {},
     "output_type": "execute_result"
    }
   ],
   "source": [
    "# Lineare Regression\n",
    "m_lin = LinearRegression()\n",
    "m_lin.fit(scaled_features, y)\n",
    "\n",
    "# Ridge Regression\n",
    "m_ridge = Ridge(alpha=alpha)\n",
    "m_ridge.fit(scaled_features, y)\n",
    "\n",
    "# Lasso Regression\n",
    "m_lasso = Lasso(alpha=alpha)\n",
    "m_lasso.fit(scaled_features, y)\n",
    "\n",
    "# ElasticNet Regression\n",
    "m_elastic = ElasticNet(alpha=alpha, l1_ratio=1)\n",
    "m_elastic.fit(scaled_features, y)"
   ]
  },
  {
   "cell_type": "code",
   "execution_count": 110,
   "metadata": {},
   "outputs": [],
   "source": [
    "# Make predictions\n",
    "ypred_lin = m_lin.predict(scaled_features)\n",
    "ypred_ridge = m_ridge.predict(scaled_features)\n",
    "ypred_lasso = m_lasso.predict(scaled_features)\n",
    "ypred_elastic = m_elastic.predict(scaled_features)"
   ]
  },
  {
   "cell_type": "code",
   "execution_count": 111,
   "metadata": {},
   "outputs": [
    {
     "data": {
      "image/png": "[encoded data removed]",
      "text/plain": [
       "<Figure size 864x432 with 1 Axes>"
      ]
     },
     "metadata": {
      "needs_background": "light"
     },
     "output_type": "display_data"
    }
   ],
   "source": [
    "# Plot the result\n",
    "plt.scatter(x, y)\n",
    "plt.plot(x, ypred_lin, label='linear')\n",
    "plt.plot(x, ypred_ridge, label='ridge')\n",
    "plt.plot(x, ypred_lasso, label='lasso')\n",
    "plt.plot(x, ypred_elastic, label='elastic')\n",
    "plt.legend()\n",
    "plt.show()"
   ]
  },
  {
   "cell_type": "markdown",
   "metadata": {},
   "source": [
    "#### How do we find an adequate alpha?"
   ]
  },
  {
   "cell_type": "code",
   "execution_count": 91,
   "metadata": {},
   "outputs": [],
   "source": [
    "from sklearn.linear_model import Ridge, RidgeCV"
   ]
  },
  {
   "cell_type": "code",
   "execution_count": 92,
   "metadata": {},
   "outputs": [],
   "source": [
    "m_ridge_cv = RidgeCV(alphas=(0.1, 1.0, 2.0, 10.0))"
   ]
  },
  {
   "cell_type": "code",
   "execution_count": 93,
   "metadata": {},
   "outputs": [
    {
     "data": {
      "text/plain": [
       "RidgeCV(alphas=array([ 0.1,  1. ,  2. , 10. ]))"
      ]
     },
     "execution_count": 93,
     "metadata": {},
     "output_type": "execute_result"
    }
   ],
   "source": [
    "m_ridge_cv.fit(scaled_features, y)"
   ]
  },
  {
   "cell_type": "code",
   "execution_count": 97,
   "metadata": {},
   "outputs": [
    {
     "data": {
      "text/plain": [
       "2.0"
      ]
     },
     "execution_count": 97,
     "metadata": {},
     "output_type": "execute_result"
    }
   ],
   "source": [
    "m_ridge_cv.alpha_"
   ]
  },
  {
   "cell_type": "markdown",
   "metadata": {},
   "source": [
    "# Ridge and Lasso are behaving differently"
   ]
  },
  {
   "cell_type": "code",
   "execution_count": 98,
   "metadata": {},
   "outputs": [
    {
     "data": {
      "text/plain": [
       "array([16.54747764,  7.08334924,  2.35140353, -0.11027551, -1.42556572,\n",
       "       -2.12492206, -2.47476347, -2.61374538, -2.61644801])"
      ]
     },
     "execution_count": 98,
     "metadata": {},
     "output_type": "execute_result"
    }
   ],
   "source": [
    "m_ridge.coef_"
   ]
  },
  {
   "cell_type": "code",
   "execution_count": 99,
   "metadata": {},
   "outputs": [
    {
     "data": {
      "text/plain": [
       "array([20.2466749 ,  0.        , -0.        , -0.        , -0.        ,\n",
       "       -0.        , -0.        , -0.        , -4.25120484])"
      ]
     },
     "execution_count": 99,
     "metadata": {},
     "output_type": "execute_result"
    }
   ],
   "source": [
    "m_lasso.coef_"
   ]
  },
  {
   "cell_type": "markdown",
   "metadata": {},
   "source": [
    "Lasso will drive down a lot of the coefficients to 0. Lasso can be used as a method of automatic feature reduction.\n",
    "\n",
    "If you have domain knowledge and you are sure that all variables actually explain something, then you should rather use Ridge.\n",
    "\n",
    "If you domain knowledge and you are sure that a lot of variables are negligible, then you might rather want to use Lasso.\n",
    "\n",
    "If you are unsure, you might want to use Elastic Net."
   ]
  },
  {
   "cell_type": "code",
   "execution_count": null,
   "metadata": {},
   "outputs": [],
   "source": []
  }
 ],
 "metadata": {
  "kernelspec": {
   "display_name": "Python 3",
   "language": "python",
   "name": "python3"
  },
  "language_info": {
   "codemirror_mode": {
    "name": "ipython",
    "version": 3
   },
   "file_extension": ".py",
   "mimetype": "text/x-python",
   "name": "python",
   "nbconvert_exporter": "python",
   "pygments_lexer": "ipython3",
   "version": "3.7.3"
  }
 },
 "nbformat": 4,
 "nbformat_minor": 4
}
